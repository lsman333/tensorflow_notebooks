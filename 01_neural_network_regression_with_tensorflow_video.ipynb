{
 "cells": [
  {
   "cell_type": "markdown",
   "metadata": {
    "id": "3Th3f7yYVUVv"
   },
   "source": [
    "# Introduction to regression with neural networks in TensorFlow\n",
    "\n",
    "There are many definitions for a regression problem but in our case, we're going to simplify it: predicting a numerical variable based on some other combinations of variables, even shorter... predicting a number."
   ]
  },
  {
   "cell_type": "code",
   "execution_count": null,
   "metadata": {
    "colab": {
     "base_uri": "https://localhost:8080/"
    },
    "executionInfo": {
     "elapsed": 3439,
     "status": "ok",
     "timestamp": 1731038605805,
     "user": {
      "displayName": "Mark",
      "userId": "05293542057377705486"
     },
     "user_tz": 300
    },
    "id": "FcfAnZbn7fBb",
    "outputId": "c275fd32-f510-4d91-d622-733362f8ff6d"
   },
   "outputs": [],
   "source": [
    "#We need to install tf version 2.15 for compatibility with this notebook (written in March 2024).\n",
    "!pip install tensorflow==2.15.0"
   ]
  },
  {
   "cell_type": "code",
   "execution_count": 3,
   "metadata": {
    "colab": {
     "base_uri": "https://localhost:8080/"
    },
    "executionInfo": {
     "elapsed": 5,
     "status": "ok",
     "timestamp": 1731038605805,
     "user": {
      "displayName": "Mark",
      "userId": "05293542057377705486"
     },
     "user_tz": 300
    },
    "id": "DJbyzUkRrix7",
    "outputId": "2c55d05a-ce9b-448e-c07f-57e972e8bbb0"
   },
   "outputs": [
    {
     "name": "stdout",
     "output_type": "stream",
     "text": [
      "2.15.0\n"
     ]
    }
   ],
   "source": [
    "# import tensorflow\n",
    "import tensorflow as tf\n",
    "print(tf.__version__)"
   ]
  },
  {
   "cell_type": "markdown",
   "metadata": {
    "id": "EpqURHuirtK5"
   },
   "source": [
    "Creating data to view and fit"
   ]
  },
  {
   "cell_type": "code",
   "execution_count": 4,
   "metadata": {
    "executionInfo": {
     "elapsed": 4,
     "status": "ok",
     "timestamp": 1731038605805,
     "user": {
      "displayName": "Mark",
      "userId": "05293542057377705486"
     },
     "user_tz": 300
    },
    "id": "yCKRSYrjr1Js"
   },
   "outputs": [],
   "source": [
    "import numpy as np\n",
    "import matplotlib.pyplot as plt"
   ]
  },
  {
   "cell_type": "code",
   "execution_count": 5,
   "metadata": {
    "colab": {
     "base_uri": "https://localhost:8080/",
     "height": 452
    },
    "executionInfo": {
     "elapsed": 563,
     "status": "ok",
     "timestamp": 1731038606364,
     "user": {
      "displayName": "Mark",
      "userId": "05293542057377705486"
     },
     "user_tz": 300
    },
    "id": "Qd-gF5a-r8KI",
    "outputId": "8e441790-d063-406a-e24a-58d7e3bf9a19"
   },
   "outputs": [
    {
     "data": {
      "text/plain": [
       "<matplotlib.collections.PathCollection at 0x7f046fdeb0d0>"
      ]
     },
     "execution_count": 5,
     "metadata": {},
     "output_type": "execute_result"
    },
    {
     "data": {
      "image/png": "[encoded data removed]",
      "text/plain": [
       "<Figure size 640x480 with 1 Axes>"
      ]
     },
     "metadata": {},
     "output_type": "display_data"
    }
   ],
   "source": [
    "#Create features\n",
    "X = np.array([-7.0,-4.0,-1.0,2.0,5.0,8.0,11.0,14.0])\n",
    "\n",
    "#Create labels\n",
    "y = np.array([3.0,6.0,9.0,12.0,15.0,18.0, 21.0, 24.0])\n",
    "\n",
    "#Visualize it\n",
    "plt.scatter(X,y)"
   ]
  },
  {
   "cell_type": "code",
   "execution_count": 6,
   "metadata": {
    "colab": {
     "base_uri": "https://localhost:8080/"
    },
    "executionInfo": {
     "elapsed": 4,
     "status": "ok",
     "timestamp": 1731038606365,
     "user": {
      "displayName": "Mark",
      "userId": "05293542057377705486"
     },
     "user_tz": 300
    },
    "id": "0IzasUSLtUiZ",
    "outputId": "5894778d-d07d-4080-d5ef-240f3fc47198"
   },
   "outputs": [
    {
     "data": {
      "text/plain": [
       "array([ 3.,  6.,  9., 12., 15., 18., 21., 24.])"
      ]
     },
     "execution_count": 6,
     "metadata": {},
     "output_type": "execute_result"
    }
   ],
   "source": [
    "X + 10"
   ]
  },
  {
   "cell_type": "code",
   "execution_count": 7,
   "metadata": {
    "colab": {
     "base_uri": "https://localhost:8080/"
    },
    "executionInfo": {
     "elapsed": 3,
     "status": "ok",
     "timestamp": 1731038606365,
     "user": {
      "displayName": "Mark",
      "userId": "05293542057377705486"
     },
     "user_tz": 300
    },
    "id": "jK1Gslg_tV5w",
    "outputId": "1c644a3c-014a-43c7-e254-39ad5e755afe"
   },
   "outputs": [
    {
     "data": {
      "text/plain": [
       "array([ True,  True,  True,  True,  True,  True,  True,  True])"
      ]
     },
     "execution_count": 7,
     "metadata": {},
     "output_type": "execute_result"
    }
   ],
   "source": [
    "y == X + 10"
   ]
  },
  {
   "cell_type": "code",
   "execution_count": 8,
   "metadata": {
    "colab": {
     "base_uri": "https://localhost:8080/"
    },
    "executionInfo": {
     "elapsed": 83,
     "status": "ok",
     "timestamp": 1731038606446,
     "user": {
      "displayName": "Mark",
      "userId": "05293542057377705486"
     },
     "user_tz": 300
    },
    "id": "zkfczF6vtWAg",
    "outputId": "1f57f2a4-dde5-4d22-90dd-792ebe3eff61"
   },
   "outputs": [
    {
     "data": {
      "text/plain": [
       "(<tf.Tensor: shape=(3,), dtype=string, numpy=array([b'bedroom', b'bathroom', b'garage'], dtype=object)>,\n",
       " <tf.Tensor: shape=(1,), dtype=int32, numpy=array([937900], dtype=int32)>)"
      ]
     },
     "execution_count": 8,
     "metadata": {},
     "output_type": "execute_result"
    }
   ],
   "source": [
    "#Create a demo tensor for our housing price prediction problem\n",
    "house_info = tf.constant([\"bedroom\", \"bathroom\", \"garage\"])\n",
    "house_price = tf.constant([937900])\n",
    "house_info, house_price"
   ]
  },
  {
   "cell_type": "code",
   "execution_count": 9,
   "metadata": {
    "colab": {
     "base_uri": "https://localhost:8080/"
    },
    "executionInfo": {
     "elapsed": 4,
     "status": "ok",
     "timestamp": 1731038606446,
     "user": {
      "displayName": "Mark",
      "userId": "05293542057377705486"
     },
     "user_tz": 300
    },
    "id": "5RB9M9EzurVU",
    "outputId": "1194f106-950a-4c14-f231-a5f753626aa0"
   },
   "outputs": [
    {
     "data": {
      "text/plain": [
       "(-7.0, 3.0)"
      ]
     },
     "execution_count": 9,
     "metadata": {},
     "output_type": "execute_result"
    }
   ],
   "source": [
    "X[0],y[0]"
   ]
  },
  {
   "cell_type": "code",
   "execution_count": 10,
   "metadata": {
    "colab": {
     "base_uri": "https://localhost:8080/"
    },
    "executionInfo": {
     "elapsed": 3,
     "status": "ok",
     "timestamp": 1731038606446,
     "user": {
      "displayName": "Mark",
      "userId": "05293542057377705486"
     },
     "user_tz": 300
    },
    "id": "73nHXjdLu5dn",
    "outputId": "d81a6ffc-9837-4501-fbf3-c7f0479b1b57"
   },
   "outputs": [
    {
     "data": {
      "text/plain": [
       "(-4.0, 6.0)"
      ]
     },
     "execution_count": 10,
     "metadata": {},
     "output_type": "execute_result"
    }
   ],
   "source": [
    "X[1],y[1]"
   ]
  },
  {
   "cell_type": "code",
   "execution_count": 11,
   "metadata": {
    "colab": {
     "base_uri": "https://localhost:8080/"
    },
    "executionInfo": {
     "elapsed": 2,
     "status": "ok",
     "timestamp": 1731038606446,
     "user": {
      "displayName": "Mark",
      "userId": "05293542057377705486"
     },
     "user_tz": 300
    },
    "id": "wBDUi4sFueLB",
    "outputId": "17b96d75-e68a-43b5-d07f-e46a9e12c9f7"
   },
   "outputs": [
    {
     "data": {
      "text/plain": [
       "((8,), (8,))"
      ]
     },
     "execution_count": 11,
     "metadata": {},
     "output_type": "execute_result"
    }
   ],
   "source": [
    "input_shape = X.shape\n",
    "output_shape = y.shape\n",
    "input_shape, output_shape"
   ]
  },
  {
   "cell_type": "code",
   "execution_count": 12,
   "metadata": {
    "colab": {
     "base_uri": "https://localhost:8080/"
    },
    "executionInfo": {
     "elapsed": 120,
     "status": "ok",
     "timestamp": 1731038606565,
     "user": {
      "displayName": "Mark",
      "userId": "05293542057377705486"
     },
     "user_tz": 300
    },
    "id": "4AI1n3zwvQkh",
    "outputId": "9e27cbe1-fd44-4501-8ce3-fb6b231f90c1"
   },
   "outputs": [
    {
     "data": {
      "text/plain": [
       "0"
      ]
     },
     "execution_count": 12,
     "metadata": {},
     "output_type": "execute_result"
    }
   ],
   "source": [
    "X[0].ndim"
   ]
  },
  {
   "cell_type": "markdown",
   "metadata": {
    "id": "sqUgb5PhVotF"
   },
   "source": []
  },
  {
   "cell_type": "code",
   "execution_count": 13,
   "metadata": {
    "colab": {
     "base_uri": "https://localhost:8080/"
    },
    "executionInfo": {
     "elapsed": 3,
     "status": "ok",
     "timestamp": 1731038606565,
     "user": {
      "displayName": "Mark",
      "userId": "05293542057377705486"
     },
     "user_tz": 300
    },
    "id": "phh8AmAsvoJj",
    "outputId": "1c759906-4598-4e63-b5fd-4abb174fff43"
   },
   "outputs": [
    {
     "data": {
      "text/plain": [
       "(TensorShape([]), TensorShape([]))"
      ]
     },
     "execution_count": 13,
     "metadata": {},
     "output_type": "execute_result"
    }
   ],
   "source": [
    "#Turn our numpy arrays into tensors with dtype=float32\n",
    "X = tf.cast(tf.constant(X), dtype=tf.float32)\n",
    "y = tf.cast(tf.constant(y), dtype=tf.float32)\n",
    "X,y\n",
    "\n",
    "input_shape = X[0].shape\n",
    "output_shape = y[0].shape\n",
    "\n",
    "input_shape, output_shape"
   ]
  },
  {
   "cell_type": "code",
   "execution_count": 14,
   "metadata": {
    "colab": {
     "base_uri": "https://localhost:8080/",
     "height": 452
    },
    "executionInfo": {
     "elapsed": 322,
     "status": "ok",
     "timestamp": 1731038606885,
     "user": {
      "displayName": "Mark",
      "userId": "05293542057377705486"
     },
     "user_tz": 300
    },
    "id": "sVSDduDEwN-6",
    "outputId": "2ea58ea1-584b-44f4-fcc6-1f32a2e4abdb"
   },
   "outputs": [
    {
     "data": {
      "text/plain": [
       "<matplotlib.collections.PathCollection at 0x7f046fcc8a90>"
      ]
     },
     "execution_count": 14,
     "metadata": {},
     "output_type": "execute_result"
    },
    {
     "data": {
      "image/png": "[encoded data removed]",
      "text/plain": [
       "<Figure size 640x480 with 1 Axes>"
      ]
     },
     "metadata": {},
     "output_type": "display_data"
    }
   ],
   "source": [
    "plt.scatter(X, y)"
   ]
  },
  {
   "cell_type": "code",
   "execution_count": 14,
   "metadata": {
    "executionInfo": {
     "elapsed": 1,
     "status": "ok",
     "timestamp": 1731038606885,
     "user": {
      "displayName": "Mark",
      "userId": "05293542057377705486"
     },
     "user_tz": 300
    },
    "id": "_kg6t1NWxkg5"
   },
   "outputs": [],
   "source": []
  },
  {
   "cell_type": "markdown",
   "metadata": {
    "id": "lsGtfSL0wS1E"
   },
   "source": [
    "##Steps in modelling with TensorFlow"
   ]
  },
  {
   "cell_type": "markdown",
   "metadata": {
    "id": "T-hqgjRlwZ-4"
   },
   "source": [
    "# 1. **Creating a model** - define the input and output layers, as well as the hidden layers of a deep\n",
    "# 2. **Compile a model** - define the loss function (in other words, the function which tells our model how wrong it is), and the optimizer\n",
    "#. Optimizer tells our model how to improve the pattern it is learning) and evaluation metrics (what we can use to interpret the performance\n",
    "# of our model)\n",
    "# 3. **Fitting our model**.  Letting hte model find patterns between x and Y (features and labels)"
   ]
  },
  {
   "cell_type": "code",
   "execution_count": 15,
   "metadata": {
    "colab": {
     "base_uri": "https://localhost:8080/"
    },
    "executionInfo": {
     "elapsed": 1697,
     "status": "ok",
     "timestamp": 1731038608581,
     "user": {
      "displayName": "Mark",
      "userId": "05293542057377705486"
     },
     "user_tz": 300
    },
    "id": "ffbaV7myxlnc",
    "outputId": "b03c4753-e203-4348-f14d-1a576177695d"
   },
   "outputs": [
    {
     "name": "stdout",
     "output_type": "stream",
     "text": [
      "Epoch 1/5\n",
      "1/1 [==============================] - 1s 1s/step - loss: 19.6290 - mae: 19.6290\n",
      "Epoch 2/5\n",
      "1/1 [==============================] - 0s 20ms/step - loss: 19.3478 - mae: 19.3478\n",
      "Epoch 3/5\n",
      "1/1 [==============================] - 0s 10ms/step - loss: 19.0665 - mae: 19.0665\n",
      "Epoch 4/5\n",
      "1/1 [==============================] - 0s 9ms/step - loss: 18.7853 - mae: 18.7853\n",
      "Epoch 5/5\n",
      "1/1 [==============================] - 0s 28ms/step - loss: 18.5040 - mae: 18.5040\n"
     ]
    },
    {
     "data": {
      "text/plain": [
       "<keras.src.callbacks.History at 0x7f046fca6620>"
      ]
     },
     "execution_count": 15,
     "metadata": {},
     "output_type": "execute_result"
    }
   ],
   "source": [
    "tf.random.set_seed(42)\n",
    "\n",
    "# 1. Create a model using the Sequential API\n",
    "model = tf.keras.Sequential([\n",
    "    tf.keras.layers.Dense(1)\n",
    "])\n",
    "\n",
    "# 2. Compile the model\n",
    "model.compile(loss=tf.keras.losses.mae, #mae is short for mean absolute error\n",
    "              optimizer=tf.keras.optimizers.SGD(), #SGD is short for stochastic gradient descent\n",
    "              metrics=[\"mae\"])\n",
    "\n",
    "# 3. Fit the model\n",
    "#model.fit(X, y, epochs = 5)\n",
    "model.fit(tf.expand_dims(X, axis=-1), y, epochs=5)"
   ]
  },
  {
   "cell_type": "code",
   "execution_count": 16,
   "metadata": {
    "colab": {
     "base_uri": "https://localhost:8080/"
    },
    "executionInfo": {
     "elapsed": 3,
     "status": "ok",
     "timestamp": 1731038608581,
     "user": {
      "displayName": "Mark",
      "userId": "05293542057377705486"
     },
     "user_tz": 300
    },
    "id": "1xJiYoRg3ZxI",
    "outputId": "5e366607-49fa-479c-f9b4-948f1f9691ea"
   },
   "outputs": [
    {
     "data": {
      "text/plain": [
       "(<tf.Tensor: shape=(8,), dtype=float32, numpy=array([-7., -4., -1.,  2.,  5.,  8., 11., 14.], dtype=float32)>,\n",
       " <tf.Tensor: shape=(8,), dtype=float32, numpy=array([ 3.,  6.,  9., 12., 15., 18., 21., 24.], dtype=float32)>)"
      ]
     },
     "execution_count": 16,
     "metadata": {},
     "output_type": "execute_result"
    }
   ],
   "source": [
    "# Check out X and y\n",
    "X, y"
   ]
  },
  {
   "cell_type": "code",
   "execution_count": 17,
   "metadata": {
    "colab": {
     "base_uri": "https://localhost:8080/"
    },
    "executionInfo": {
     "elapsed": 470,
     "status": "ok",
     "timestamp": 1731038609049,
     "user": {
      "displayName": "Mark",
      "userId": "05293542057377705486"
     },
     "user_tz": 300
    },
    "id": "7_cdDr7V3gJS",
    "outputId": "6f4ead90-2a8b-4b97-8b95-ea28611cdfbe"
   },
   "outputs": [
    {
     "name": "stdout",
     "output_type": "stream",
     "text": [
      "1/1 [==============================] - 0s 270ms/step\n"
     ]
    },
    {
     "data": {
      "text/plain": [
       "array([[-17.774946]], dtype=float32)"
      ]
     },
     "execution_count": 17,
     "metadata": {},
     "output_type": "execute_result"
    }
   ],
   "source": [
    "#Try and make a prediction using our model\n",
    "y_pred = model.predict([17.0])\n",
    "y_pred"
   ]
  },
  {
   "cell_type": "markdown",
   "metadata": {
    "id": "UZda9_XS4XfV"
   },
   "source": [
    "##Improving our model\n",
    "We can improve our model by altering hte steps we took in creating the model\n",
    "1. Create the model - add more layers... increase number of hidden units (neurons) within each of hidden layers... change activation functions of each layer\n",
    "2. When compiling a model, here we might change optimization function or perhaps learning rate of said optimization function.\n",
    "3. When fitting a model, here we might fit a model for more epochs (let model look at training data... leave it training for longer... or on more data.  Give model more examples to learn from)."
   ]
  },
  {
   "cell_type": "code",
   "execution_count": 18,
   "metadata": {
    "colab": {
     "base_uri": "https://localhost:8080/"
    },
    "executionInfo": {
     "elapsed": 7131,
     "status": "ok",
     "timestamp": 1731038616179,
     "user": {
      "displayName": "Mark",
      "userId": "05293542057377705486"
     },
     "user_tz": 300
    },
    "id": "zuZET0R5MnF5",
    "outputId": "a935a710-f264-4538-9a6c-343eb78ef52d"
   },
   "outputs": [
    {
     "name": "stdout",
     "output_type": "stream",
     "text": [
      "Epoch 1/100\n",
      "1/1 [==============================] - 2s 2s/step - loss: 16.6266 - mae: 16.6266\n",
      "Epoch 2/100\n",
      "1/1 [==============================] - 0s 16ms/step - loss: 16.3453 - mae: 16.3453\n",
      "Epoch 3/100\n",
      "1/1 [==============================] - 0s 22ms/step - loss: 16.0641 - mae: 16.0641\n",
      "Epoch 4/100\n",
      "1/1 [==============================] - 0s 33ms/step - loss: 15.7828 - mae: 15.7828\n",
      "Epoch 5/100\n",
      "1/1 [==============================] - 0s 53ms/step - loss: 15.5016 - mae: 15.5016\n",
      "Epoch 6/100\n",
      "1/1 [==============================] - 0s 31ms/step - loss: 15.2203 - mae: 15.2203\n",
      "Epoch 7/100\n",
      "1/1 [==============================] - 0s 40ms/step - loss: 14.9391 - mae: 14.9391\n",
      "Epoch 8/100\n",
      "1/1 [==============================] - 0s 18ms/step - loss: 14.7456 - mae: 14.7456\n",
      "Epoch 9/100\n",
      "1/1 [==============================] - 0s 23ms/step - loss: 14.6131 - mae: 14.6131\n",
      "Epoch 10/100\n",
      "1/1 [==============================] - 0s 60ms/step - loss: 14.4806 - mae: 14.4806\n",
      "Epoch 11/100\n",
      "1/1 [==============================] - 0s 19ms/step - loss: 14.3481 - mae: 14.3481\n",
      "Epoch 12/100\n",
      "1/1 [==============================] - 0s 26ms/step - loss: 14.2156 - mae: 14.2156\n",
      "Epoch 13/100\n",
      "1/1 [==============================] - 0s 16ms/step - loss: 14.0831 - mae: 14.0831\n",
      "Epoch 14/100\n",
      "1/1 [==============================] - 0s 12ms/step - loss: 13.9506 - mae: 13.9506\n",
      "Epoch 15/100\n",
      "1/1 [==============================] - 0s 18ms/step - loss: 13.8181 - mae: 13.8181\n",
      "Epoch 16/100\n",
      "1/1 [==============================] - 0s 18ms/step - loss: 13.6856 - mae: 13.6856\n",
      "Epoch 17/100\n",
      "1/1 [==============================] - 0s 13ms/step - loss: 13.5531 - mae: 13.5531\n",
      "Epoch 18/100\n",
      "1/1 [==============================] - 0s 20ms/step - loss: 13.4206 - mae: 13.4206\n",
      "Epoch 19/100\n",
      "1/1 [==============================] - 0s 31ms/step - loss: 13.2881 - mae: 13.2881\n",
      "Epoch 20/100\n",
      "1/1 [==============================] - 0s 35ms/step - loss: 13.1556 - mae: 13.1556\n",
      "Epoch 21/100\n",
      "1/1 [==============================] - 0s 20ms/step - loss: 13.0231 - mae: 13.0231\n",
      "Epoch 22/100\n",
      "1/1 [==============================] - 0s 30ms/step - loss: 12.8906 - mae: 12.8906\n",
      "Epoch 23/100\n",
      "1/1 [==============================] - 0s 28ms/step - loss: 12.7581 - mae: 12.7581\n",
      "Epoch 24/100\n",
      "1/1 [==============================] - 0s 25ms/step - loss: 12.6256 - mae: 12.6256\n",
      "Epoch 25/100\n",
      "1/1 [==============================] - 0s 15ms/step - loss: 12.4931 - mae: 12.4931\n",
      "Epoch 26/100\n",
      "1/1 [==============================] - 0s 19ms/step - loss: 12.3606 - mae: 12.3606\n",
      "Epoch 27/100\n",
      "1/1 [==============================] - 0s 15ms/step - loss: 12.2281 - mae: 12.2281\n",
      "Epoch 28/100\n",
      "1/1 [==============================] - 0s 21ms/step - loss: 12.0956 - mae: 12.0956\n",
      "Epoch 29/100\n",
      "1/1 [==============================] - 0s 32ms/step - loss: 11.9631 - mae: 11.9631\n",
      "Epoch 30/100\n",
      "1/1 [==============================] - 0s 32ms/step - loss: 11.8306 - mae: 11.8306\n",
      "Epoch 31/100\n",
      "1/1 [==============================] - 0s 24ms/step - loss: 11.6981 - mae: 11.6981\n",
      "Epoch 32/100\n",
      "1/1 [==============================] - 0s 36ms/step - loss: 11.5656 - mae: 11.5656\n",
      "Epoch 33/100\n",
      "1/1 [==============================] - 0s 44ms/step - loss: 11.4331 - mae: 11.4331\n",
      "Epoch 34/100\n",
      "1/1 [==============================] - 0s 42ms/step - loss: 11.3006 - mae: 11.3006\n",
      "Epoch 35/100\n",
      "1/1 [==============================] - 0s 32ms/step - loss: 11.1681 - mae: 11.1681\n",
      "Epoch 36/100\n",
      "1/1 [==============================] - 0s 28ms/step - loss: 11.0356 - mae: 11.0356\n",
      "Epoch 37/100\n",
      "1/1 [==============================] - 0s 25ms/step - loss: 10.9031 - mae: 10.9031\n",
      "Epoch 38/100\n",
      "1/1 [==============================] - 0s 42ms/step - loss: 10.7706 - mae: 10.7706\n",
      "Epoch 39/100\n",
      "1/1 [==============================] - 0s 75ms/step - loss: 10.6381 - mae: 10.6381\n",
      "Epoch 40/100\n",
      "1/1 [==============================] - 0s 45ms/step - loss: 10.5056 - mae: 10.5056\n",
      "Epoch 41/100\n",
      "1/1 [==============================] - 0s 33ms/step - loss: 10.3731 - mae: 10.3731\n",
      "Epoch 42/100\n",
      "1/1 [==============================] - 0s 36ms/step - loss: 10.2406 - mae: 10.2406\n",
      "Epoch 43/100\n",
      "1/1 [==============================] - 0s 34ms/step - loss: 10.1081 - mae: 10.1081\n",
      "Epoch 44/100\n",
      "1/1 [==============================] - 0s 32ms/step - loss: 9.9756 - mae: 9.9756\n",
      "Epoch 45/100\n",
      "1/1 [==============================] - 0s 32ms/step - loss: 9.8431 - mae: 9.8431\n",
      "Epoch 46/100\n",
      "1/1 [==============================] - 0s 22ms/step - loss: 9.7106 - mae: 9.7106\n",
      "Epoch 47/100\n",
      "1/1 [==============================] - 0s 19ms/step - loss: 9.5781 - mae: 9.5781\n",
      "Epoch 48/100\n",
      "1/1 [==============================] - 0s 16ms/step - loss: 9.4456 - mae: 9.4456\n",
      "Epoch 49/100\n",
      "1/1 [==============================] - 0s 18ms/step - loss: 9.3131 - mae: 9.3131\n",
      "Epoch 50/100\n",
      "1/1 [==============================] - 0s 24ms/step - loss: 9.1806 - mae: 9.1806\n",
      "Epoch 51/100\n",
      "1/1 [==============================] - 0s 21ms/step - loss: 9.0481 - mae: 9.0481\n",
      "Epoch 52/100\n",
      "1/1 [==============================] - 0s 21ms/step - loss: 8.9156 - mae: 8.9156\n",
      "Epoch 53/100\n",
      "1/1 [==============================] - 0s 19ms/step - loss: 8.7831 - mae: 8.7831\n",
      "Epoch 54/100\n",
      "1/1 [==============================] - 0s 23ms/step - loss: 8.6506 - mae: 8.6506\n",
      "Epoch 55/100\n",
      "1/1 [==============================] - 0s 21ms/step - loss: 8.5181 - mae: 8.5181\n",
      "Epoch 56/100\n",
      "1/1 [==============================] - 0s 14ms/step - loss: 8.3856 - mae: 8.3856\n",
      "Epoch 57/100\n",
      "1/1 [==============================] - 0s 19ms/step - loss: 8.2531 - mae: 8.2531\n",
      "Epoch 58/100\n",
      "1/1 [==============================] - 0s 15ms/step - loss: 8.1206 - mae: 8.1206\n",
      "Epoch 59/100\n",
      "1/1 [==============================] - 0s 17ms/step - loss: 7.9881 - mae: 7.9881\n",
      "Epoch 60/100\n",
      "1/1 [==============================] - 0s 15ms/step - loss: 7.8556 - mae: 7.8556\n",
      "Epoch 61/100\n",
      "1/1 [==============================] - 0s 14ms/step - loss: 7.7231 - mae: 7.7231\n",
      "Epoch 62/100\n",
      "1/1 [==============================] - 0s 17ms/step - loss: 7.5906 - mae: 7.5906\n",
      "Epoch 63/100\n",
      "1/1 [==============================] - 0s 17ms/step - loss: 7.4581 - mae: 7.4581\n",
      "Epoch 64/100\n",
      "1/1 [==============================] - 0s 20ms/step - loss: 7.3256 - mae: 7.3256\n",
      "Epoch 65/100\n",
      "1/1 [==============================] - 0s 13ms/step - loss: 7.1931 - mae: 7.1931\n",
      "Epoch 66/100\n",
      "1/1 [==============================] - 0s 38ms/step - loss: 7.0606 - mae: 7.0606\n",
      "Epoch 67/100\n",
      "1/1 [==============================] - 0s 81ms/step - loss: 7.0181 - mae: 7.0181\n",
      "Epoch 68/100\n",
      "1/1 [==============================] - 0s 46ms/step - loss: 7.0125 - mae: 7.0125\n",
      "Epoch 69/100\n",
      "1/1 [==============================] - 0s 43ms/step - loss: 7.0069 - mae: 7.0069\n",
      "Epoch 70/100\n",
      "1/1 [==============================] - 0s 34ms/step - loss: 7.0013 - mae: 7.0013\n",
      "Epoch 71/100\n",
      "1/1 [==============================] - 0s 31ms/step - loss: 6.9956 - mae: 6.9956\n",
      "Epoch 72/100\n",
      "1/1 [==============================] - 0s 30ms/step - loss: 6.9900 - mae: 6.9900\n",
      "Epoch 73/100\n",
      "1/1 [==============================] - 0s 34ms/step - loss: 6.9844 - mae: 6.9844\n",
      "Epoch 74/100\n",
      "1/1 [==============================] - 0s 30ms/step - loss: 6.9788 - mae: 6.9788\n",
      "Epoch 75/100\n",
      "1/1 [==============================] - 0s 28ms/step - loss: 6.9731 - mae: 6.9731\n",
      "Epoch 76/100\n",
      "1/1 [==============================] - 0s 22ms/step - loss: 6.9675 - mae: 6.9675\n",
      "Epoch 77/100\n",
      "1/1 [==============================] - 0s 36ms/step - loss: 6.9619 - mae: 6.9619\n",
      "Epoch 78/100\n",
      "1/1 [==============================] - 0s 16ms/step - loss: 6.9563 - mae: 6.9563\n",
      "Epoch 79/100\n",
      "1/1 [==============================] - 0s 16ms/step - loss: 6.9506 - mae: 6.9506\n",
      "Epoch 80/100\n",
      "1/1 [==============================] - 0s 15ms/step - loss: 6.9450 - mae: 6.9450\n",
      "Epoch 81/100\n",
      "1/1 [==============================] - 0s 24ms/step - loss: 6.9394 - mae: 6.9394\n",
      "Epoch 82/100\n",
      "1/1 [==============================] - 0s 19ms/step - loss: 6.9338 - mae: 6.9338\n",
      "Epoch 83/100\n",
      "1/1 [==============================] - 0s 17ms/step - loss: 6.9281 - mae: 6.9281\n",
      "Epoch 84/100\n",
      "1/1 [==============================] - 0s 29ms/step - loss: 6.9225 - mae: 6.9225\n",
      "Epoch 85/100\n",
      "1/1 [==============================] - 0s 68ms/step - loss: 6.9169 - mae: 6.9169\n",
      "Epoch 86/100\n",
      "1/1 [==============================] - 0s 50ms/step - loss: 6.9113 - mae: 6.9113\n",
      "Epoch 87/100\n",
      "1/1 [==============================] - 0s 50ms/step - loss: 6.9056 - mae: 6.9056\n",
      "Epoch 88/100\n",
      "1/1 [==============================] - 0s 42ms/step - loss: 6.9000 - mae: 6.9000\n",
      "Epoch 89/100\n",
      "1/1 [==============================] - 0s 76ms/step - loss: 6.8944 - mae: 6.8944\n",
      "Epoch 90/100\n",
      "1/1 [==============================] - 0s 28ms/step - loss: 6.8888 - mae: 6.8888\n",
      "Epoch 91/100\n",
      "1/1 [==============================] - 0s 51ms/step - loss: 6.8831 - mae: 6.8831\n",
      "Epoch 92/100\n",
      "1/1 [==============================] - 0s 22ms/step - loss: 6.8775 - mae: 6.8775\n",
      "Epoch 93/100\n",
      "1/1 [==============================] - 0s 23ms/step - loss: 6.8719 - mae: 6.8719\n",
      "Epoch 94/100\n",
      "1/1 [==============================] - 0s 18ms/step - loss: 6.8663 - mae: 6.8663\n",
      "Epoch 95/100\n",
      "1/1 [==============================] - 0s 38ms/step - loss: 6.8606 - mae: 6.8606\n",
      "Epoch 96/100\n",
      "1/1 [==============================] - 0s 12ms/step - loss: 6.8550 - mae: 6.8550\n",
      "Epoch 97/100\n",
      "1/1 [==============================] - 0s 25ms/step - loss: 6.8494 - mae: 6.8494\n",
      "Epoch 98/100\n",
      "1/1 [==============================] - 0s 28ms/step - loss: 6.8438 - mae: 6.8438\n",
      "Epoch 99/100\n",
      "1/1 [==============================] - 0s 31ms/step - loss: 6.8381 - mae: 6.8381\n",
      "Epoch 100/100\n",
      "1/1 [==============================] - 0s 26ms/step - loss: 6.8325 - mae: 6.8325\n"
     ]
    },
    {
     "data": {
      "text/plain": [
       "<keras.src.callbacks.History at 0x7f046fe3a500>"
      ]
     },
     "execution_count": 18,
     "metadata": {},
     "output_type": "execute_result"
    }
   ],
   "source": [
    "#Lets recreate our model\n",
    "#1. Create the model\n",
    "model = tf.keras.Sequential([\n",
    "    tf.keras.layers.Dense(1)\n",
    "])\n",
    "\n",
    "#2. Compile the model\n",
    "model.compile(loss=tf.keras.losses.mae, #mae is short for mean absolute error\n",
    "              optimizer=tf.keras.optimizers.SGD(), #SGD is short for stochastic gradient descent\n",
    "              metrics=[\"mae\"])\n",
    "\n",
    "#3. Fit the model\n",
    "#this time we train for longer\n",
    "model.fit(tf.expand_dims(X, axis=-1), y, epochs=100)"
   ]
  },
  {
   "cell_type": "code",
   "execution_count": 19,
   "metadata": {
    "colab": {
     "base_uri": "https://localhost:8080/"
    },
    "executionInfo": {
     "elapsed": 2,
     "status": "ok",
     "timestamp": 1731038616179,
     "user": {
      "displayName": "Mark",
      "userId": "05293542057377705486"
     },
     "user_tz": 300
    },
    "id": "PvZcRrkVQJ0k",
    "outputId": "1d80c316-4098-478d-bc9c-c9944636f496"
   },
   "outputs": [
    {
     "data": {
      "text/plain": [
       "(<tf.Tensor: shape=(8,), dtype=float32, numpy=array([-7., -4., -1.,  2.,  5.,  8., 11., 14.], dtype=float32)>,\n",
       " <tf.Tensor: shape=(8,), dtype=float32, numpy=array([ 3.,  6.,  9., 12., 15., 18., 21., 24.], dtype=float32)>)"
      ]
     },
     "execution_count": 19,
     "metadata": {},
     "output_type": "execute_result"
    }
   ],
   "source": [
    "#Reminder ourselves of the data\n",
    "X, y"
   ]
  },
  {
   "cell_type": "code",
   "execution_count": 20,
   "metadata": {
    "colab": {
     "base_uri": "https://localhost:8080/"
    },
    "executionInfo": {
     "elapsed": 373,
     "status": "ok",
     "timestamp": 1731038616550,
     "user": {
      "displayName": "Mark",
      "userId": "05293542057377705486"
     },
     "user_tz": 300
    },
    "id": "4fhy_QlGQS15",
    "outputId": "e2b6f855-f9ad-4149-a20b-a65b46a1d35e"
   },
   "outputs": [
    {
     "name": "stdout",
     "output_type": "stream",
     "text": [
      "1/1 [==============================] - 0s 169ms/step\n"
     ]
    },
    {
     "data": {
      "text/plain": [
       "array([[29.69724]], dtype=float32)"
      ]
     },
     "execution_count": 20,
     "metadata": {},
     "output_type": "execute_result"
    }
   ],
   "source": [
    "#Lets see if our model's prediction has improved\n",
    "model.predict([17.0])"
   ]
  },
  {
   "cell_type": "code",
   "execution_count": 21,
   "metadata": {
    "colab": {
     "base_uri": "https://localhost:8080/"
    },
    "executionInfo": {
     "elapsed": 5286,
     "status": "ok",
     "timestamp": 1731038621835,
     "user": {
      "displayName": "Mark",
      "userId": "05293542057377705486"
     },
     "user_tz": 300
    },
    "id": "_OaNVOc_RZtU",
    "outputId": "7df32cae-27a2-451c-b485-49dfd16e412a"
   },
   "outputs": [
    {
     "name": "stdout",
     "output_type": "stream",
     "text": [
      "Epoch 1/100\n",
      "1/1 [==============================] - 1s 1s/step - loss: 15.0942 - mae: 15.0942\n",
      "Epoch 2/100\n",
      "1/1 [==============================] - 0s 30ms/step - loss: 14.9990 - mae: 14.9990\n",
      "Epoch 3/100\n",
      "1/1 [==============================] - 0s 20ms/step - loss: 14.9266 - mae: 14.9266\n",
      "Epoch 4/100\n",
      "1/1 [==============================] - 0s 19ms/step - loss: 14.8602 - mae: 14.8602\n",
      "Epoch 5/100\n",
      "1/1 [==============================] - 0s 14ms/step - loss: 14.7946 - mae: 14.7946\n",
      "Epoch 6/100\n",
      "1/1 [==============================] - 0s 14ms/step - loss: 14.7292 - mae: 14.7292\n",
      "Epoch 7/100\n",
      "1/1 [==============================] - 0s 12ms/step - loss: 14.6641 - mae: 14.6641\n",
      "Epoch 8/100\n",
      "1/1 [==============================] - 0s 27ms/step - loss: 14.5990 - mae: 14.5990\n",
      "Epoch 9/100\n",
      "1/1 [==============================] - 0s 11ms/step - loss: 14.5341 - mae: 14.5341\n",
      "Epoch 10/100\n",
      "1/1 [==============================] - 0s 18ms/step - loss: 14.4691 - mae: 14.4691\n",
      "Epoch 11/100\n",
      "1/1 [==============================] - 0s 23ms/step - loss: 14.4042 - mae: 14.4042\n",
      "Epoch 12/100\n",
      "1/1 [==============================] - 0s 15ms/step - loss: 14.3393 - mae: 14.3393\n",
      "Epoch 13/100\n",
      "1/1 [==============================] - 0s 18ms/step - loss: 14.2744 - mae: 14.2744\n",
      "Epoch 14/100\n",
      "1/1 [==============================] - 0s 18ms/step - loss: 14.2095 - mae: 14.2095\n",
      "Epoch 15/100\n",
      "1/1 [==============================] - 0s 15ms/step - loss: 14.1446 - mae: 14.1446\n",
      "Epoch 16/100\n",
      "1/1 [==============================] - 0s 19ms/step - loss: 14.0796 - mae: 14.0796\n",
      "Epoch 17/100\n",
      "1/1 [==============================] - 0s 13ms/step - loss: 14.0147 - mae: 14.0147\n",
      "Epoch 18/100\n",
      "1/1 [==============================] - 0s 17ms/step - loss: 13.9497 - mae: 13.9497\n",
      "Epoch 19/100\n",
      "1/1 [==============================] - 0s 21ms/step - loss: 13.8847 - mae: 13.8847\n",
      "Epoch 20/100\n",
      "1/1 [==============================] - 0s 16ms/step - loss: 13.8197 - mae: 13.8197\n",
      "Epoch 21/100\n",
      "1/1 [==============================] - 0s 44ms/step - loss: 13.7546 - mae: 13.7546\n",
      "Epoch 22/100\n",
      "1/1 [==============================] - 0s 13ms/step - loss: 13.6895 - mae: 13.6895\n",
      "Epoch 23/100\n",
      "1/1 [==============================] - 0s 36ms/step - loss: 13.6243 - mae: 13.6243\n",
      "Epoch 24/100\n",
      "1/1 [==============================] - 0s 16ms/step - loss: 13.5590 - mae: 13.5590\n",
      "Epoch 25/100\n",
      "1/1 [==============================] - 0s 15ms/step - loss: 13.4937 - mae: 13.4937\n",
      "Epoch 26/100\n",
      "1/1 [==============================] - 0s 31ms/step - loss: 13.4283 - mae: 13.4283\n",
      "Epoch 27/100\n",
      "1/1 [==============================] - 0s 15ms/step - loss: 13.3629 - mae: 13.3629\n",
      "Epoch 28/100\n",
      "1/1 [==============================] - 0s 18ms/step - loss: 13.2973 - mae: 13.2973\n",
      "Epoch 29/100\n",
      "1/1 [==============================] - 0s 31ms/step - loss: 13.2317 - mae: 13.2317\n",
      "Epoch 30/100\n",
      "1/1 [==============================] - 0s 24ms/step - loss: 13.1659 - mae: 13.1659\n",
      "Epoch 31/100\n",
      "1/1 [==============================] - 0s 63ms/step - loss: 13.1001 - mae: 13.1001\n",
      "Epoch 32/100\n",
      "1/1 [==============================] - 0s 32ms/step - loss: 13.0341 - mae: 13.0341\n",
      "Epoch 33/100\n",
      "1/1 [==============================] - 0s 46ms/step - loss: 12.9680 - mae: 12.9680\n",
      "Epoch 34/100\n",
      "1/1 [==============================] - 0s 45ms/step - loss: 12.9018 - mae: 12.9018\n",
      "Epoch 35/100\n",
      "1/1 [==============================] - 0s 62ms/step - loss: 12.8354 - mae: 12.8354\n",
      "Epoch 36/100\n",
      "1/1 [==============================] - 0s 28ms/step - loss: 12.7689 - mae: 12.7689\n",
      "Epoch 37/100\n",
      "1/1 [==============================] - 0s 31ms/step - loss: 12.7022 - mae: 12.7022\n",
      "Epoch 38/100\n",
      "1/1 [==============================] - 0s 34ms/step - loss: 12.6354 - mae: 12.6354\n",
      "Epoch 39/100\n",
      "1/1 [==============================] - 0s 25ms/step - loss: 12.5685 - mae: 12.5685\n",
      "Epoch 40/100\n",
      "1/1 [==============================] - 0s 41ms/step - loss: 12.5013 - mae: 12.5013\n",
      "Epoch 41/100\n",
      "1/1 [==============================] - 0s 20ms/step - loss: 12.4340 - mae: 12.4340\n",
      "Epoch 42/100\n",
      "1/1 [==============================] - 0s 20ms/step - loss: 12.3665 - mae: 12.3665\n",
      "Epoch 43/100\n",
      "1/1 [==============================] - 0s 26ms/step - loss: 12.2988 - mae: 12.2988\n",
      "Epoch 44/100\n",
      "1/1 [==============================] - 0s 20ms/step - loss: 12.2310 - mae: 12.2310\n",
      "Epoch 45/100\n",
      "1/1 [==============================] - 0s 23ms/step - loss: 12.1629 - mae: 12.1629\n",
      "Epoch 46/100\n",
      "1/1 [==============================] - 0s 33ms/step - loss: 12.0946 - mae: 12.0946\n",
      "Epoch 47/100\n",
      "1/1 [==============================] - 0s 21ms/step - loss: 12.0261 - mae: 12.0261\n",
      "Epoch 48/100\n",
      "1/1 [==============================] - 0s 30ms/step - loss: 11.9574 - mae: 11.9574\n",
      "Epoch 49/100\n",
      "1/1 [==============================] - 0s 16ms/step - loss: 11.8885 - mae: 11.8885\n",
      "Epoch 50/100\n",
      "1/1 [==============================] - 0s 15ms/step - loss: 11.8194 - mae: 11.8194\n",
      "Epoch 51/100\n",
      "1/1 [==============================] - 0s 14ms/step - loss: 11.7500 - mae: 11.7500\n",
      "Epoch 52/100\n",
      "1/1 [==============================] - 0s 22ms/step - loss: 11.6803 - mae: 11.6803\n",
      "Epoch 53/100\n",
      "1/1 [==============================] - 0s 25ms/step - loss: 11.6105 - mae: 11.6105\n",
      "Epoch 54/100\n",
      "1/1 [==============================] - 0s 38ms/step - loss: 11.5404 - mae: 11.5404\n",
      "Epoch 55/100\n",
      "1/1 [==============================] - 0s 20ms/step - loss: 11.4700 - mae: 11.4700\n",
      "Epoch 56/100\n",
      "1/1 [==============================] - 0s 26ms/step - loss: 11.3993 - mae: 11.3993\n",
      "Epoch 57/100\n",
      "1/1 [==============================] - 0s 19ms/step - loss: 11.3284 - mae: 11.3284\n",
      "Epoch 58/100\n",
      "1/1 [==============================] - 0s 19ms/step - loss: 11.2572 - mae: 11.2572\n",
      "Epoch 59/100\n",
      "1/1 [==============================] - 0s 22ms/step - loss: 11.1858 - mae: 11.1858\n",
      "Epoch 60/100\n",
      "1/1 [==============================] - 0s 35ms/step - loss: 11.1140 - mae: 11.1140\n",
      "Epoch 61/100\n",
      "1/1 [==============================] - 0s 23ms/step - loss: 11.0420 - mae: 11.0420\n",
      "Epoch 62/100\n",
      "1/1 [==============================] - 0s 19ms/step - loss: 10.9696 - mae: 10.9696\n",
      "Epoch 63/100\n",
      "1/1 [==============================] - 0s 53ms/step - loss: 10.8970 - mae: 10.8970\n",
      "Epoch 64/100\n",
      "1/1 [==============================] - 0s 30ms/step - loss: 10.8240 - mae: 10.8240\n",
      "Epoch 65/100\n",
      "1/1 [==============================] - 0s 28ms/step - loss: 10.7507 - mae: 10.7507\n",
      "Epoch 66/100\n",
      "1/1 [==============================] - 0s 18ms/step - loss: 10.6772 - mae: 10.6772\n",
      "Epoch 67/100\n",
      "1/1 [==============================] - 0s 34ms/step - loss: 10.6032 - mae: 10.6032\n",
      "Epoch 68/100\n",
      "1/1 [==============================] - 0s 45ms/step - loss: 10.5290 - mae: 10.5290\n",
      "Epoch 69/100\n",
      "1/1 [==============================] - 0s 32ms/step - loss: 10.4544 - mae: 10.4544\n",
      "Epoch 70/100\n",
      "1/1 [==============================] - 0s 41ms/step - loss: 10.3795 - mae: 10.3795\n",
      "Epoch 71/100\n",
      "1/1 [==============================] - 0s 66ms/step - loss: 10.3042 - mae: 10.3042\n",
      "Epoch 72/100\n",
      "1/1 [==============================] - 0s 43ms/step - loss: 10.2286 - mae: 10.2286\n",
      "Epoch 73/100\n",
      "1/1 [==============================] - 0s 34ms/step - loss: 10.1526 - mae: 10.1526\n",
      "Epoch 74/100\n",
      "1/1 [==============================] - 0s 73ms/step - loss: 10.0762 - mae: 10.0762\n",
      "Epoch 75/100\n",
      "1/1 [==============================] - 0s 55ms/step - loss: 9.9995 - mae: 9.9995\n",
      "Epoch 76/100\n",
      "1/1 [==============================] - 0s 35ms/step - loss: 9.9224 - mae: 9.9224\n",
      "Epoch 77/100\n",
      "1/1 [==============================] - 0s 40ms/step - loss: 9.8450 - mae: 9.8450\n",
      "Epoch 78/100\n",
      "1/1 [==============================] - 0s 30ms/step - loss: 9.7671 - mae: 9.7671\n",
      "Epoch 79/100\n",
      "1/1 [==============================] - 0s 32ms/step - loss: 9.6889 - mae: 9.6889\n",
      "Epoch 80/100\n",
      "1/1 [==============================] - 0s 37ms/step - loss: 9.6102 - mae: 9.6102\n",
      "Epoch 81/100\n",
      "1/1 [==============================] - 0s 26ms/step - loss: 9.5312 - mae: 9.5312\n",
      "Epoch 82/100\n",
      "1/1 [==============================] - 0s 27ms/step - loss: 9.4518 - mae: 9.4518\n",
      "Epoch 83/100\n",
      "1/1 [==============================] - 0s 24ms/step - loss: 9.3719 - mae: 9.3719\n",
      "Epoch 84/100\n",
      "1/1 [==============================] - 0s 20ms/step - loss: 9.2917 - mae: 9.2917\n",
      "Epoch 85/100\n",
      "1/1 [==============================] - 0s 33ms/step - loss: 9.2110 - mae: 9.2110\n",
      "Epoch 86/100\n",
      "1/1 [==============================] - 0s 25ms/step - loss: 9.1299 - mae: 9.1299\n",
      "Epoch 87/100\n",
      "1/1 [==============================] - 0s 29ms/step - loss: 9.0484 - mae: 9.0484\n",
      "Epoch 88/100\n",
      "1/1 [==============================] - 0s 32ms/step - loss: 8.9664 - mae: 8.9664\n",
      "Epoch 89/100\n",
      "1/1 [==============================] - 0s 32ms/step - loss: 8.8841 - mae: 8.8841\n",
      "Epoch 90/100\n",
      "1/1 [==============================] - 0s 26ms/step - loss: 8.8012 - mae: 8.8012\n",
      "Epoch 91/100\n",
      "1/1 [==============================] - 0s 20ms/step - loss: 8.7180 - mae: 8.7180\n",
      "Epoch 92/100\n",
      "1/1 [==============================] - 0s 28ms/step - loss: 8.6342 - mae: 8.6342\n",
      "Epoch 93/100\n",
      "1/1 [==============================] - 0s 22ms/step - loss: 8.5501 - mae: 8.5501\n",
      "Epoch 94/100\n",
      "1/1 [==============================] - 0s 32ms/step - loss: 8.4654 - mae: 8.4654\n",
      "Epoch 95/100\n",
      "1/1 [==============================] - 0s 21ms/step - loss: 8.3804 - mae: 8.3804\n",
      "Epoch 96/100\n",
      "1/1 [==============================] - 0s 24ms/step - loss: 8.2948 - mae: 8.2948\n",
      "Epoch 97/100\n",
      "1/1 [==============================] - 0s 24ms/step - loss: 8.2088 - mae: 8.2088\n",
      "Epoch 98/100\n",
      "1/1 [==============================] - 0s 60ms/step - loss: 8.1223 - mae: 8.1223\n",
      "Epoch 99/100\n",
      "1/1 [==============================] - 0s 31ms/step - loss: 8.0353 - mae: 8.0353\n",
      "Epoch 100/100\n",
      "1/1 [==============================] - 0s 34ms/step - loss: 7.9478 - mae: 7.9478\n"
     ]
    },
    {
     "data": {
      "text/plain": [
       "<keras.src.callbacks.History at 0x7f046fcc7af0>"
      ]
     },
     "execution_count": 21,
     "metadata": {},
     "output_type": "execute_result"
    }
   ],
   "source": [
    "#Lets recreate our model\n",
    "#1. Create the model\n",
    "model = tf.keras.Sequential([\n",
    "    tf.keras.layers.Dense(50, activation=None),\n",
    "    tf.keras.layers.Dense(1)\n",
    "])\n",
    "\n",
    "#2. Compile the model\n",
    "model.compile(loss=tf.keras.losses.mae, #mae is short for mean absolute error\n",
    "              optimizer=tf.keras.optimizers.Adam(learning_rate=0.001), #SGD is short for stochastic gradient descent\n",
    "              metrics=[\"mae\"])\n",
    "\n",
    "#3. Fit the model\n",
    "#this time we train for longer\n",
    "model.fit(tf.expand_dims(X, axis=-1), y, epochs=100)"
   ]
  },
  {
   "cell_type": "code",
   "execution_count": 21,
   "metadata": {
    "executionInfo": {
     "elapsed": 2,
     "status": "ok",
     "timestamp": 1731038621835,
     "user": {
      "displayName": "Mark",
      "userId": "05293542057377705486"
     },
     "user_tz": 300
    },
    "id": "l5KRoEF0srt0"
   },
   "outputs": [],
   "source": []
  },
  {
   "cell_type": "markdown",
   "metadata": {
    "id": "05tBB-ma4ZLA"
   },
   "source": []
  },
  {
   "cell_type": "code",
   "execution_count": 22,
   "metadata": {
    "colab": {
     "base_uri": "https://localhost:8080/"
    },
    "executionInfo": {
     "elapsed": 96,
     "status": "ok",
     "timestamp": 1731038621929,
     "user": {
      "displayName": "Mark",
      "userId": "05293542057377705486"
     },
     "user_tz": 300
    },
    "id": "Dp17Q_HDS_bh",
    "outputId": "ebf1b7d5-c3c5-400e-fd74-d8fb89f3366f"
   },
   "outputs": [
    {
     "data": {
      "text/plain": [
       "(<tf.Tensor: shape=(8,), dtype=float32, numpy=array([-7., -4., -1.,  2.,  5.,  8., 11., 14.], dtype=float32)>,\n",
       " <tf.Tensor: shape=(8,), dtype=float32, numpy=array([ 3.,  6.,  9., 12., 15., 18., 21., 24.], dtype=float32)>)"
      ]
     },
     "execution_count": 22,
     "metadata": {},
     "output_type": "execute_result"
    }
   ],
   "source": [
    "X, y"
   ]
  },
  {
   "cell_type": "code",
   "execution_count": 23,
   "metadata": {
    "colab": {
     "base_uri": "https://localhost:8080/"
    },
    "executionInfo": {
     "elapsed": 634,
     "status": "ok",
     "timestamp": 1731038622562,
     "user": {
      "displayName": "Mark",
      "userId": "05293542057377705486"
     },
     "user_tz": 300
    },
    "id": "SgbXgQacY29l",
    "outputId": "5afbc992-976f-4aa8-f74f-4e2e50f4e89a"
   },
   "outputs": [
    {
     "name": "stdout",
     "output_type": "stream",
     "text": [
      "1/1 [==============================] - 1s 516ms/step\n"
     ]
    },
    {
     "data": {
      "text/plain": [
       "array([[23.190641]], dtype=float32)"
      ]
     },
     "execution_count": 23,
     "metadata": {},
     "output_type": "execute_result"
    }
   ],
   "source": [
    "model.predict([17.0])"
   ]
  },
  {
   "cell_type": "code",
   "execution_count": 24,
   "metadata": {
    "executionInfo": {
     "elapsed": 2,
     "status": "ok",
     "timestamp": 1731038622562,
     "user": {
      "displayName": "Mark",
      "userId": "05293542057377705486"
     },
     "user_tz": 300
    },
    "id": "9n8_XX-lS_j_"
   },
   "outputs": [],
   "source": [
    "# Lets see if we can make another to improve our model\n",
    "# 1. Create the model (this time with an extra hidden layer with 100 hidden units)"
   ]
  },
  {
   "cell_type": "code",
   "execution_count": 25,
   "metadata": {
    "executionInfo": {
     "elapsed": 133,
     "status": "ok",
     "timestamp": 1731038622693,
     "user": {
      "displayName": "Mark",
      "userId": "05293542057377705486"
     },
     "user_tz": 300
    },
    "id": "_cOLAODKXIBg"
   },
   "outputs": [],
   "source": [
    "# The learning rate is often the most important hyperparameter of many different neural networks\n",
    "\n"
   ]
  },
  {
   "cell_type": "markdown",
   "metadata": {
    "id": "K45mG0zzZsjM"
   },
   "source": [
    "** Evaluating a model **"
   ]
  },
  {
   "cell_type": "code",
   "execution_count": 26,
   "metadata": {
    "executionInfo": {
     "elapsed": 2,
     "status": "ok",
     "timestamp": 1731038622693,
     "user": {
      "displayName": "Mark",
      "userId": "05293542057377705486"
     },
     "user_tz": 300
    },
    "id": "cyzPAKh0Zvu5"
   },
   "outputs": [],
   "source": [
    "# In practice, a typical workflow you will go thru when building neural networks:\n",
    "# Build a model -> Fit it -> Evaulate it -> Tweak it\n",
    "# Fit it -> evaluate it -> tweak a model..."
   ]
  },
  {
   "cell_type": "code",
   "execution_count": 27,
   "metadata": {
    "executionInfo": {
     "elapsed": 88,
     "status": "ok",
     "timestamp": 1731038622780,
     "user": {
      "displayName": "Mark",
      "userId": "05293542057377705486"
     },
     "user_tz": 300
    },
    "id": "RS8OMso-qlCv"
   },
   "outputs": [],
   "source": [
    "# When it comes to evaluating models, there are 3 words to memorize:\n",
    "# Visualize, visualize, visualize\n",
    "# It's a good idea to visualize:\n",
    "# *The data: what data are we working with?  What does it look like?\n",
    "# *The training of a model: the way that a model looks at the data\n",
    "# *The predictions of the model: how do the predictions of a model line up against the ground truth (the original labels)?\n",
    "\n"
   ]
  },
  {
   "cell_type": "code",
   "execution_count": 28,
   "metadata": {
    "colab": {
     "base_uri": "https://localhost:8080/"
    },
    "executionInfo": {
     "elapsed": 4,
     "status": "ok",
     "timestamp": 1731038622780,
     "user": {
      "displayName": "Mark",
      "userId": "05293542057377705486"
     },
     "user_tz": 300
    },
    "id": "t6-lcMEVrLwN",
    "outputId": "590c4170-3e0e-42a7-b5bc-bb42354ac748"
   },
   "outputs": [
    {
     "data": {
      "text/plain": [
       "<tf.Tensor: shape=(50,), dtype=int32, numpy=\n",
       "array([-100,  -96,  -92,  -88,  -84,  -80,  -76,  -72,  -68,  -64,  -60,\n",
       "        -56,  -52,  -48,  -44,  -40,  -36,  -32,  -28,  -24,  -20,  -16,\n",
       "        -12,   -8,   -4,    0,    4,    8,   12,   16,   20,   24,   28,\n",
       "         32,   36,   40,   44,   48,   52,   56,   60,   64,   68,   72,\n",
       "         76,   80,   84,   88,   92,   96], dtype=int32)>"
      ]
     },
     "execution_count": 28,
     "metadata": {},
     "output_type": "execute_result"
    }
   ],
   "source": [
    "# Make a bigger dataset\n",
    "X = tf.range(-100, 100, 4)\n",
    "X"
   ]
  },
  {
   "cell_type": "code",
   "execution_count": 29,
   "metadata": {
    "colab": {
     "base_uri": "https://localhost:8080/"
    },
    "executionInfo": {
     "elapsed": 4,
     "status": "ok",
     "timestamp": 1731038622780,
     "user": {
      "displayName": "Mark",
      "userId": "05293542057377705486"
     },
     "user_tz": 300
    },
    "id": "4f8rnePTreg0",
    "outputId": "e05621f7-eb0e-4bff-a892-fa52b2b8063c"
   },
   "outputs": [
    {
     "data": {
      "text/plain": [
       "<tf.Tensor: shape=(50,), dtype=int32, numpy=\n",
       "array([-90, -86, -82, -78, -74, -70, -66, -62, -58, -54, -50, -46, -42,\n",
       "       -38, -34, -30, -26, -22, -18, -14, -10,  -6,  -2,   2,   6,  10,\n",
       "        14,  18,  22,  26,  30,  34,  38,  42,  46,  50,  54,  58,  62,\n",
       "        66,  70,  74,  78,  82,  86,  90,  94,  98, 102, 106], dtype=int32)>"
      ]
     },
     "execution_count": 29,
     "metadata": {},
     "output_type": "execute_result"
    }
   ],
   "source": [
    "# Make labels for the dataset\n",
    "y = X + 10\n",
    "y"
   ]
  },
  {
   "cell_type": "code",
   "execution_count": 30,
   "metadata": {
    "colab": {
     "base_uri": "https://localhost:8080/",
     "height": 447
    },
    "executionInfo": {
     "elapsed": 603,
     "status": "ok",
     "timestamp": 1731038623381,
     "user": {
      "displayName": "Mark",
      "userId": "05293542057377705486"
     },
     "user_tz": 300
    },
    "id": "qYwyspEzrpZa",
    "outputId": "15c8425a-2711-401b-eb01-0ac23780421f"
   },
   "outputs": [
    {
     "data": {
      "text/plain": [
       "<matplotlib.collections.PathCollection at 0x7f0469111810>"
      ]
     },
     "execution_count": 30,
     "metadata": {},
     "output_type": "execute_result"
    },
    {
     "data": {
      "image/png": "[encoded data removed]",
      "text/plain": [
       "<Figure size 640x480 with 1 Axes>"
      ]
     },
     "metadata": {},
     "output_type": "display_data"
    }
   ],
   "source": [
    "# Visualize the data\n",
    "import matplotlib.pyplot as plt\n",
    "plt.scatter(X, y)"
   ]
  },
  {
   "cell_type": "code",
   "execution_count": 31,
   "metadata": {
    "executionInfo": {
     "elapsed": 2,
     "status": "ok",
     "timestamp": 1731038623381,
     "user": {
      "displayName": "Mark",
      "userId": "05293542057377705486"
     },
     "user_tz": 300
    },
    "id": "FX0SIziAsEyq"
   },
   "outputs": [],
   "source": [
    "# The 3 sets...\n",
    "\n",
    "#* 1. The training set (model learns from this data) typically 70/80% of total data available\n",
    "# 2. The validation set: the model gets tuned on this data (typically 10-15% of data available)\n",
    "# 3. The test set: the model gets evaluated on this data to test what it has learned, this set is typically 10-15% of the total data available"
   ]
  },
  {
   "cell_type": "code",
   "execution_count": 31,
   "metadata": {
    "executionInfo": {
     "elapsed": 1,
     "status": "ok",
     "timestamp": 1731038623381,
     "user": {
      "displayName": "Mark",
      "userId": "05293542057377705486"
     },
     "user_tz": 300
    },
    "id": "P9S2AfcEuRbH"
   },
   "outputs": [],
   "source": []
  },
  {
   "cell_type": "code",
   "execution_count": 32,
   "metadata": {
    "colab": {
     "base_uri": "https://localhost:8080/"
    },
    "executionInfo": {
     "elapsed": 7246,
     "status": "ok",
     "timestamp": 1731038630626,
     "user": {
      "displayName": "Mark",
      "userId": "05293542057377705486"
     },
     "user_tz": 300
    },
    "id": "my-vVvmKssuz",
    "outputId": "17894f26-710c-402c-c397-52c878184548"
   },
   "outputs": [
    {
     "name": "stdout",
     "output_type": "stream",
     "text": [
      "Epoch 1/100\n",
      "2/2 [==============================] - 3s 14ms/step - loss: 51.3674 - mae: 51.3674\n",
      "Epoch 2/100\n",
      "2/2 [==============================] - 0s 14ms/step - loss: 49.7401 - mae: 49.7401\n",
      "Epoch 3/100\n",
      "2/2 [==============================] - 0s 17ms/step - loss: 48.3147 - mae: 48.3147\n",
      "Epoch 4/100\n",
      "2/2 [==============================] - 0s 16ms/step - loss: 46.7639 - mae: 46.7639\n",
      "Epoch 5/100\n",
      "2/2 [==============================] - 0s 11ms/step - loss: 45.2213 - mae: 45.2213\n",
      "Epoch 6/100\n",
      "2/2 [==============================] - 0s 21ms/step - loss: 43.7090 - mae: 43.7090\n",
      "Epoch 7/100\n",
      "2/2 [==============================] - 0s 25ms/step - loss: 42.1246 - mae: 42.1246\n",
      "Epoch 8/100\n",
      "2/2 [==============================] - 0s 16ms/step - loss: 40.5998 - mae: 40.5998\n",
      "Epoch 9/100\n",
      "2/2 [==============================] - 0s 13ms/step - loss: 39.1757 - mae: 39.1757\n",
      "Epoch 10/100\n",
      "2/2 [==============================] - 0s 14ms/step - loss: 37.5948 - mae: 37.5948\n",
      "Epoch 11/100\n",
      "2/2 [==============================] - 0s 16ms/step - loss: 36.0578 - mae: 36.0578\n",
      "Epoch 12/100\n",
      "2/2 [==============================] - 0s 28ms/step - loss: 34.5263 - mae: 34.5263\n",
      "Epoch 13/100\n",
      "2/2 [==============================] - 0s 43ms/step - loss: 32.9582 - mae: 32.9582\n",
      "Epoch 14/100\n",
      "2/2 [==============================] - 0s 38ms/step - loss: 31.4486 - mae: 31.4486\n",
      "Epoch 15/100\n",
      "2/2 [==============================] - 0s 9ms/step - loss: 29.8973 - mae: 29.8973\n",
      "Epoch 16/100\n",
      "2/2 [==============================] - 0s 32ms/step - loss: 28.4005 - mae: 28.4005\n",
      "Epoch 17/100\n",
      "2/2 [==============================] - 0s 12ms/step - loss: 26.7826 - mae: 26.7826\n",
      "Epoch 18/100\n",
      "2/2 [==============================] - 0s 18ms/step - loss: 25.2835 - mae: 25.2835\n",
      "Epoch 19/100\n",
      "2/2 [==============================] - 0s 12ms/step - loss: 23.7445 - mae: 23.7445\n",
      "Epoch 20/100\n",
      "2/2 [==============================] - 0s 11ms/step - loss: 22.0906 - mae: 22.0906\n",
      "Epoch 21/100\n",
      "2/2 [==============================] - 0s 15ms/step - loss: 20.6988 - mae: 20.6988\n",
      "Epoch 22/100\n",
      "2/2 [==============================] - 0s 43ms/step - loss: 19.0983 - mae: 19.0983\n",
      "Epoch 23/100\n",
      "2/2 [==============================] - 0s 23ms/step - loss: 17.6768 - mae: 17.6768\n",
      "Epoch 24/100\n",
      "2/2 [==============================] - 0s 11ms/step - loss: 16.1233 - mae: 16.1233\n",
      "Epoch 25/100\n",
      "2/2 [==============================] - 0s 23ms/step - loss: 14.6996 - mae: 14.6996\n",
      "Epoch 26/100\n",
      "2/2 [==============================] - 0s 21ms/step - loss: 13.3001 - mae: 13.3001\n",
      "Epoch 27/100\n",
      "2/2 [==============================] - 0s 20ms/step - loss: 12.0687 - mae: 12.0687\n",
      "Epoch 28/100\n",
      "2/2 [==============================] - 0s 23ms/step - loss: 10.7825 - mae: 10.7825\n",
      "Epoch 29/100\n",
      "2/2 [==============================] - 0s 21ms/step - loss: 10.0209 - mae: 10.0209\n",
      "Epoch 30/100\n",
      "2/2 [==============================] - 0s 13ms/step - loss: 9.4437 - mae: 9.4437\n",
      "Epoch 31/100\n",
      "2/2 [==============================] - 0s 15ms/step - loss: 9.5644 - mae: 9.5644\n",
      "Epoch 32/100\n",
      "2/2 [==============================] - 0s 21ms/step - loss: 9.4652 - mae: 9.4652\n",
      "Epoch 33/100\n",
      "2/2 [==============================] - 0s 12ms/step - loss: 9.4787 - mae: 9.4787\n",
      "Epoch 34/100\n",
      "2/2 [==============================] - 0s 11ms/step - loss: 9.4933 - mae: 9.4933\n",
      "Epoch 35/100\n",
      "2/2 [==============================] - 0s 13ms/step - loss: 9.4538 - mae: 9.4538\n",
      "Epoch 36/100\n",
      "2/2 [==============================] - 0s 12ms/step - loss: 9.4358 - mae: 9.4358\n",
      "Epoch 37/100\n",
      "2/2 [==============================] - 0s 14ms/step - loss: 9.3986 - mae: 9.3986\n",
      "Epoch 38/100\n",
      "2/2 [==============================] - 0s 17ms/step - loss: 9.3710 - mae: 9.3710\n",
      "Epoch 39/100\n",
      "2/2 [==============================] - 0s 19ms/step - loss: 9.3589 - mae: 9.3589\n",
      "Epoch 40/100\n",
      "2/2 [==============================] - 0s 14ms/step - loss: 9.3167 - mae: 9.3167\n",
      "Epoch 41/100\n",
      "2/2 [==============================] - 0s 16ms/step - loss: 9.2881 - mae: 9.2881\n",
      "Epoch 42/100\n",
      "2/2 [==============================] - 0s 15ms/step - loss: 9.2560 - mae: 9.2560\n",
      "Epoch 43/100\n",
      "2/2 [==============================] - 0s 15ms/step - loss: 9.2240 - mae: 9.2240\n",
      "Epoch 44/100\n",
      "2/2 [==============================] - 0s 21ms/step - loss: 9.1931 - mae: 9.1931\n",
      "Epoch 45/100\n",
      "2/2 [==============================] - 0s 13ms/step - loss: 9.1634 - mae: 9.1634\n",
      "Epoch 46/100\n",
      "2/2 [==============================] - 0s 13ms/step - loss: 9.1303 - mae: 9.1303\n",
      "Epoch 47/100\n",
      "2/2 [==============================] - 0s 18ms/step - loss: 9.0975 - mae: 9.0975\n",
      "Epoch 48/100\n",
      "2/2 [==============================] - 0s 28ms/step - loss: 9.0690 - mae: 9.0690\n",
      "Epoch 49/100\n",
      "2/2 [==============================] - 0s 15ms/step - loss: 9.0403 - mae: 9.0403\n",
      "Epoch 50/100\n",
      "2/2 [==============================] - 0s 20ms/step - loss: 9.0029 - mae: 9.0029\n",
      "Epoch 51/100\n",
      "2/2 [==============================] - 0s 16ms/step - loss: 8.9712 - mae: 8.9712\n",
      "Epoch 52/100\n",
      "2/2 [==============================] - 0s 13ms/step - loss: 8.9409 - mae: 8.9409\n",
      "Epoch 53/100\n",
      "2/2 [==============================] - 0s 14ms/step - loss: 8.9126 - mae: 8.9126\n",
      "Epoch 54/100\n",
      "2/2 [==============================] - 0s 17ms/step - loss: 8.8797 - mae: 8.8797\n",
      "Epoch 55/100\n",
      "2/2 [==============================] - 0s 15ms/step - loss: 8.8480 - mae: 8.8480\n",
      "Epoch 56/100\n",
      "2/2 [==============================] - 0s 18ms/step - loss: 8.8184 - mae: 8.8184\n",
      "Epoch 57/100\n",
      "2/2 [==============================] - 0s 23ms/step - loss: 8.7857 - mae: 8.7857\n",
      "Epoch 58/100\n",
      "2/2 [==============================] - 0s 12ms/step - loss: 8.7513 - mae: 8.7513\n",
      "Epoch 59/100\n",
      "2/2 [==============================] - 0s 14ms/step - loss: 8.7178 - mae: 8.7178\n",
      "Epoch 60/100\n",
      "2/2 [==============================] - 0s 13ms/step - loss: 8.6838 - mae: 8.6838\n",
      "Epoch 61/100\n",
      "2/2 [==============================] - 0s 19ms/step - loss: 8.6604 - mae: 8.6604\n",
      "Epoch 62/100\n",
      "2/2 [==============================] - 0s 18ms/step - loss: 8.6366 - mae: 8.6366\n",
      "Epoch 63/100\n",
      "2/2 [==============================] - 0s 13ms/step - loss: 8.5911 - mae: 8.5911\n",
      "Epoch 64/100\n",
      "2/2 [==============================] - 0s 23ms/step - loss: 8.5602 - mae: 8.5602\n",
      "Epoch 65/100\n",
      "2/2 [==============================] - 0s 11ms/step - loss: 8.5278 - mae: 8.5278\n",
      "Epoch 66/100\n",
      "2/2 [==============================] - 0s 12ms/step - loss: 8.5009 - mae: 8.5009\n",
      "Epoch 67/100\n",
      "2/2 [==============================] - 0s 13ms/step - loss: 8.4717 - mae: 8.4717\n",
      "Epoch 68/100\n",
      "2/2 [==============================] - 0s 12ms/step - loss: 8.4435 - mae: 8.4435\n",
      "Epoch 69/100\n",
      "2/2 [==============================] - 0s 27ms/step - loss: 8.4136 - mae: 8.4136\n",
      "Epoch 70/100\n",
      "2/2 [==============================] - 0s 20ms/step - loss: 8.3848 - mae: 8.3848\n",
      "Epoch 71/100\n",
      "2/2 [==============================] - 0s 13ms/step - loss: 8.3526 - mae: 8.3526\n",
      "Epoch 72/100\n",
      "2/2 [==============================] - 0s 14ms/step - loss: 8.3294 - mae: 8.3294\n",
      "Epoch 73/100\n",
      "2/2 [==============================] - 0s 15ms/step - loss: 8.2986 - mae: 8.2986\n",
      "Epoch 74/100\n",
      "2/2 [==============================] - 0s 26ms/step - loss: 8.2668 - mae: 8.2668\n",
      "Epoch 75/100\n",
      "2/2 [==============================] - 0s 26ms/step - loss: 8.2354 - mae: 8.2354\n",
      "Epoch 76/100\n",
      "2/2 [==============================] - 0s 13ms/step - loss: 8.2059 - mae: 8.2059\n",
      "Epoch 77/100\n",
      "2/2 [==============================] - 0s 14ms/step - loss: 8.1838 - mae: 8.1838\n",
      "Epoch 78/100\n",
      "2/2 [==============================] - 0s 20ms/step - loss: 8.1477 - mae: 8.1477\n",
      "Epoch 79/100\n",
      "2/2 [==============================] - 0s 14ms/step - loss: 8.1177 - mae: 8.1177\n",
      "Epoch 80/100\n",
      "2/2 [==============================] - 0s 19ms/step - loss: 8.0889 - mae: 8.0889\n",
      "Epoch 81/100\n",
      "2/2 [==============================] - 0s 13ms/step - loss: 8.0549 - mae: 8.0549\n",
      "Epoch 82/100\n",
      "2/2 [==============================] - 0s 42ms/step - loss: 8.0244 - mae: 8.0244\n",
      "Epoch 83/100\n",
      "2/2 [==============================] - 0s 24ms/step - loss: 7.9901 - mae: 7.9901\n",
      "Epoch 84/100\n",
      "2/2 [==============================] - 0s 12ms/step - loss: 7.9678 - mae: 7.9678\n",
      "Epoch 85/100\n",
      "2/2 [==============================] - 0s 14ms/step - loss: 7.9314 - mae: 7.9314\n",
      "Epoch 86/100\n",
      "2/2 [==============================] - 0s 12ms/step - loss: 7.9087 - mae: 7.9087\n",
      "Epoch 87/100\n",
      "2/2 [==============================] - 0s 13ms/step - loss: 7.8772 - mae: 7.8772\n",
      "Epoch 88/100\n",
      "2/2 [==============================] - 0s 16ms/step - loss: 7.8487 - mae: 7.8487\n",
      "Epoch 89/100\n",
      "2/2 [==============================] - 0s 12ms/step - loss: 7.8355 - mae: 7.8355\n",
      "Epoch 90/100\n",
      "2/2 [==============================] - 0s 27ms/step - loss: 7.7978 - mae: 7.7978\n",
      "Epoch 91/100\n",
      "2/2 [==============================] - 0s 16ms/step - loss: 7.7649 - mae: 7.7649\n",
      "Epoch 92/100\n",
      "2/2 [==============================] - 0s 15ms/step - loss: 7.7452 - mae: 7.7452\n",
      "Epoch 93/100\n",
      "2/2 [==============================] - 0s 24ms/step - loss: 7.7400 - mae: 7.7400\n",
      "Epoch 94/100\n",
      "2/2 [==============================] - 0s 28ms/step - loss: 7.7032 - mae: 7.7032\n",
      "Epoch 95/100\n",
      "2/2 [==============================] - 0s 19ms/step - loss: 7.6775 - mae: 7.6775\n",
      "Epoch 96/100\n",
      "2/2 [==============================] - 0s 13ms/step - loss: 7.6498 - mae: 7.6498\n",
      "Epoch 97/100\n",
      "2/2 [==============================] - 0s 11ms/step - loss: 7.6274 - mae: 7.6274\n",
      "Epoch 98/100\n",
      "2/2 [==============================] - 0s 12ms/step - loss: 7.5932 - mae: 7.5932\n",
      "Epoch 99/100\n",
      "2/2 [==============================] - 0s 13ms/step - loss: 7.5669 - mae: 7.5669\n",
      "Epoch 100/100\n",
      "2/2 [==============================] - 0s 10ms/step - loss: 7.5432 - mae: 7.5432\n"
     ]
    },
    {
     "data": {
      "text/plain": [
       "<keras.src.callbacks.History at 0x7f04691786a0>"
      ]
     },
     "execution_count": 32,
     "metadata": {},
     "output_type": "execute_result"
    }
   ],
   "source": [
    "#Lets recreate our model\n",
    "#1. Create the model\n",
    "model = tf.keras.Sequential([\n",
    "    tf.keras.layers.Dense(50, activation=None),\n",
    "    tf.keras.layers.Dense(1)\n",
    "])\n",
    "\n",
    "#2. Compile the model\n",
    "model.compile(loss=tf.keras.losses.mae, #mae is short for mean absolute error\n",
    "              optimizer=tf.keras.optimizers.Adam(learning_rate=0.001), #SGD is short for stochastic gradient descent\n",
    "              metrics=[\"mae\"])\n",
    "\n",
    "#3. Fit the model\n",
    "#this time we train for longer\n",
    "model.fit(tf.expand_dims(X, axis=-1), y, epochs=100)"
   ]
  },
  {
   "cell_type": "code",
   "execution_count": 33,
   "metadata": {
    "colab": {
     "base_uri": "https://localhost:8080/"
    },
    "executionInfo": {
     "elapsed": 304,
     "status": "ok",
     "timestamp": 1731038630928,
     "user": {
      "displayName": "Mark",
      "userId": "05293542057377705486"
     },
     "user_tz": 300
    },
    "id": "eMhRNLpls9xt",
    "outputId": "79e578b3-b162-4d09-dd77-5c50bd526df4"
   },
   "outputs": [
    {
     "name": "stdout",
     "output_type": "stream",
     "text": [
      "1/1 [==============================] - 0s 157ms/step\n"
     ]
    },
    {
     "data": {
      "text/plain": [
       "array([[94.50123]], dtype=float32)"
      ]
     },
     "execution_count": 33,
     "metadata": {},
     "output_type": "execute_result"
    }
   ],
   "source": [
    "model.predict([100])"
   ]
  },
  {
   "cell_type": "code",
   "execution_count": 34,
   "metadata": {
    "colab": {
     "base_uri": "https://localhost:8080/"
    },
    "executionInfo": {
     "elapsed": 87,
     "status": "ok",
     "timestamp": 1731038631014,
     "user": {
      "displayName": "Mark",
      "userId": "05293542057377705486"
     },
     "user_tz": 300
    },
    "id": "ELtn9b_MuS3A",
    "outputId": "63c925d8-2d2e-4f4c-eb2a-320e8c6e943c"
   },
   "outputs": [
    {
     "data": {
      "text/plain": [
       "50"
      ]
     },
     "execution_count": 34,
     "metadata": {},
     "output_type": "execute_result"
    }
   ],
   "source": [
    "# Check the length of how many samples we have\n",
    "len(X)"
   ]
  },
  {
   "cell_type": "code",
   "execution_count": 35,
   "metadata": {
    "colab": {
     "base_uri": "https://localhost:8080/"
    },
    "executionInfo": {
     "elapsed": 3,
     "status": "ok",
     "timestamp": 1731038631014,
     "user": {
      "displayName": "Mark",
      "userId": "05293542057377705486"
     },
     "user_tz": 300
    },
    "id": "cYKFdCXAueL0",
    "outputId": "1564a26a-5d7b-4269-adf0-5a6559a23551"
   },
   "outputs": [
    {
     "data": {
      "text/plain": [
       "(40, 10, 40, 10)"
      ]
     },
     "execution_count": 35,
     "metadata": {},
     "output_type": "execute_result"
    }
   ],
   "source": [
    "# Split the data into train and test sets\n",
    "X_train = X[:40] # first 40 are training samples (80% of the data)\n",
    "y_train = y[:40]\n",
    "\n",
    "X_test = X[40:] # last 10 are training samples (20% of the data)\n",
    "y_test = y[40:]\n",
    "\n",
    "len(X_train), len(X_test), len(y_train), len(y_test)"
   ]
  },
  {
   "cell_type": "code",
   "execution_count": 36,
   "metadata": {
    "executionInfo": {
     "elapsed": 1,
     "status": "ok",
     "timestamp": 1731038631014,
     "user": {
      "displayName": "Mark",
      "userId": "05293542057377705486"
     },
     "user_tz": 300
    },
    "id": "34_BjB6uwONi"
   },
   "outputs": [],
   "source": [
    "### Visualizing the data\n",
    "# Now we have our data in training and test sets.... lets visualize it again\n"
   ]
  },
  {
   "cell_type": "code",
   "execution_count": 37,
   "metadata": {
    "colab": {
     "base_uri": "https://localhost:8080/",
     "height": 599
    },
    "executionInfo": {
     "elapsed": 612,
     "status": "ok",
     "timestamp": 1731038631625,
     "user": {
      "displayName": "Mark",
      "userId": "05293542057377705486"
     },
     "user_tz": 300
    },
    "id": "V2eoWpT0wVPr",
    "outputId": "cff78133-b3ec-42a3-f51a-d72b75df16a9"
   },
   "outputs": [
    {
     "data": {
      "image/png": "[encoded data removed]",
      "text/plain": [
       "<Figure size 1000x700 with 1 Axes>"
      ]
     },
     "metadata": {},
     "output_type": "display_data"
    }
   ],
   "source": [
    "plt.figure(figsize=(10,7))\n",
    "# plot training data in blue\n",
    "plt.scatter(X_train, y_train, c=\"b\", label=\"Training Data\")\n",
    "plt.scatter(X_test, y_test, c=\"g\", label=\"Test data\")\n",
    "#Show a legend\n",
    "plt.legend();"
   ]
  },
  {
   "cell_type": "code",
   "execution_count": 38,
   "metadata": {
    "executionInfo": {
     "elapsed": 2,
     "status": "ok",
     "timestamp": 1731038631625,
     "user": {
      "displayName": "Mark",
      "userId": "05293542057377705486"
     },
     "user_tz": 300
    },
    "id": "ee1T35OzyLDt"
   },
   "outputs": [],
   "source": [
    "# Lets have a look at how to build a neural network for our data\n",
    "\n",
    "#1. Create the model\n",
    "model = tf.keras.Sequential([\n",
    "    tf.keras.layers.Dense(1)\n",
    "])\n",
    "\n",
    "#2. Compile the model\n",
    "model.compile(loss=\"mae\",\n",
    "              optimizer=tf.keras.optimizers.SGD(),\n",
    "              metrics=[\"mae\"])\n",
    "\n",
    "#3. Fit the model\n",
    "#model.fit(tf.expand_dims(X_train, axis=-1), y_train, epochs=100)\n",
    "\n"
   ]
  },
  {
   "cell_type": "code",
   "execution_count": 39,
   "metadata": {
    "executionInfo": {
     "elapsed": 1,
     "status": "ok",
     "timestamp": 1731038631625,
     "user": {
      "displayName": "Mark",
      "userId": "05293542057377705486"
     },
     "user_tz": 300
    },
    "id": "_nvVhoD3zcuX"
   },
   "outputs": [],
   "source": [
    "# Visualize the model\n",
    "#model.summary()"
   ]
  },
  {
   "cell_type": "code",
   "execution_count": 40,
   "metadata": {
    "colab": {
     "base_uri": "https://localhost:8080/"
    },
    "executionInfo": {
     "elapsed": 320,
     "status": "ok",
     "timestamp": 1731038631944,
     "user": {
      "displayName": "Mark",
      "userId": "05293542057377705486"
     },
     "user_tz": 300
    },
    "id": "T6tWtbuJzv30",
    "outputId": "da724191-cfe7-41f4-9e62-40cb7754ea4d"
   },
   "outputs": [
    {
     "name": "stdout",
     "output_type": "stream",
     "text": [
      "Model: \"one_of_many1\"\n",
      "_________________________________________________________________\n",
      " Layer (type)                Output Shape              Param #   \n",
      "=================================================================\n",
      " input_layer (Dense)         (None, 100)               200       \n",
      "                                                                 \n",
      " output_layer (Dense)        (None, 1)                 101       \n",
      "                                                                 \n",
      "=================================================================\n",
      "Total params: 301 (1.18 KB)\n",
      "Trainable params: 301 (1.18 KB)\n",
      "Non-trainable params: 0 (0.00 Byte)\n",
      "_________________________________________________________________\n"
     ]
    }
   ],
   "source": [
    "#lets create a model that builds automatically by defining the input_shape argument in the first layer\n",
    "tf.random.set_seed(42)\n",
    "\n",
    "#1. Create a model\n",
    "model = tf.keras.Sequential([\n",
    "    tf.keras.layers.Dense(100, input_shape=[1], name=\"input_layer\"),\n",
    "    tf.keras.layers.Dense(1, name=\"output_layer\")\n",
    "], name=\"one_of_many1\")\n",
    "\n",
    "#2. Compile the model\n",
    "model.compile(loss = tf.keras.losses.mae,\n",
    "              optimizer = tf.keras.optimizers.SGD(),\n",
    "              metrics=[\"mae\"])\n",
    "\n",
    "model.summary()"
   ]
  },
  {
   "cell_type": "code",
   "execution_count": 41,
   "metadata": {
    "executionInfo": {
     "elapsed": 2,
     "status": "ok",
     "timestamp": 1731038631944,
     "user": {
      "displayName": "Mark",
      "userId": "05293542057377705486"
     },
     "user_tz": 300
    },
    "id": "KJwqv5qf1XUV"
   },
   "outputs": [],
   "source": [
    "# Total params = Total number of parameters in the model\n",
    "# Trainable params = these are the parameters (patterns) the mode can update as it trains\n",
    "# non-trainable params = these parameters arent updated during training (this is typical when you bring in already-learned parameters (patterns) from other models during TRANSFER LEARNING)\n"
   ]
  },
  {
   "cell_type": "markdown",
   "metadata": {
    "id": "FoHEmY2z2lGF"
   },
   "source": [
    "📖 ** Resource ** For a more in-depth overview of trainable parameters within a layer, check out MIT's introduction to deep learning video\n",
    "\n",
    "⚒ ** Exercise ** Try playing around with the number of hidden units in the dense layer, see how that affects the number of parameters (total and trainable) by calling 'model.summary()'\n"
   ]
  },
  {
   "cell_type": "code",
   "execution_count": 42,
   "metadata": {
    "colab": {
     "base_uri": "https://localhost:8080/"
    },
    "executionInfo": {
     "elapsed": 6036,
     "status": "ok",
     "timestamp": 1731038637979,
     "user": {
      "displayName": "Mark",
      "userId": "05293542057377705486"
     },
     "user_tz": 300
    },
    "id": "jPwOBRc23h00",
    "outputId": "81f5c4ea-f14a-4214-c060-78f031e9896b"
   },
   "outputs": [
    {
     "name": "stdout",
     "output_type": "stream",
     "text": [
      "Epoch 1/100\n",
      "2/2 [==============================] - 1s 23ms/step - loss: 36.5250 - mae: 36.5250\n",
      "Epoch 2/100\n",
      "2/2 [==============================] - 0s 18ms/step - loss: 28.9743 - mae: 28.9743\n",
      "Epoch 3/100\n",
      "2/2 [==============================] - 0s 13ms/step - loss: 33.5577 - mae: 33.5577\n",
      "Epoch 4/100\n",
      "2/2 [==============================] - 0s 13ms/step - loss: 29.9639 - mae: 29.9639\n",
      "Epoch 5/100\n",
      "2/2 [==============================] - 0s 12ms/step - loss: 15.2969 - mae: 15.2969\n",
      "Epoch 6/100\n",
      "2/2 [==============================] - 0s 12ms/step - loss: 12.1505 - mae: 12.1505\n",
      "Epoch 7/100\n",
      "2/2 [==============================] - 0s 26ms/step - loss: 11.4535 - mae: 11.4535\n",
      "Epoch 8/100\n",
      "2/2 [==============================] - 0s 19ms/step - loss: 11.2030 - mae: 11.2030\n",
      "Epoch 9/100\n",
      "2/2 [==============================] - 0s 14ms/step - loss: 41.7123 - mae: 41.7123\n",
      "Epoch 10/100\n",
      "2/2 [==============================] - 0s 9ms/step - loss: 28.9462 - mae: 28.9462\n",
      "Epoch 11/100\n",
      "2/2 [==============================] - 0s 10ms/step - loss: 8.5467 - mae: 8.5467\n",
      "Epoch 12/100\n",
      "2/2 [==============================] - 0s 9ms/step - loss: 27.4354 - mae: 27.4354\n",
      "Epoch 13/100\n",
      "2/2 [==============================] - 0s 20ms/step - loss: 12.1284 - mae: 12.1284\n",
      "Epoch 14/100\n",
      "2/2 [==============================] - 0s 8ms/step - loss: 34.8768 - mae: 34.8768\n",
      "Epoch 15/100\n",
      "2/2 [==============================] - 0s 12ms/step - loss: 22.7032 - mae: 22.7032\n",
      "Epoch 16/100\n",
      "2/2 [==============================] - 0s 17ms/step - loss: 9.9518 - mae: 9.9518\n",
      "Epoch 17/100\n",
      "2/2 [==============================] - 0s 23ms/step - loss: 17.9250 - mae: 17.9250\n",
      "Epoch 18/100\n",
      "2/2 [==============================] - 0s 10ms/step - loss: 14.3976 - mae: 14.3976\n",
      "Epoch 19/100\n",
      "2/2 [==============================] - 0s 18ms/step - loss: 14.5108 - mae: 14.5108\n",
      "Epoch 20/100\n",
      "2/2 [==============================] - 0s 26ms/step - loss: 10.4963 - mae: 10.4963\n",
      "Epoch 21/100\n",
      "2/2 [==============================] - 0s 20ms/step - loss: 15.2789 - mae: 15.2789\n",
      "Epoch 22/100\n",
      "2/2 [==============================] - 0s 11ms/step - loss: 15.6272 - mae: 15.6272\n",
      "Epoch 23/100\n",
      "2/2 [==============================] - 0s 30ms/step - loss: 9.2357 - mae: 9.2357\n",
      "Epoch 24/100\n",
      "2/2 [==============================] - 0s 26ms/step - loss: 17.2244 - mae: 17.2244\n",
      "Epoch 25/100\n",
      "2/2 [==============================] - 0s 40ms/step - loss: 15.9117 - mae: 15.9117\n",
      "Epoch 26/100\n",
      "2/2 [==============================] - 0s 27ms/step - loss: 20.8634 - mae: 20.8634\n",
      "Epoch 27/100\n",
      "2/2 [==============================] - 0s 29ms/step - loss: 26.1146 - mae: 26.1146\n",
      "Epoch 28/100\n",
      "2/2 [==============================] - 0s 12ms/step - loss: 18.5929 - mae: 18.5929\n",
      "Epoch 29/100\n",
      "2/2 [==============================] - 0s 23ms/step - loss: 9.2508 - mae: 9.2508\n",
      "Epoch 30/100\n",
      "2/2 [==============================] - 0s 13ms/step - loss: 29.2144 - mae: 29.2144\n",
      "Epoch 31/100\n",
      "2/2 [==============================] - 0s 22ms/step - loss: 52.9277 - mae: 52.9277\n",
      "Epoch 32/100\n",
      "2/2 [==============================] - 0s 13ms/step - loss: 11.9817 - mae: 11.9817\n",
      "Epoch 33/100\n",
      "2/2 [==============================] - 0s 19ms/step - loss: 15.6064 - mae: 15.6064\n",
      "Epoch 34/100\n",
      "2/2 [==============================] - 0s 14ms/step - loss: 12.6753 - mae: 12.6753\n",
      "Epoch 35/100\n",
      "2/2 [==============================] - 0s 30ms/step - loss: 9.2348 - mae: 9.2348\n",
      "Epoch 36/100\n",
      "2/2 [==============================] - 0s 29ms/step - loss: 16.6091 - mae: 16.6091\n",
      "Epoch 37/100\n",
      "2/2 [==============================] - 0s 42ms/step - loss: 11.0537 - mae: 11.0537\n",
      "Epoch 38/100\n",
      "2/2 [==============================] - 0s 14ms/step - loss: 18.1797 - mae: 18.1797\n",
      "Epoch 39/100\n",
      "2/2 [==============================] - 0s 26ms/step - loss: 19.1163 - mae: 19.1163\n",
      "Epoch 40/100\n",
      "2/2 [==============================] - 0s 44ms/step - loss: 20.4579 - mae: 20.4579\n",
      "Epoch 41/100\n",
      "2/2 [==============================] - 0s 48ms/step - loss: 14.8860 - mae: 14.8860\n",
      "Epoch 42/100\n",
      "2/2 [==============================] - 0s 14ms/step - loss: 12.2633 - mae: 12.2633\n",
      "Epoch 43/100\n",
      "2/2 [==============================] - 0s 16ms/step - loss: 10.7262 - mae: 10.7262\n",
      "Epoch 44/100\n",
      "2/2 [==============================] - 0s 15ms/step - loss: 22.9555 - mae: 22.9555\n",
      "Epoch 45/100\n",
      "2/2 [==============================] - 0s 12ms/step - loss: 10.3749 - mae: 10.3749\n",
      "Epoch 46/100\n",
      "2/2 [==============================] - 0s 24ms/step - loss: 11.7650 - mae: 11.7650\n",
      "Epoch 47/100\n",
      "2/2 [==============================] - 0s 17ms/step - loss: 9.6605 - mae: 9.6605\n",
      "Epoch 48/100\n",
      "2/2 [==============================] - 0s 19ms/step - loss: 17.2650 - mae: 17.2650\n",
      "Epoch 49/100\n",
      "2/2 [==============================] - 0s 16ms/step - loss: 9.5587 - mae: 9.5587\n",
      "Epoch 50/100\n",
      "2/2 [==============================] - 0s 12ms/step - loss: 13.7885 - mae: 13.7885\n",
      "Epoch 51/100\n",
      "2/2 [==============================] - 0s 13ms/step - loss: 11.5878 - mae: 11.5878\n",
      "Epoch 52/100\n",
      "2/2 [==============================] - 0s 52ms/step - loss: 30.4575 - mae: 30.4575\n",
      "Epoch 53/100\n",
      "2/2 [==============================] - 0s 14ms/step - loss: 14.3146 - mae: 14.3146\n",
      "Epoch 54/100\n",
      "2/2 [==============================] - 0s 18ms/step - loss: 23.6706 - mae: 23.6706\n",
      "Epoch 55/100\n",
      "2/2 [==============================] - 0s 13ms/step - loss: 24.6054 - mae: 24.6054\n",
      "Epoch 56/100\n",
      "2/2 [==============================] - 0s 13ms/step - loss: 11.3432 - mae: 11.3432\n",
      "Epoch 57/100\n",
      "2/2 [==============================] - 0s 13ms/step - loss: 13.3641 - mae: 13.3641\n",
      "Epoch 58/100\n",
      "2/2 [==============================] - 0s 14ms/step - loss: 9.9496 - mae: 9.9496\n",
      "Epoch 59/100\n",
      "2/2 [==============================] - 0s 32ms/step - loss: 13.9218 - mae: 13.9218\n",
      "Epoch 60/100\n",
      "2/2 [==============================] - 0s 35ms/step - loss: 9.9926 - mae: 9.9926\n",
      "Epoch 61/100\n",
      "2/2 [==============================] - 0s 21ms/step - loss: 14.9795 - mae: 14.9795\n",
      "Epoch 62/100\n",
      "2/2 [==============================] - 0s 41ms/step - loss: 11.9296 - mae: 11.9296\n",
      "Epoch 63/100\n",
      "2/2 [==============================] - 0s 38ms/step - loss: 10.2886 - mae: 10.2886\n",
      "Epoch 64/100\n",
      "2/2 [==============================] - 0s 113ms/step - loss: 23.9057 - mae: 23.9057\n",
      "Epoch 65/100\n",
      "2/2 [==============================] - 0s 77ms/step - loss: 10.4655 - mae: 10.4655\n",
      "Epoch 66/100\n",
      "2/2 [==============================] - 0s 25ms/step - loss: 20.9505 - mae: 20.9505\n",
      "Epoch 67/100\n",
      "2/2 [==============================] - 0s 12ms/step - loss: 10.4454 - mae: 10.4454\n",
      "Epoch 68/100\n",
      "2/2 [==============================] - 0s 16ms/step - loss: 14.1895 - mae: 14.1895\n",
      "Epoch 69/100\n",
      "2/2 [==============================] - 0s 26ms/step - loss: 10.5186 - mae: 10.5186\n",
      "Epoch 70/100\n",
      "2/2 [==============================] - 0s 17ms/step - loss: 12.5910 - mae: 12.5910\n",
      "Epoch 71/100\n",
      "2/2 [==============================] - 0s 17ms/step - loss: 13.0214 - mae: 13.0214\n",
      "Epoch 72/100\n",
      "2/2 [==============================] - 0s 18ms/step - loss: 19.3826 - mae: 19.3826\n",
      "Epoch 73/100\n",
      "2/2 [==============================] - 0s 18ms/step - loss: 11.1324 - mae: 11.1324\n",
      "Epoch 74/100\n",
      "2/2 [==============================] - 0s 28ms/step - loss: 21.6259 - mae: 21.6259\n",
      "Epoch 75/100\n",
      "2/2 [==============================] - 0s 26ms/step - loss: 7.2236 - mae: 7.2236\n",
      "Epoch 76/100\n",
      "2/2 [==============================] - 0s 36ms/step - loss: 9.4539 - mae: 9.4539\n",
      "Epoch 77/100\n",
      "2/2 [==============================] - 0s 57ms/step - loss: 22.1621 - mae: 22.1621\n",
      "Epoch 78/100\n",
      "2/2 [==============================] - 0s 18ms/step - loss: 17.4807 - mae: 17.4807\n",
      "Epoch 79/100\n",
      "2/2 [==============================] - 0s 27ms/step - loss: 14.7156 - mae: 14.7156\n",
      "Epoch 80/100\n",
      "2/2 [==============================] - 0s 17ms/step - loss: 24.8916 - mae: 24.8916\n",
      "Epoch 81/100\n",
      "2/2 [==============================] - 0s 15ms/step - loss: 10.7926 - mae: 10.7926\n",
      "Epoch 82/100\n",
      "2/2 [==============================] - 0s 19ms/step - loss: 12.8222 - mae: 12.8222\n",
      "Epoch 83/100\n",
      "2/2 [==============================] - 0s 15ms/step - loss: 17.6194 - mae: 17.6194\n",
      "Epoch 84/100\n",
      "2/2 [==============================] - 0s 17ms/step - loss: 7.2989 - mae: 7.2989\n",
      "Epoch 85/100\n",
      "2/2 [==============================] - 0s 22ms/step - loss: 15.1129 - mae: 15.1129\n",
      "Epoch 86/100\n",
      "2/2 [==============================] - 0s 21ms/step - loss: 15.4037 - mae: 15.4037\n",
      "Epoch 87/100\n",
      "2/2 [==============================] - 0s 15ms/step - loss: 19.3449 - mae: 19.3449\n",
      "Epoch 88/100\n",
      "2/2 [==============================] - 0s 20ms/step - loss: 29.2038 - mae: 29.2038\n",
      "Epoch 89/100\n",
      "2/2 [==============================] - 0s 14ms/step - loss: 10.0832 - mae: 10.0832\n",
      "Epoch 90/100\n",
      "2/2 [==============================] - 0s 13ms/step - loss: 21.0195 - mae: 21.0195\n",
      "Epoch 91/100\n",
      "2/2 [==============================] - 0s 15ms/step - loss: 10.4501 - mae: 10.4501\n",
      "Epoch 92/100\n",
      "2/2 [==============================] - 0s 14ms/step - loss: 17.9473 - mae: 17.9473\n",
      "Epoch 93/100\n",
      "2/2 [==============================] - 0s 19ms/step - loss: 6.5517 - mae: 6.5517\n",
      "Epoch 94/100\n",
      "2/2 [==============================] - 0s 30ms/step - loss: 11.1084 - mae: 11.1084\n",
      "Epoch 95/100\n",
      "2/2 [==============================] - 0s 27ms/step - loss: 24.3359 - mae: 24.3359\n",
      "Epoch 96/100\n",
      "2/2 [==============================] - 0s 27ms/step - loss: 10.7145 - mae: 10.7145\n",
      "Epoch 97/100\n",
      "2/2 [==============================] - 0s 18ms/step - loss: 15.3350 - mae: 15.3350\n",
      "Epoch 98/100\n",
      "2/2 [==============================] - 0s 25ms/step - loss: 8.2360 - mae: 8.2360\n",
      "Epoch 99/100\n",
      "2/2 [==============================] - 0s 45ms/step - loss: 16.5145 - mae: 16.5145\n",
      "Epoch 100/100\n",
      "2/2 [==============================] - 0s 25ms/step - loss: 14.2928 - mae: 14.2928\n"
     ]
    },
    {
     "data": {
      "text/plain": [
       "<keras.src.callbacks.History at 0x7f04685dca00>"
      ]
     },
     "execution_count": 42,
     "metadata": {},
     "output_type": "execute_result"
    }
   ],
   "source": [
    "# lets fit our model to the training data\n",
    "model.fit(X_train, y_train, epochs=100, verbose=1)"
   ]
  },
  {
   "cell_type": "code",
   "execution_count": 43,
   "metadata": {
    "colab": {
     "base_uri": "https://localhost:8080/"
    },
    "executionInfo": {
     "elapsed": 4,
     "status": "ok",
     "timestamp": 1731038637979,
     "user": {
      "displayName": "Mark",
      "userId": "05293542057377705486"
     },
     "user_tz": 300
    },
    "id": "kqRfOPzn8Lwc",
    "outputId": "62abe1cb-692f-41ac-8aa3-dcb334717b0d"
   },
   "outputs": [
    {
     "name": "stdout",
     "output_type": "stream",
     "text": [
      "Model: \"one_of_many1\"\n",
      "_________________________________________________________________\n",
      " Layer (type)                Output Shape              Param #   \n",
      "=================================================================\n",
      " input_layer (Dense)         (None, 100)               200       \n",
      "                                                                 \n",
      " output_layer (Dense)        (None, 1)                 101       \n",
      "                                                                 \n",
      "=================================================================\n",
      "Total params: 301 (1.18 KB)\n",
      "Trainable params: 301 (1.18 KB)\n",
      "Non-trainable params: 0 (0.00 Byte)\n",
      "_________________________________________________________________\n"
     ]
    }
   ],
   "source": [
    "model.summary()"
   ]
  },
  {
   "cell_type": "code",
   "execution_count": 44,
   "metadata": {
    "colab": {
     "base_uri": "https://localhost:8080/",
     "height": 312
    },
    "executionInfo": {
     "elapsed": 552,
     "status": "ok",
     "timestamp": 1731038638529,
     "user": {
      "displayName": "Mark",
      "userId": "05293542057377705486"
     },
     "user_tz": 300
    },
    "id": "MyzJY1DU_msg",
    "outputId": "a55c3901-3eea-4130-d37b-a9484897e400"
   },
   "outputs": [
    {
     "data": {
      "image/png": "[encoded data removed]",
      "text/plain": [
       "<IPython.core.display.Image object>"
      ]
     },
     "execution_count": 44,
     "metadata": {},
     "output_type": "execute_result"
    }
   ],
   "source": [
    "from tensorflow.keras.utils import plot_model\n",
    "\n",
    "plot_model(model, show_shapes=True)"
   ]
  },
  {
   "cell_type": "code",
   "execution_count": 44,
   "metadata": {
    "executionInfo": {
     "elapsed": 3,
     "status": "ok",
     "timestamp": 1731038638529,
     "user": {
      "displayName": "Mark",
      "userId": "05293542057377705486"
     },
     "user_tz": 300
    },
    "id": "mmWzPkwfByEu"
   },
   "outputs": [],
   "source": []
  },
  {
   "cell_type": "markdown",
   "metadata": {
    "id": "BjG72sCrByb9"
   },
   "source": [
    "### Visualizing our model's predictions ###"
   ]
  },
  {
   "cell_type": "code",
   "execution_count": 45,
   "metadata": {
    "executionInfo": {
     "elapsed": 2,
     "status": "ok",
     "timestamp": 1731038638529,
     "user": {
      "displayName": "Mark",
      "userId": "05293542057377705486"
     },
     "user_tz": 300
    },
    "id": "PFqhfnqOB1ZX"
   },
   "outputs": [],
   "source": [
    "# To visualize predictions, its a good idea to plot them against the ground truth labels\n",
    "# Often you will see this in the form of y_test or y_true vs. y_pred (ground truth vs. your model)\n"
   ]
  },
  {
   "cell_type": "code",
   "execution_count": 46,
   "metadata": {
    "colab": {
     "base_uri": "https://localhost:8080/"
    },
    "executionInfo": {
     "elapsed": 199,
     "status": "ok",
     "timestamp": 1731038638726,
     "user": {
      "displayName": "Mark",
      "userId": "05293542057377705486"
     },
     "user_tz": 300
    },
    "id": "ef5gsw0rCj_M",
    "outputId": "d8250500-702a-431e-eb0b-9dd5abcb3e53"
   },
   "outputs": [
    {
     "name": "stderr",
     "output_type": "stream",
     "text": [
      "WARNING:tensorflow:5 out of the last 5 calls to <function Model.make_predict_function.<locals>.predict_function at 0x7f0469f3f130> triggered tf.function retracing. Tracing is expensive and the excessive number of tracings could be due to (1) creating @tf.function repeatedly in a loop, (2) passing tensors with different shapes, (3) passing Python objects instead of tensors. For (1), please define your @tf.function outside of the loop. For (2), @tf.function has reduce_retracing=True option that can avoid unnecessary retracing. For (3), please refer to https://www.tensorflow.org/guide/function#controlling_retracing and https://www.tensorflow.org/api_docs/python/tf/function for  more details.\n"
     ]
    },
    {
     "name": "stdout",
     "output_type": "stream",
     "text": [
      "1/1 [==============================] - 0s 105ms/step\n"
     ]
    },
    {
     "data": {
      "text/plain": [
       "array([[ 76.40809 ],\n",
       "       [ 81.38561 ],\n",
       "       [ 86.36313 ],\n",
       "       [ 91.34066 ],\n",
       "       [ 96.318184],\n",
       "       [101.29572 ],\n",
       "       [106.27324 ],\n",
       "       [111.250755],\n",
       "       [116.22829 ],\n",
       "       [121.2058  ]], dtype=float32)"
      ]
     },
     "execution_count": 46,
     "metadata": {},
     "output_type": "execute_result"
    }
   ],
   "source": [
    "# Make some predictions\n",
    "y_pred = model.predict(X_test)\n",
    "y_pred"
   ]
  },
  {
   "cell_type": "code",
   "execution_count": 47,
   "metadata": {
    "executionInfo": {
     "elapsed": 2,
     "status": "ok",
     "timestamp": 1731038638726,
     "user": {
      "displayName": "Mark",
      "userId": "05293542057377705486"
     },
     "user_tz": 300
    },
    "id": "2mNfYm8BDE0U"
   },
   "outputs": [],
   "source": [
    "# Lets create a plotting function\n"
   ]
  },
  {
   "cell_type": "markdown",
   "metadata": {
    "id": "EMVVCU47DIzi"
   },
   "source": [
    "🔑 ## If you feel you will reuse some function in the future its a good idea to turn it into a function ##"
   ]
  },
  {
   "cell_type": "code",
   "execution_count": 48,
   "metadata": {
    "executionInfo": {
     "elapsed": 1,
     "status": "ok",
     "timestamp": 1731038638726,
     "user": {
      "displayName": "Mark",
      "userId": "05293542057377705486"
     },
     "user_tz": 300
    },
    "id": "3V5TXE6FDPqg"
   },
   "outputs": [],
   "source": [
    "def plot_predictions(train_data=X_train,\n",
    "                     train_labels=y_train,\n",
    "                     test_data=X_test,\n",
    "                     test_labels=y_test,\n",
    "                     predictions=y_pred):\n",
    "  \"\"\"\n",
    "  plots training data and test data and compares predictions to ground truth labels\n",
    "  \"\"\"\n",
    "  plt.figure(figsize=(10,7))\n",
    "  #plot training data in blue\n",
    "  plt.scatter(train_data, train_labels, c=\"b\", label=\"Training data\")\n",
    "  #Plot testing data in green\n",
    "  plt.scatter(test_data, test_labels, c=\"g\", label=\"Testing data\")\n",
    "  #Plot model's predictions in red\n",
    "  plt.scatter(test_data, predictions, c=\"r\", label=\"Predictions\")\n",
    "  #Show the legend\n",
    "  plt.legend();"
   ]
  },
  {
   "cell_type": "code",
   "execution_count": 49,
   "metadata": {
    "colab": {
     "base_uri": "https://localhost:8080/",
     "height": 599
    },
    "executionInfo": {
     "elapsed": 685,
     "status": "ok",
     "timestamp": 1731038639410,
     "user": {
      "displayName": "Mark",
      "userId": "05293542057377705486"
     },
     "user_tz": 300
    },
    "id": "xphe72E4ErKF",
    "outputId": "cf66f764-11ba-4880-bd8f-84474b566aea"
   },
   "outputs": [
    {
     "data": {
      "image/png": "[encoded data removed]",
      "text/plain": [
       "<Figure size 1000x700 with 1 Axes>"
      ]
     },
     "metadata": {},
     "output_type": "display_data"
    }
   ],
   "source": [
    "plot_predictions(train_data=X_train,\n",
    "                 train_labels=y_train,\n",
    "                 test_data=X_test,\n",
    "                 test_labels=y_test,\n",
    "                 predictions=y_pred)"
   ]
  },
  {
   "cell_type": "markdown",
   "metadata": {
    "id": "yIH-u1uc-oHa"
   },
   "source": [
    "### Evaluating our model's predictions with regression evaluation metrics\n",
    "\n",
    "Depending on the problem you are working on there will be different evaluation metrics to evaluate your model's performance.\n",
    "\n",
    "Since we're working on a regression, two of the main metrics:\n",
    "* MAE - mean absolute error; \"on average, how wrong is each of my model's predictions\n",
    "* MSE - mean square errors; \"squre the average errors\"\n"
   ]
  },
  {
   "cell_type": "code",
   "execution_count": 50,
   "metadata": {
    "colab": {
     "base_uri": "https://localhost:8080/"
    },
    "executionInfo": {
     "elapsed": 332,
     "status": "ok",
     "timestamp": 1731038639741,
     "user": {
      "displayName": "Mark",
      "userId": "05293542057377705486"
     },
     "user_tz": 300
    },
    "id": "eEwTOvf2BCov",
    "outputId": "5d7ebe3a-b43a-49fe-ddbf-181779294d7e"
   },
   "outputs": [
    {
     "name": "stdout",
     "output_type": "stream",
     "text": [
      "1/1 [==============================] - 0s 253ms/step - loss: 10.8070 - mae: 10.8070\n"
     ]
    },
    {
     "data": {
      "text/plain": [
       "[10.806950569152832, 10.806950569152832]"
      ]
     },
     "execution_count": 50,
     "metadata": {},
     "output_type": "execute_result"
    }
   ],
   "source": [
    "# Evaluate the model on the test set\n",
    "model.evaluate(X_test, y_test)"
   ]
  },
  {
   "cell_type": "code",
   "execution_count": 51,
   "metadata": {
    "colab": {
     "base_uri": "https://localhost:8080/"
    },
    "executionInfo": {
     "elapsed": 8,
     "status": "ok",
     "timestamp": 1731038639741,
     "user": {
      "displayName": "Mark",
      "userId": "05293542057377705486"
     },
     "user_tz": 300
    },
    "id": "Yv0-fIvnCMWO",
    "outputId": "553c778c-768e-4247-b1da-d20cbb551f8b"
   },
   "outputs": [
    {
     "data": {
      "text/plain": [
       "<tf.Tensor: shape=(10,), dtype=float32, numpy=\n",
       "array([13.355146, 11.045755, 10.      , 10.268132, 11.727274, 14.377434,\n",
       "       18.27324 , 23.250755, 28.228287, 33.205803], dtype=float32)>"
      ]
     },
     "execution_count": 51,
     "metadata": {},
     "output_type": "execute_result"
    }
   ],
   "source": [
    "# Calculate the mean square error\n",
    "mae = tf.keras.losses.mae(y_test, tf.constant(y_pred))\n",
    "mae"
   ]
  },
  {
   "cell_type": "code",
   "execution_count": 52,
   "metadata": {
    "colab": {
     "base_uri": "https://localhost:8080/"
    },
    "executionInfo": {
     "elapsed": 6,
     "status": "ok",
     "timestamp": 1731038639741,
     "user": {
      "displayName": "Mark",
      "userId": "05293542057377705486"
     },
     "user_tz": 300
    },
    "id": "nqMxquBY_LXN",
    "outputId": "63e5fcfd-1273-48be-930f-d2eb5f04cb34"
   },
   "outputs": [
    {
     "data": {
      "text/plain": [
       "<tf.Tensor: shape=(10, 1), dtype=float32, numpy=\n",
       "array([[ 76.40809 ],\n",
       "       [ 81.38561 ],\n",
       "       [ 86.36313 ],\n",
       "       [ 91.34066 ],\n",
       "       [ 96.318184],\n",
       "       [101.29572 ],\n",
       "       [106.27324 ],\n",
       "       [111.250755],\n",
       "       [116.22829 ],\n",
       "       [121.2058  ]], dtype=float32)>"
      ]
     },
     "execution_count": 52,
     "metadata": {},
     "output_type": "execute_result"
    }
   ],
   "source": [
    "tf.constant(y_pred)"
   ]
  },
  {
   "cell_type": "code",
   "execution_count": 53,
   "metadata": {
    "colab": {
     "base_uri": "https://localhost:8080/"
    },
    "executionInfo": {
     "elapsed": 5,
     "status": "ok",
     "timestamp": 1731038639741,
     "user": {
      "displayName": "Mark",
      "userId": "05293542057377705486"
     },
     "user_tz": 300
    },
    "id": "IYnbpDGTCHia",
    "outputId": "75e8cff7-e319-4aa5-e8b7-3a4fd20e009c"
   },
   "outputs": [
    {
     "data": {
      "text/plain": [
       "<tf.Tensor: shape=(10,), dtype=int32, numpy=array([ 70,  74,  78,  82,  86,  90,  94,  98, 102, 106], dtype=int32)>"
      ]
     },
     "execution_count": 53,
     "metadata": {},
     "output_type": "execute_result"
    }
   ],
   "source": [
    "y_test"
   ]
  },
  {
   "cell_type": "code",
   "execution_count": 54,
   "metadata": {
    "colab": {
     "base_uri": "https://localhost:8080/"
    },
    "executionInfo": {
     "elapsed": 86,
     "status": "ok",
     "timestamp": 1731038639823,
     "user": {
      "displayName": "Mark",
      "userId": "05293542057377705486"
     },
     "user_tz": 300
    },
    "id": "EMgswT8sD5ZK",
    "outputId": "6b9f7757-2947-4ebf-eb76-1e86d0f196ef"
   },
   "outputs": [
    {
     "data": {
      "text/plain": [
       "<tf.Tensor: shape=(10,), dtype=float32, numpy=\n",
       "array([ 76.40809 ,  81.38561 ,  86.36313 ,  91.34066 ,  96.318184,\n",
       "       101.29572 , 106.27324 , 111.250755, 116.22829 , 121.2058  ],\n",
       "      dtype=float32)>"
      ]
     },
     "execution_count": 54,
     "metadata": {},
     "output_type": "execute_result"
    }
   ],
   "source": [
    "tf.squeeze(y_pred)"
   ]
  },
  {
   "cell_type": "code",
   "execution_count": 55,
   "metadata": {
    "colab": {
     "base_uri": "https://localhost:8080/"
    },
    "executionInfo": {
     "elapsed": 5,
     "status": "ok",
     "timestamp": 1731038639823,
     "user": {
      "displayName": "Mark",
      "userId": "05293542057377705486"
     },
     "user_tz": 300
    },
    "id": "KWqcRdspECtB",
    "outputId": "474f80d5-2e3f-4677-fdcf-5ae7a7ec338c"
   },
   "outputs": [
    {
     "data": {
      "text/plain": [
       "<tf.Tensor: shape=(), dtype=float32, numpy=10.806948>"
      ]
     },
     "execution_count": 55,
     "metadata": {},
     "output_type": "execute_result"
    }
   ],
   "source": [
    "#Calculate the mean absolute error\n",
    "mae = tf.metrics.mean_absolute_error(y_true=y_test,\n",
    "                                     y_pred=tf.squeeze(y_pred))\n",
    "mae"
   ]
  },
  {
   "cell_type": "code",
   "execution_count": 56,
   "metadata": {
    "colab": {
     "base_uri": "https://localhost:8080/"
    },
    "executionInfo": {
     "elapsed": 4,
     "status": "ok",
     "timestamp": 1731038639823,
     "user": {
      "displayName": "Mark",
      "userId": "05293542057377705486"
     },
     "user_tz": 300
    },
    "id": "-GbpBBkjVZvO",
    "outputId": "acd276ae-dcee-4d79-e3f9-82bedba49d80"
   },
   "outputs": [
    {
     "data": {
      "text/plain": [
       "<tf.Tensor: shape=(), dtype=float32, numpy=124.67345>"
      ]
     },
     "execution_count": 56,
     "metadata": {},
     "output_type": "execute_result"
    }
   ],
   "source": [
    "# Calculate the mean square error\n",
    "mse = tf.keras.losses.mse(y_true=y_test,\n",
    "                          y_pred=tf.squeeze(y_pred))\n",
    "mse"
   ]
  },
  {
   "cell_type": "code",
   "execution_count": 57,
   "metadata": {
    "executionInfo": {
     "elapsed": 3,
     "status": "ok",
     "timestamp": 1731038639823,
     "user": {
      "displayName": "Mark",
      "userId": "05293542057377705486"
     },
     "user_tz": 300
    },
    "id": "gHhO6ibpWbQK"
   },
   "outputs": [],
   "source": [
    "# make some functions to reuse MAE and MSE\n",
    "\n",
    "def mae(y_true, y_pred):\n",
    "  return(tf.metrics.mean_absolute_error(y_true=y_true, y_pred=tf.squeeze(y_pred)))\n",
    "\n",
    "def mse(y_true,y_pred):\n",
    "  return tf.keras.losses.mse(y_true=y_true, y_pred=tf.squeeze(y_pred))\n",
    "\n"
   ]
  },
  {
   "cell_type": "markdown",
   "metadata": {
    "id": "AGhkjjkUXDa9"
   },
   "source": [
    "### Running experiments to improve our model ###\n",
    "'''\n",
    "Build a model, fit it, evaluate it, tweak it, fit, evaluate, tweak, fit, etc...\n",
    "'''\n",
    "\n",
    "1. Get more data (more examples to train our model on... more opporunities to learn patterns and relationships between features and labels.\n",
    "2. Make your model larger (use a more complex model) -> this might come in the form of more layers or more hidden units within each layer.\n",
    "3. Train for longer -> Give your model more of a chance to find more patterns within the data.\n",
    "\n",
    "Let's do 3 modeling experiments:\n",
    "1.  `model 1` - same as the original model, 1 layer, but trained for 100 epochs\n",
    "2. `model 2` - 2 layers, trained for 100 epochs\n",
    "3. `model 3` - 2 layers, trained for 500 epochs\n",
    "4. create your own 4 and 5"
   ]
  },
  {
   "cell_type": "code",
   "execution_count": 58,
   "metadata": {
    "colab": {
     "base_uri": "https://localhost:8080/"
    },
    "executionInfo": {
     "elapsed": 3,
     "status": "ok",
     "timestamp": 1731038639823,
     "user": {
      "displayName": "Mark",
      "userId": "05293542057377705486"
     },
     "user_tz": 300
    },
    "id": "u-63PbQjYA_9",
    "outputId": "42d25baf-f331-471d-890e-c42005ac4f4d"
   },
   "outputs": [
    {
     "data": {
      "text/plain": [
       "(<tf.Tensor: shape=(40,), dtype=int32, numpy=\n",
       " array([-100,  -96,  -92,  -88,  -84,  -80,  -76,  -72,  -68,  -64,  -60,\n",
       "         -56,  -52,  -48,  -44,  -40,  -36,  -32,  -28,  -24,  -20,  -16,\n",
       "         -12,   -8,   -4,    0,    4,    8,   12,   16,   20,   24,   28,\n",
       "          32,   36,   40,   44,   48,   52,   56], dtype=int32)>,\n",
       " <tf.Tensor: shape=(40,), dtype=int32, numpy=\n",
       " array([-90, -86, -82, -78, -74, -70, -66, -62, -58, -54, -50, -46, -42,\n",
       "        -38, -34, -30, -26, -22, -18, -14, -10,  -6,  -2,   2,   6,  10,\n",
       "         14,  18,  22,  26,  30,  34,  38,  42,  46,  50,  54,  58,  62,\n",
       "         66], dtype=int32)>)"
      ]
     },
     "execution_count": 58,
     "metadata": {},
     "output_type": "execute_result"
    }
   ],
   "source": [
    "X_train, y_train"
   ]
  },
  {
   "cell_type": "markdown",
   "metadata": {
    "id": "ijLxTCjtYsXx"
   },
   "source": [
    "### Build model 1 ###\n"
   ]
  },
  {
   "cell_type": "markdown",
   "metadata": {
    "id": "Mak0bu9mYumD"
   },
   "source": []
  },
  {
   "cell_type": "code",
   "execution_count": 59,
   "metadata": {
    "colab": {
     "base_uri": "https://localhost:8080/"
    },
    "executionInfo": {
     "elapsed": 2787,
     "status": "ok",
     "timestamp": 1731038642686,
     "user": {
      "displayName": "Mark",
      "userId": "05293542057377705486"
     },
     "user_tz": 300
    },
    "id": "iIWsan4BYvXC",
    "outputId": "b89f4510-0ebe-4d7f-d869-479b2fe0ff46"
   },
   "outputs": [
    {
     "name": "stdout",
     "output_type": "stream",
     "text": [
      "Epoch 1/100\n",
      "2/2 [==============================] - 1s 20ms/step - loss: 15.0223 - mae: 15.0223\n",
      "Epoch 2/100\n",
      "2/2 [==============================] - 0s 11ms/step - loss: 10.8465 - mae: 10.8465\n",
      "Epoch 3/100\n",
      "2/2 [==============================] - 0s 10ms/step - loss: 11.5336 - mae: 11.5336\n",
      "Epoch 4/100\n",
      "2/2 [==============================] - 0s 13ms/step - loss: 9.4209 - mae: 9.4209\n",
      "Epoch 5/100\n",
      "2/2 [==============================] - 0s 8ms/step - loss: 10.3082 - mae: 10.3082\n",
      "Epoch 6/100\n",
      "2/2 [==============================] - 0s 12ms/step - loss: 9.5538 - mae: 9.5538\n",
      "Epoch 7/100\n",
      "2/2 [==============================] - 0s 10ms/step - loss: 8.6736 - mae: 8.6736\n",
      "Epoch 8/100\n",
      "2/2 [==============================] - 0s 16ms/step - loss: 9.0522 - mae: 9.0522\n",
      "Epoch 9/100\n",
      "2/2 [==============================] - 0s 7ms/step - loss: 19.0113 - mae: 19.0113\n",
      "Epoch 10/100\n",
      "2/2 [==============================] - 0s 13ms/step - loss: 10.2581 - mae: 10.2581\n",
      "Epoch 11/100\n",
      "2/2 [==============================] - 0s 10ms/step - loss: 8.4536 - mae: 8.4536\n",
      "Epoch 12/100\n",
      "2/2 [==============================] - 0s 12ms/step - loss: 10.7789 - mae: 10.7789\n",
      "Epoch 13/100\n",
      "2/2 [==============================] - 0s 9ms/step - loss: 9.8479 - mae: 9.8479\n",
      "Epoch 14/100\n",
      "2/2 [==============================] - 0s 12ms/step - loss: 12.0008 - mae: 12.0008\n",
      "Epoch 15/100\n",
      "2/2 [==============================] - 0s 16ms/step - loss: 12.4974 - mae: 12.4974\n",
      "Epoch 16/100\n",
      "2/2 [==============================] - 0s 10ms/step - loss: 7.9043 - mae: 7.9043\n",
      "Epoch 17/100\n",
      "2/2 [==============================] - 0s 10ms/step - loss: 12.8093 - mae: 12.8093\n",
      "Epoch 18/100\n",
      "2/2 [==============================] - 0s 9ms/step - loss: 10.4324 - mae: 10.4324\n",
      "Epoch 19/100\n",
      "2/2 [==============================] - 0s 9ms/step - loss: 19.2830 - mae: 19.2830\n",
      "Epoch 20/100\n",
      "2/2 [==============================] - 0s 8ms/step - loss: 15.9456 - mae: 15.9456\n",
      "Epoch 21/100\n",
      "2/2 [==============================] - 0s 9ms/step - loss: 11.8671 - mae: 11.8671\n",
      "Epoch 22/100\n",
      "2/2 [==============================] - 0s 9ms/step - loss: 8.4742 - mae: 8.4742\n",
      "Epoch 23/100\n",
      "2/2 [==============================] - 0s 8ms/step - loss: 9.7994 - mae: 9.7994\n",
      "Epoch 24/100\n",
      "2/2 [==============================] - 0s 8ms/step - loss: 10.8346 - mae: 10.8346\n",
      "Epoch 25/100\n",
      "2/2 [==============================] - 0s 7ms/step - loss: 9.1070 - mae: 9.1070\n",
      "Epoch 26/100\n",
      "2/2 [==============================] - 0s 12ms/step - loss: 13.0635 - mae: 13.0635\n",
      "Epoch 27/100\n",
      "2/2 [==============================] - 0s 10ms/step - loss: 10.3968 - mae: 10.3968\n",
      "Epoch 28/100\n",
      "2/2 [==============================] - 0s 9ms/step - loss: 13.4024 - mae: 13.4024\n",
      "Epoch 29/100\n",
      "2/2 [==============================] - 0s 10ms/step - loss: 9.6074 - mae: 9.6074\n",
      "Epoch 30/100\n",
      "2/2 [==============================] - 0s 9ms/step - loss: 17.2230 - mae: 17.2230\n",
      "Epoch 31/100\n",
      "2/2 [==============================] - 0s 10ms/step - loss: 22.8378 - mae: 22.8378\n",
      "Epoch 32/100\n",
      "2/2 [==============================] - 0s 8ms/step - loss: 7.9099 - mae: 7.9099\n",
      "Epoch 33/100\n",
      "2/2 [==============================] - 0s 9ms/step - loss: 14.1532 - mae: 14.1532\n",
      "Epoch 34/100\n",
      "2/2 [==============================] - 0s 10ms/step - loss: 12.4031 - mae: 12.4031\n",
      "Epoch 35/100\n",
      "2/2 [==============================] - 0s 10ms/step - loss: 8.2471 - mae: 8.2471\n",
      "Epoch 36/100\n",
      "2/2 [==============================] - 0s 9ms/step - loss: 10.4606 - mae: 10.4606\n",
      "Epoch 37/100\n",
      "2/2 [==============================] - 0s 8ms/step - loss: 10.1092 - mae: 10.1092\n",
      "Epoch 38/100\n",
      "2/2 [==============================] - 0s 8ms/step - loss: 11.2924 - mae: 11.2924\n",
      "Epoch 39/100\n",
      "2/2 [==============================] - 0s 10ms/step - loss: 14.7751 - mae: 14.7751\n",
      "Epoch 40/100\n",
      "2/2 [==============================] - 0s 8ms/step - loss: 12.9052 - mae: 12.9052\n",
      "Epoch 41/100\n",
      "2/2 [==============================] - 0s 9ms/step - loss: 9.2978 - mae: 9.2978\n",
      "Epoch 42/100\n",
      "2/2 [==============================] - 0s 8ms/step - loss: 10.9783 - mae: 10.9783\n",
      "Epoch 43/100\n",
      "2/2 [==============================] - 0s 8ms/step - loss: 8.3241 - mae: 8.3241\n",
      "Epoch 44/100\n",
      "2/2 [==============================] - 0s 7ms/step - loss: 13.0120 - mae: 13.0120\n",
      "Epoch 45/100\n",
      "2/2 [==============================] - 0s 9ms/step - loss: 13.6994 - mae: 13.6994\n",
      "Epoch 46/100\n",
      "2/2 [==============================] - 0s 8ms/step - loss: 8.3994 - mae: 8.3994\n",
      "Epoch 47/100\n",
      "2/2 [==============================] - 0s 9ms/step - loss: 9.1706 - mae: 9.1706\n",
      "Epoch 48/100\n",
      "2/2 [==============================] - 0s 8ms/step - loss: 10.6775 - mae: 10.6775\n",
      "Epoch 49/100\n",
      "2/2 [==============================] - 0s 11ms/step - loss: 7.7826 - mae: 7.7826\n",
      "Epoch 50/100\n",
      "2/2 [==============================] - 0s 10ms/step - loss: 9.5940 - mae: 9.5940\n",
      "Epoch 51/100\n",
      "2/2 [==============================] - 0s 9ms/step - loss: 9.1659 - mae: 9.1659\n",
      "Epoch 52/100\n",
      "2/2 [==============================] - 0s 9ms/step - loss: 16.4895 - mae: 16.4895\n",
      "Epoch 53/100\n",
      "2/2 [==============================] - 0s 8ms/step - loss: 14.0694 - mae: 14.0694\n",
      "Epoch 54/100\n",
      "2/2 [==============================] - 0s 8ms/step - loss: 20.9791 - mae: 20.9791\n",
      "Epoch 55/100\n",
      "2/2 [==============================] - 0s 8ms/step - loss: 16.5093 - mae: 16.5093\n",
      "Epoch 56/100\n",
      "2/2 [==============================] - 0s 7ms/step - loss: 9.8458 - mae: 9.8458\n",
      "Epoch 57/100\n",
      "2/2 [==============================] - 0s 7ms/step - loss: 9.6613 - mae: 9.6613\n",
      "Epoch 58/100\n",
      "2/2 [==============================] - 0s 10ms/step - loss: 8.9781 - mae: 8.9781\n",
      "Epoch 59/100\n",
      "2/2 [==============================] - 0s 10ms/step - loss: 10.1923 - mae: 10.1923\n",
      "Epoch 60/100\n",
      "2/2 [==============================] - 0s 9ms/step - loss: 8.4051 - mae: 8.4051\n",
      "Epoch 61/100\n",
      "2/2 [==============================] - 0s 8ms/step - loss: 9.2388 - mae: 9.2388\n",
      "Epoch 62/100\n",
      "2/2 [==============================] - 0s 7ms/step - loss: 7.2691 - mae: 7.2691\n",
      "Epoch 63/100\n",
      "2/2 [==============================] - 0s 7ms/step - loss: 8.1746 - mae: 8.1746\n",
      "Epoch 64/100\n",
      "2/2 [==============================] - 0s 8ms/step - loss: 12.5378 - mae: 12.5378\n",
      "Epoch 65/100\n",
      "2/2 [==============================] - 0s 6ms/step - loss: 10.6171 - mae: 10.6171\n",
      "Epoch 66/100\n",
      "2/2 [==============================] - 0s 9ms/step - loss: 15.4661 - mae: 15.4661\n",
      "Epoch 67/100\n",
      "2/2 [==============================] - 0s 8ms/step - loss: 9.9064 - mae: 9.9064\n",
      "Epoch 68/100\n",
      "2/2 [==============================] - 0s 10ms/step - loss: 8.6759 - mae: 8.6759\n",
      "Epoch 69/100\n",
      "2/2 [==============================] - 0s 10ms/step - loss: 13.3400 - mae: 13.3400\n",
      "Epoch 70/100\n",
      "2/2 [==============================] - 0s 10ms/step - loss: 7.4667 - mae: 7.4667\n",
      "Epoch 71/100\n",
      "2/2 [==============================] - 0s 8ms/step - loss: 12.3440 - mae: 12.3440\n",
      "Epoch 72/100\n",
      "2/2 [==============================] - 0s 9ms/step - loss: 8.4513 - mae: 8.4513\n",
      "Epoch 73/100\n",
      "2/2 [==============================] - 0s 10ms/step - loss: 6.8718 - mae: 6.8718\n",
      "Epoch 74/100\n",
      "2/2 [==============================] - 0s 9ms/step - loss: 11.0552 - mae: 11.0552\n",
      "Epoch 75/100\n",
      "2/2 [==============================] - 0s 7ms/step - loss: 9.4104 - mae: 9.4104\n",
      "Epoch 76/100\n",
      "2/2 [==============================] - 0s 8ms/step - loss: 10.8660 - mae: 10.8660\n",
      "Epoch 77/100\n",
      "2/2 [==============================] - 0s 8ms/step - loss: 14.8071 - mae: 14.8071\n",
      "Epoch 78/100\n",
      "2/2 [==============================] - 0s 10ms/step - loss: 10.8800 - mae: 10.8800\n",
      "Epoch 79/100\n",
      "2/2 [==============================] - 0s 8ms/step - loss: 15.3308 - mae: 15.3308\n",
      "Epoch 80/100\n",
      "2/2 [==============================] - 0s 8ms/step - loss: 11.7643 - mae: 11.7643\n",
      "Epoch 81/100\n",
      "2/2 [==============================] - 0s 8ms/step - loss: 9.2075 - mae: 9.2075\n",
      "Epoch 82/100\n",
      "2/2 [==============================] - 0s 7ms/step - loss: 12.8556 - mae: 12.8556\n",
      "Epoch 83/100\n",
      "2/2 [==============================] - 0s 10ms/step - loss: 10.3119 - mae: 10.3119\n",
      "Epoch 84/100\n",
      "2/2 [==============================] - 0s 10ms/step - loss: 10.5895 - mae: 10.5895\n",
      "Epoch 85/100\n",
      "2/2 [==============================] - 0s 9ms/step - loss: 9.3044 - mae: 9.3044\n",
      "Epoch 86/100\n",
      "2/2 [==============================] - 0s 9ms/step - loss: 9.1578 - mae: 9.1578\n",
      "Epoch 87/100\n",
      "2/2 [==============================] - 0s 8ms/step - loss: 11.8803 - mae: 11.8803\n",
      "Epoch 88/100\n",
      "2/2 [==============================] - 0s 7ms/step - loss: 10.4904 - mae: 10.4904\n",
      "Epoch 89/100\n",
      "2/2 [==============================] - 0s 7ms/step - loss: 6.9731 - mae: 6.9731\n",
      "Epoch 90/100\n",
      "2/2 [==============================] - 0s 8ms/step - loss: 13.8196 - mae: 13.8196\n",
      "Epoch 91/100\n",
      "2/2 [==============================] - 0s 8ms/step - loss: 7.8872 - mae: 7.8872\n",
      "Epoch 92/100\n",
      "2/2 [==============================] - 0s 7ms/step - loss: 7.4537 - mae: 7.4537\n",
      "Epoch 93/100\n",
      "2/2 [==============================] - 0s 7ms/step - loss: 9.1579 - mae: 9.1579\n",
      "Epoch 94/100\n",
      "2/2 [==============================] - 0s 7ms/step - loss: 8.5617 - mae: 8.5617\n",
      "Epoch 95/100\n",
      "2/2 [==============================] - 0s 8ms/step - loss: 11.5035 - mae: 11.5035\n",
      "Epoch 96/100\n",
      "2/2 [==============================] - 0s 10ms/step - loss: 10.2915 - mae: 10.2915\n",
      "Epoch 97/100\n",
      "2/2 [==============================] - 0s 9ms/step - loss: 7.6856 - mae: 7.6856\n",
      "Epoch 98/100\n",
      "2/2 [==============================] - 0s 10ms/step - loss: 8.6205 - mae: 8.6205\n",
      "Epoch 99/100\n",
      "2/2 [==============================] - 0s 8ms/step - loss: 9.3997 - mae: 9.3997\n",
      "Epoch 100/100\n",
      "2/2 [==============================] - 0s 8ms/step - loss: 8.8440 - mae: 8.8440\n"
     ]
    },
    {
     "data": {
      "text/plain": [
       "<keras.src.callbacks.History at 0x7f0469df8dc0>"
      ]
     },
     "execution_count": 59,
     "metadata": {},
     "output_type": "execute_result"
    }
   ],
   "source": [
    "# Set random seed\n",
    "tf.random.set_seed(42)\n",
    "\n",
    "#1. Create the model\n",
    "model_1 = tf.keras.Sequential([\n",
    "    tf.keras.layers.Dense(1)\n",
    "])\n",
    "\n",
    "#2. Compile the model\n",
    "model_1.compile(loss=tf.keras.losses.mae,\n",
    "                optimizer=tf.keras.optimizers.SGD(),\n",
    "                metrics=[\"mae\"])\n",
    "\n",
    "#3. Fit the model\n",
    "# Use expand_dims function for newer TensorFlow version\n",
    "model_1.fit(tf.expand_dims(X_train, axis=-1),y_train,epochs=100)"
   ]
  },
  {
   "cell_type": "code",
   "execution_count": 60,
   "metadata": {
    "colab": {
     "base_uri": "https://localhost:8080/",
     "height": 654
    },
    "executionInfo": {
     "elapsed": 598,
     "status": "ok",
     "timestamp": 1731038643281,
     "user": {
      "displayName": "Mark",
      "userId": "05293542057377705486"
     },
     "user_tz": 300
    },
    "id": "s7nSnNGNXQYh",
    "outputId": "e401ec5d-9f97-4c2f-c1f3-8b9393138f7d"
   },
   "outputs": [
    {
     "name": "stderr",
     "output_type": "stream",
     "text": [
      "WARNING:tensorflow:6 out of the last 6 calls to <function Model.make_predict_function.<locals>.predict_function at 0x7f0469f1ed40> triggered tf.function retracing. Tracing is expensive and the excessive number of tracings could be due to (1) creating @tf.function repeatedly in a loop, (2) passing tensors with different shapes, (3) passing Python objects instead of tensors. For (1), please define your @tf.function outside of the loop. For (2), @tf.function has reduce_retracing=True option that can avoid unnecessary retracing. For (3), please refer to https://www.tensorflow.org/guide/function#controlling_retracing and https://www.tensorflow.org/api_docs/python/tf/function for  more details.\n"
     ]
    },
    {
     "name": "stdout",
     "output_type": "stream",
     "text": [
      "1/1 [==============================] - 0s 60ms/step\n"
     ]
    },
    {
     "data": {
      "image/png": "[encoded data removed]",
      "text/plain": [
       "<Figure size 1000x700 with 1 Axes>"
      ]
     },
     "metadata": {},
     "output_type": "display_data"
    }
   ],
   "source": [
    "# Make and plot predictions with model_1\n",
    "y_preds_1 = model_1.predict(X_test)\n",
    "#y_preds_1\n",
    "plot_predictions(predictions=y_preds_1)"
   ]
  },
  {
   "cell_type": "code",
   "execution_count": 61,
   "metadata": {
    "colab": {
     "base_uri": "https://localhost:8080/"
    },
    "executionInfo": {
     "elapsed": 2,
     "status": "ok",
     "timestamp": 1731038643281,
     "user": {
      "displayName": "Mark",
      "userId": "05293542057377705486"
     },
     "user_tz": 300
    },
    "id": "ZSClnVq-bshk",
    "outputId": "3fd9ff48-4841-4af1-ccc7-79bd07d9e444"
   },
   "outputs": [
    {
     "data": {
      "text/plain": [
       "(<tf.Tensor: shape=(), dtype=float32, numpy=8.63706>,\n",
       " <tf.Tensor: shape=(), dtype=float32, numpy=81.12248>)"
      ]
     },
     "execution_count": 61,
     "metadata": {},
     "output_type": "execute_result"
    }
   ],
   "source": [
    "# Calculate model_1 evaluation metrics\n",
    "mae_1 = mae(y_test, (y_preds_1))\n",
    "mse_1 = mse(y_test, (y_preds_1))\n",
    "mae_1, mse_1"
   ]
  },
  {
   "cell_type": "markdown",
   "metadata": {
    "id": "0zcghVpQdOtF"
   },
   "source": [
    "** Build `model 2` **\n",
    "* 2 dense layers, trained for 100 epochs\n"
   ]
  },
  {
   "cell_type": "code",
   "execution_count": 62,
   "metadata": {
    "colab": {
     "base_uri": "https://localhost:8080/"
    },
    "executionInfo": {
     "elapsed": 3502,
     "status": "ok",
     "timestamp": 1731038646782,
     "user": {
      "displayName": "Mark",
      "userId": "05293542057377705486"
     },
     "user_tz": 300
    },
    "id": "zShl4orKdlfN",
    "outputId": "49695066-747e-4713-ab4f-ce1f67fa5144"
   },
   "outputs": [
    {
     "name": "stdout",
     "output_type": "stream",
     "text": [
      "Epoch 1/100\n",
      "2/2 [==============================] - 0s 11ms/step - loss: 14.1592 - mse: 561.3452\n",
      "Epoch 2/100\n",
      "2/2 [==============================] - 0s 8ms/step - loss: 35.3604 - mse: 1652.2156\n",
      "Epoch 3/100\n",
      "2/2 [==============================] - 0s 7ms/step - loss: 37.6478 - mse: 2206.3054\n",
      "Epoch 4/100\n",
      "2/2 [==============================] - 0s 7ms/step - loss: 14.1731 - mse: 289.4672\n",
      "Epoch 5/100\n",
      "2/2 [==============================] - 0s 6ms/step - loss: 20.1597 - mse: 556.3922\n",
      "Epoch 6/100\n",
      "2/2 [==============================] - 0s 7ms/step - loss: 9.1379 - mse: 126.3335\n",
      "Epoch 7/100\n",
      "2/2 [==============================] - 0s 6ms/step - loss: 15.4583 - mse: 340.1925\n",
      "Epoch 8/100\n",
      "2/2 [==============================] - 0s 6ms/step - loss: 16.3998 - mse: 349.1170\n",
      "Epoch 9/100\n",
      "2/2 [==============================] - 0s 6ms/step - loss: 28.1708 - mse: 1091.3722\n",
      "Epoch 10/100\n",
      "2/2 [==============================] - 0s 8ms/step - loss: 16.0759 - mse: 346.4345\n",
      "Epoch 11/100\n",
      "2/2 [==============================] - 0s 7ms/step - loss: 9.4802 - mse: 98.9601\n",
      "Epoch 12/100\n",
      "2/2 [==============================] - 0s 6ms/step - loss: 20.0407 - mse: 563.3619\n",
      "Epoch 13/100\n",
      "2/2 [==============================] - 0s 7ms/step - loss: 12.1174 - mse: 175.2329\n",
      "Epoch 14/100\n",
      "2/2 [==============================] - 0s 7ms/step - loss: 34.9585 - mse: 2010.4174\n",
      "Epoch 15/100\n",
      "2/2 [==============================] - 0s 8ms/step - loss: 22.7601 - mse: 736.6136\n",
      "Epoch 16/100\n",
      "2/2 [==============================] - 0s 8ms/step - loss: 9.9499 - mse: 124.5761\n",
      "Epoch 17/100\n",
      "2/2 [==============================] - 0s 7ms/step - loss: 18.3576 - mse: 449.6443\n",
      "Epoch 18/100\n",
      "2/2 [==============================] - 0s 6ms/step - loss: 11.2669 - mse: 193.8742\n",
      "Epoch 19/100\n",
      "2/2 [==============================] - 0s 6ms/step - loss: 13.8049 - mse: 296.0588\n",
      "Epoch 20/100\n",
      "2/2 [==============================] - 0s 6ms/step - loss: 11.1250 - mse: 145.4234\n",
      "Epoch 21/100\n",
      "2/2 [==============================] - 0s 8ms/step - loss: 17.1251 - mse: 414.3105\n",
      "Epoch 22/100\n",
      "2/2 [==============================] - 0s 8ms/step - loss: 15.3637 - mse: 324.8372\n",
      "Epoch 23/100\n",
      "2/2 [==============================] - 0s 7ms/step - loss: 9.2281 - mse: 118.1286\n",
      "Epoch 24/100\n",
      "2/2 [==============================] - 0s 7ms/step - loss: 17.3040 - mse: 411.0006\n",
      "Epoch 25/100\n",
      "2/2 [==============================] - 0s 7ms/step - loss: 15.9584 - mse: 335.0252\n",
      "Epoch 26/100\n",
      "2/2 [==============================] - 0s 10ms/step - loss: 20.9940 - mse: 652.3485\n",
      "Epoch 27/100\n",
      "2/2 [==============================] - 0s 6ms/step - loss: 25.8160 - mse: 1038.3295\n",
      "Epoch 28/100\n",
      "2/2 [==============================] - 0s 7ms/step - loss: 18.3315 - mse: 531.5509\n",
      "Epoch 29/100\n",
      "2/2 [==============================] - 0s 7ms/step - loss: 9.2173 - mse: 97.8575\n",
      "Epoch 30/100\n",
      "2/2 [==============================] - 0s 7ms/step - loss: 28.9562 - mse: 1493.9481\n",
      "Epoch 31/100\n",
      "2/2 [==============================] - 0s 9ms/step - loss: 52.4280 - mse: 4912.3789\n",
      "Epoch 32/100\n",
      "2/2 [==============================] - 0s 7ms/step - loss: 11.8535 - mse: 203.1941\n",
      "Epoch 33/100\n",
      "2/2 [==============================] - 0s 9ms/step - loss: 15.4245 - mse: 327.7147\n",
      "Epoch 34/100\n",
      "2/2 [==============================] - 0s 9ms/step - loss: 12.5356 - mse: 206.5614\n",
      "Epoch 35/100\n",
      "2/2 [==============================] - 0s 9ms/step - loss: 9.1592 - mse: 90.7214\n",
      "Epoch 36/100\n",
      "2/2 [==============================] - 0s 11ms/step - loss: 16.4121 - mse: 391.4662\n",
      "Epoch 37/100\n",
      "2/2 [==============================] - 0s 7ms/step - loss: 11.0845 - mse: 191.8125\n",
      "Epoch 38/100\n",
      "2/2 [==============================] - 0s 8ms/step - loss: 18.2157 - mse: 437.5482\n",
      "Epoch 39/100\n",
      "2/2 [==============================] - 0s 9ms/step - loss: 19.1446 - mse: 534.2675\n",
      "Epoch 40/100\n",
      "2/2 [==============================] - 0s 10ms/step - loss: 20.5158 - mse: 614.9471\n",
      "Epoch 41/100\n",
      "2/2 [==============================] - 0s 8ms/step - loss: 14.7737 - mse: 273.2664\n",
      "Epoch 42/100\n",
      "2/2 [==============================] - 0s 7ms/step - loss: 12.1773 - mse: 181.6084\n",
      "Epoch 43/100\n",
      "2/2 [==============================] - 0s 7ms/step - loss: 10.6711 - mse: 162.8289\n",
      "Epoch 44/100\n",
      "2/2 [==============================] - 0s 7ms/step - loss: 32.3004 - mse: 1715.8951\n",
      "Epoch 45/100\n",
      "2/2 [==============================] - 0s 8ms/step - loss: 12.4527 - mse: 201.7060\n",
      "Epoch 46/100\n",
      "2/2 [==============================] - 0s 8ms/step - loss: 17.5447 - mse: 461.2494\n",
      "Epoch 47/100\n",
      "2/2 [==============================] - 0s 7ms/step - loss: 15.7301 - mse: 338.3839\n",
      "Epoch 48/100\n",
      "2/2 [==============================] - 0s 6ms/step - loss: 8.3490 - mse: 112.2746\n",
      "Epoch 49/100\n",
      "2/2 [==============================] - 0s 10ms/step - loss: 13.9518 - mse: 268.1093\n",
      "Epoch 50/100\n",
      "2/2 [==============================] - 0s 8ms/step - loss: 12.8013 - mse: 214.5003\n",
      "Epoch 51/100\n",
      "2/2 [==============================] - 0s 7ms/step - loss: 14.8119 - mse: 308.2710\n",
      "Epoch 52/100\n",
      "2/2 [==============================] - 0s 7ms/step - loss: 18.6981 - mse: 527.6874\n",
      "Epoch 53/100\n",
      "2/2 [==============================] - 0s 6ms/step - loss: 24.1320 - mse: 826.2449\n",
      "Epoch 54/100\n",
      "2/2 [==============================] - 0s 8ms/step - loss: 23.2583 - mse: 810.9142\n",
      "Epoch 55/100\n",
      "2/2 [==============================] - 0s 11ms/step - loss: 24.1224 - mse: 876.0407\n",
      "Epoch 56/100\n",
      "2/2 [==============================] - 0s 8ms/step - loss: 11.1682 - mse: 170.5897\n",
      "Epoch 57/100\n",
      "2/2 [==============================] - 0s 8ms/step - loss: 13.1392 - mse: 215.6298\n",
      "Epoch 58/100\n",
      "2/2 [==============================] - 0s 12ms/step - loss: 9.8174 - mse: 106.4585\n",
      "Epoch 59/100\n",
      "2/2 [==============================] - 0s 14ms/step - loss: 13.3478 - mse: 252.4420\n",
      "Epoch 60/100\n",
      "2/2 [==============================] - 0s 9ms/step - loss: 10.8850 - mse: 140.2835\n",
      "Epoch 61/100\n",
      "2/2 [==============================] - 0s 8ms/step - loss: 13.5123 - mse: 244.6187\n",
      "Epoch 62/100\n",
      "2/2 [==============================] - 0s 7ms/step - loss: 17.8441 - mse: 484.6983\n",
      "Epoch 63/100\n",
      "2/2 [==============================] - 0s 8ms/step - loss: 8.7030 - mse: 91.6145\n",
      "Epoch 64/100\n",
      "2/2 [==============================] - 0s 9ms/step - loss: 16.1092 - mse: 372.2112\n",
      "Epoch 65/100\n",
      "2/2 [==============================] - 0s 9ms/step - loss: 10.7119 - mse: 145.9783\n",
      "Epoch 66/100\n",
      "2/2 [==============================] - 0s 9ms/step - loss: 22.1850 - mse: 729.2301\n",
      "Epoch 67/100\n",
      "2/2 [==============================] - 0s 9ms/step - loss: 10.2407 - mse: 120.7113\n",
      "Epoch 68/100\n",
      "2/2 [==============================] - 0s 13ms/step - loss: 13.4647 - mse: 269.3192\n",
      "Epoch 69/100\n",
      "2/2 [==============================] - 0s 12ms/step - loss: 11.4153 - mse: 163.2600\n",
      "Epoch 70/100\n",
      "2/2 [==============================] - 0s 8ms/step - loss: 14.0213 - mse: 267.7064\n",
      "Epoch 71/100\n",
      "2/2 [==============================] - 0s 8ms/step - loss: 15.5715 - mse: 344.6463\n",
      "Epoch 72/100\n",
      "2/2 [==============================] - 0s 11ms/step - loss: 11.8075 - mse: 167.1427\n",
      "Epoch 73/100\n",
      "2/2 [==============================] - 0s 14ms/step - loss: 16.5896 - mse: 371.0083\n",
      "Epoch 74/100\n",
      "2/2 [==============================] - 0s 8ms/step - loss: 24.1154 - mse: 914.9822\n",
      "Epoch 75/100\n",
      "2/2 [==============================] - 0s 9ms/step - loss: 9.5992 - mse: 148.7657\n",
      "Epoch 76/100\n",
      "2/2 [==============================] - 0s 8ms/step - loss: 12.4518 - mse: 189.0831\n",
      "Epoch 77/100\n",
      "2/2 [==============================] - 0s 9ms/step - loss: 16.7103 - mse: 433.0407\n",
      "Epoch 78/100\n",
      "2/2 [==============================] - 0s 12ms/step - loss: 9.0584 - mse: 96.0598\n",
      "Epoch 79/100\n",
      "2/2 [==============================] - 0s 9ms/step - loss: 24.0568 - mse: 871.3700\n",
      "Epoch 80/100\n",
      "2/2 [==============================] - 0s 9ms/step - loss: 26.8538 - mse: 1114.2319\n",
      "Epoch 81/100\n",
      "2/2 [==============================] - 0s 8ms/step - loss: 11.7112 - mse: 172.8182\n",
      "Epoch 82/100\n",
      "2/2 [==============================] - 0s 8ms/step - loss: 11.9863 - mse: 211.1975\n",
      "Epoch 83/100\n",
      "2/2 [==============================] - 0s 9ms/step - loss: 17.3694 - mse: 393.1451\n",
      "Epoch 84/100\n",
      "2/2 [==============================] - 0s 9ms/step - loss: 7.2449 - mse: 73.0095\n",
      "Epoch 85/100\n",
      "2/2 [==============================] - 0s 9ms/step - loss: 14.9209 - mse: 311.1769\n",
      "Epoch 86/100\n",
      "2/2 [==============================] - 0s 10ms/step - loss: 15.2494 - mse: 314.4057\n",
      "Epoch 87/100\n",
      "2/2 [==============================] - 0s 8ms/step - loss: 19.0375 - mse: 518.0353\n",
      "Epoch 88/100\n",
      "2/2 [==============================] - 0s 10ms/step - loss: 30.0042 - mse: 1304.0463\n",
      "Epoch 89/100\n",
      "2/2 [==============================] - 0s 10ms/step - loss: 10.1920 - mse: 124.0722\n",
      "Epoch 90/100\n",
      "2/2 [==============================] - 0s 10ms/step - loss: 21.6796 - mse: 673.7570\n",
      "Epoch 91/100\n",
      "2/2 [==============================] - 0s 8ms/step - loss: 10.6012 - mse: 160.9612\n",
      "Epoch 92/100\n",
      "2/2 [==============================] - 0s 11ms/step - loss: 18.5424 - mse: 471.9619\n",
      "Epoch 93/100\n",
      "2/2 [==============================] - 0s 9ms/step - loss: 8.1554 - mse: 104.9083\n",
      "Epoch 94/100\n",
      "2/2 [==============================] - 0s 10ms/step - loss: 11.3686 - mse: 167.7459\n",
      "Epoch 95/100\n",
      "2/2 [==============================] - 0s 9ms/step - loss: 25.4935 - mse: 981.7039\n",
      "Epoch 96/100\n",
      "2/2 [==============================] - 0s 9ms/step - loss: 10.9910 - mse: 169.4189\n",
      "Epoch 97/100\n",
      "2/2 [==============================] - 0s 11ms/step - loss: 16.3461 - mse: 407.3272\n",
      "Epoch 98/100\n",
      "2/2 [==============================] - 0s 10ms/step - loss: 6.8235 - mse: 65.6830\n",
      "Epoch 99/100\n",
      "2/2 [==============================] - 0s 8ms/step - loss: 11.6825 - mse: 213.1269\n",
      "Epoch 100/100\n",
      "2/2 [==============================] - 0s 10ms/step - loss: 23.4967 - mse: 767.5521\n"
     ]
    },
    {
     "data": {
      "text/plain": [
       "<keras.src.callbacks.History at 0x7f046977e200>"
      ]
     },
     "execution_count": 62,
     "metadata": {},
     "output_type": "execute_result"
    }
   ],
   "source": [
    "tf.random.set_seed(42)\n",
    "\n",
    "#1. Create the model\n",
    "model_2 = tf.keras.Sequential([\n",
    "    tf.keras.layers.Dense(10),\n",
    "    tf.keras.layers.Dense(1)\n",
    "])\n",
    "\n",
    "#2. Compile the model\n",
    "model_2.compile(loss=tf.keras.losses.mae,\n",
    "                optimizer=tf.keras.optimizers.SGD(),\n",
    "                metrics=[\"mse\"])\n",
    "\n",
    "#3. Fit the model\n",
    "model_2.fit(tf.expand_dims(X_train, axis=-1),y_train,epochs=100)"
   ]
  },
  {
   "cell_type": "code",
   "execution_count": 63,
   "metadata": {
    "colab": {
     "base_uri": "https://localhost:8080/",
     "height": 618
    },
    "executionInfo": {
     "elapsed": 649,
     "status": "ok",
     "timestamp": 1731038647430,
     "user": {
      "displayName": "Mark",
      "userId": "05293542057377705486"
     },
     "user_tz": 300
    },
    "id": "qbxkPYRve5Z5",
    "outputId": "185ffdb2-764e-4a29-beaa-1c2ed70c503a"
   },
   "outputs": [
    {
     "name": "stdout",
     "output_type": "stream",
     "text": [
      "1/1 [==============================] - 0s 65ms/step\n"
     ]
    },
    {
     "data": {
      "image/png": "[encoded data removed]",
      "text/plain": [
       "<Figure size 1000x700 with 1 Axes>"
      ]
     },
     "metadata": {},
     "output_type": "display_data"
    }
   ],
   "source": [
    "#Make and plot predictions with model 2\n",
    "y_preds_2 = model_2.predict(X_test)\n",
    "plot_predictions(predictions=y_preds_2)"
   ]
  },
  {
   "cell_type": "code",
   "execution_count": 64,
   "metadata": {
    "colab": {
     "base_uri": "https://localhost:8080/"
    },
    "executionInfo": {
     "elapsed": 2,
     "status": "ok",
     "timestamp": 1731038647431,
     "user": {
      "displayName": "Mark",
      "userId": "05293542057377705486"
     },
     "user_tz": 300
    },
    "id": "9r3NJS5Nf3n5",
    "outputId": "0a9fce9d-ea4d-4fd6-b266-3a32b7a731c9"
   },
   "outputs": [
    {
     "data": {
      "text/plain": [
       "(<tf.Tensor: shape=(), dtype=float32, numpy=26.417957>,\n",
       " <tf.Tensor: shape=(), dtype=float32, numpy=723.82227>)"
      ]
     },
     "execution_count": 64,
     "metadata": {},
     "output_type": "execute_result"
    }
   ],
   "source": [
    "# Calculate model_2 evaluation metrics\n",
    "mae_2 = mae(y_true=y_test,y_pred=y_preds_2)\n",
    "mse_2 = mse(y_true=y_test,y_pred=y_preds_2)\n",
    "mae_2, mse_2"
   ]
  },
  {
   "cell_type": "markdown",
   "metadata": {
    "id": "TqxTru6NZs7_"
   },
   "source": [
    "** Build `model 3` **\n",
    "*2 layers trained for 500 epochs*\n"
   ]
  },
  {
   "cell_type": "code",
   "execution_count": 65,
   "metadata": {
    "colab": {
     "base_uri": "https://localhost:8080/"
    },
    "executionInfo": {
     "elapsed": 21136,
     "status": "ok",
     "timestamp": 1731038668566,
     "user": {
      "displayName": "Mark",
      "userId": "05293542057377705486"
     },
     "user_tz": 300
    },
    "id": "DMZ6cUHhaCH8",
    "outputId": "dc4cec41-bef0-4e52-bf67-a5dbd9a81b9c"
   },
   "outputs": [
    {
     "name": "stdout",
     "output_type": "stream",
     "text": [
      "Epoch 1/500\n",
      "2/2 [==============================] - 1s 13ms/step - loss: 39.7556 - mse: 2201.5127\n",
      "Epoch 2/500\n",
      "2/2 [==============================] - 0s 11ms/step - loss: 30.7384 - mse: 1280.7155\n",
      "Epoch 3/500\n",
      "2/2 [==============================] - 0s 12ms/step - loss: 36.2038 - mse: 1954.2240\n",
      "Epoch 4/500\n",
      "2/2 [==============================] - 0s 14ms/step - loss: 25.3865 - mse: 934.8797\n",
      "Epoch 5/500\n",
      "2/2 [==============================] - 0s 10ms/step - loss: 15.0082 - mse: 283.4111\n",
      "Epoch 6/500\n",
      "2/2 [==============================] - 0s 10ms/step - loss: 11.9381 - mse: 170.9533\n",
      "Epoch 7/500\n",
      "2/2 [==============================] - 0s 15ms/step - loss: 11.2683 - mse: 153.8480\n",
      "Epoch 8/500\n",
      "2/2 [==============================] - 0s 14ms/step - loss: 11.1397 - mse: 164.1557\n",
      "Epoch 9/500\n",
      "2/2 [==============================] - 0s 15ms/step - loss: 40.9895 - mse: 2660.7222\n",
      "Epoch 10/500\n",
      "2/2 [==============================] - 0s 12ms/step - loss: 28.3180 - mse: 1131.1863\n",
      "Epoch 11/500\n",
      "2/2 [==============================] - 0s 10ms/step - loss: 10.2483 - mse: 149.8904\n",
      "Epoch 12/500\n",
      "2/2 [==============================] - 0s 10ms/step - loss: 25.1720 - mse: 883.9121\n",
      "Epoch 13/500\n",
      "2/2 [==============================] - 0s 11ms/step - loss: 17.6404 - mse: 431.6768\n",
      "Epoch 14/500\n",
      "2/2 [==============================] - 0s 11ms/step - loss: 23.8225 - mse: 871.3394\n",
      "Epoch 15/500\n",
      "2/2 [==============================] - 0s 14ms/step - loss: 15.8518 - mse: 342.4760\n",
      "Epoch 16/500\n",
      "2/2 [==============================] - 0s 15ms/step - loss: 10.4666 - mse: 125.0991\n",
      "Epoch 17/500\n",
      "2/2 [==============================] - 0s 13ms/step - loss: 19.7810 - mse: 533.6719\n",
      "Epoch 18/500\n",
      "2/2 [==============================] - 0s 14ms/step - loss: 13.3877 - mse: 281.7932\n",
      "Epoch 19/500\n",
      "2/2 [==============================] - 0s 10ms/step - loss: 16.4178 - mse: 432.4129\n",
      "Epoch 20/500\n",
      "2/2 [==============================] - 0s 11ms/step - loss: 8.2460 - mse: 93.3811\n",
      "Epoch 21/500\n",
      "2/2 [==============================] - 0s 10ms/step - loss: 14.4432 - mse: 289.1444\n",
      "Epoch 22/500\n",
      "2/2 [==============================] - 0s 11ms/step - loss: 12.8596 - mse: 246.2785\n",
      "Epoch 23/500\n",
      "2/2 [==============================] - 0s 13ms/step - loss: 15.4936 - mse: 315.2882\n",
      "Epoch 24/500\n",
      "2/2 [==============================] - 0s 14ms/step - loss: 15.2832 - mse: 316.4245\n",
      "Epoch 25/500\n",
      "2/2 [==============================] - 0s 11ms/step - loss: 14.3503 - mse: 272.8767\n",
      "Epoch 26/500\n",
      "2/2 [==============================] - 0s 12ms/step - loss: 19.3638 - mse: 568.9761\n",
      "Epoch 27/500\n",
      "2/2 [==============================] - 0s 11ms/step - loss: 11.4420 - mse: 168.2485\n",
      "Epoch 28/500\n",
      "2/2 [==============================] - 0s 12ms/step - loss: 29.0382 - mse: 1370.3206\n",
      "Epoch 29/500\n",
      "2/2 [==============================] - 0s 11ms/step - loss: 9.2501 - mse: 94.6291\n",
      "Epoch 30/500\n",
      "2/2 [==============================] - 0s 11ms/step - loss: 29.7875 - mse: 1605.8492\n",
      "Epoch 31/500\n",
      "2/2 [==============================] - 0s 13ms/step - loss: 54.0441 - mse: 5232.2417\n",
      "Epoch 32/500\n",
      "2/2 [==============================] - 0s 11ms/step - loss: 9.5586 - mse: 101.0467\n",
      "Epoch 33/500\n",
      "2/2 [==============================] - 0s 12ms/step - loss: 12.1487 - mse: 180.2362\n",
      "Epoch 34/500\n",
      "2/2 [==============================] - 0s 12ms/step - loss: 23.8461 - mse: 861.3444\n",
      "Epoch 35/500\n",
      "2/2 [==============================] - 0s 12ms/step - loss: 12.6307 - mse: 242.3534\n",
      "Epoch 36/500\n",
      "2/2 [==============================] - 0s 12ms/step - loss: 21.5518 - mse: 662.4621\n",
      "Epoch 37/500\n",
      "2/2 [==============================] - 0s 11ms/step - loss: 11.3599 - mse: 149.6523\n",
      "Epoch 38/500\n",
      "2/2 [==============================] - 0s 9ms/step - loss: 13.4323 - mse: 267.5883\n",
      "Epoch 39/500\n",
      "2/2 [==============================] - 0s 8ms/step - loss: 10.7748 - mse: 138.4387\n",
      "Epoch 40/500\n",
      "2/2 [==============================] - 0s 9ms/step - loss: 16.5552 - mse: 397.8123\n",
      "Epoch 41/500\n",
      "2/2 [==============================] - 0s 11ms/step - loss: 10.9521 - mse: 179.9417\n",
      "Epoch 42/500\n",
      "2/2 [==============================] - 0s 9ms/step - loss: 9.2854 - mse: 115.2749\n",
      "Epoch 43/500\n",
      "2/2 [==============================] - 0s 10ms/step - loss: 9.5881 - mse: 111.1653\n",
      "Epoch 44/500\n",
      "2/2 [==============================] - 0s 9ms/step - loss: 27.9395 - mse: 1251.5591\n",
      "Epoch 45/500\n",
      "2/2 [==============================] - 0s 7ms/step - loss: 11.2700 - mse: 146.5016\n",
      "Epoch 46/500\n",
      "2/2 [==============================] - 0s 11ms/step - loss: 13.8754 - mse: 282.0363\n",
      "Epoch 47/500\n",
      "2/2 [==============================] - 0s 8ms/step - loss: 11.9139 - mse: 211.9208\n",
      "Epoch 48/500\n",
      "2/2 [==============================] - 0s 7ms/step - loss: 16.9430 - mse: 388.7455\n",
      "Epoch 49/500\n",
      "2/2 [==============================] - 0s 10ms/step - loss: 9.7816 - mse: 105.1272\n",
      "Epoch 50/500\n",
      "2/2 [==============================] - 0s 8ms/step - loss: 14.1812 - mse: 281.7203\n",
      "Epoch 51/500\n",
      "2/2 [==============================] - 0s 14ms/step - loss: 11.7412 - mse: 161.5315\n",
      "Epoch 52/500\n",
      "2/2 [==============================] - 0s 9ms/step - loss: 31.4296 - mse: 1716.8455\n",
      "Epoch 53/500\n",
      "2/2 [==============================] - 0s 8ms/step - loss: 14.7427 - mse: 322.0926\n",
      "Epoch 54/500\n",
      "2/2 [==============================] - 0s 8ms/step - loss: 24.6477 - mse: 914.4362\n",
      "Epoch 55/500\n",
      "2/2 [==============================] - 0s 7ms/step - loss: 23.9338 - mse: 861.4194\n",
      "Epoch 56/500\n",
      "2/2 [==============================] - 0s 11ms/step - loss: 11.1321 - mse: 171.0521\n",
      "Epoch 57/500\n",
      "2/2 [==============================] - 0s 9ms/step - loss: 13.0767 - mse: 212.2255\n",
      "Epoch 58/500\n",
      "2/2 [==============================] - 0s 10ms/step - loss: 9.7902 - mse: 105.8053\n",
      "Epoch 59/500\n",
      "2/2 [==============================] - 0s 9ms/step - loss: 13.2603 - mse: 246.7365\n",
      "Epoch 60/500\n",
      "2/2 [==============================] - 0s 10ms/step - loss: 10.8461 - mse: 138.3676\n",
      "Epoch 61/500\n",
      "2/2 [==============================] - 0s 9ms/step - loss: 13.4357 - mse: 239.4976\n",
      "Epoch 62/500\n",
      "2/2 [==============================] - 0s 9ms/step - loss: 17.4281 - mse: 463.2813\n",
      "Epoch 63/500\n",
      "2/2 [==============================] - 0s 8ms/step - loss: 9.1459 - mse: 87.6653\n",
      "Epoch 64/500\n",
      "2/2 [==============================] - 0s 9ms/step - loss: 18.3029 - mse: 486.9920\n",
      "Epoch 65/500\n",
      "2/2 [==============================] - 0s 9ms/step - loss: 10.1013 - mse: 114.2740\n",
      "Epoch 66/500\n",
      "2/2 [==============================] - 0s 8ms/step - loss: 24.1497 - mse: 879.2736\n",
      "Epoch 67/500\n",
      "2/2 [==============================] - 0s 8ms/step - loss: 10.8592 - mse: 141.4401\n",
      "Epoch 68/500\n",
      "2/2 [==============================] - 0s 12ms/step - loss: 10.7500 - mse: 157.1786\n",
      "Epoch 69/500\n",
      "2/2 [==============================] - 0s 8ms/step - loss: 23.1313 - mse: 772.9325\n",
      "Epoch 70/500\n",
      "2/2 [==============================] - 0s 7ms/step - loss: 8.8363 - mse: 143.0806\n",
      "Epoch 71/500\n",
      "2/2 [==============================] - 0s 9ms/step - loss: 16.0579 - mse: 351.6705\n",
      "Epoch 72/500\n",
      "2/2 [==============================] - 0s 13ms/step - loss: 7.7533 - mse: 91.3900\n",
      "Epoch 73/500\n",
      "2/2 [==============================] - 0s 8ms/step - loss: 10.1578 - mse: 165.3875\n",
      "Epoch 74/500\n",
      "2/2 [==============================] - 0s 9ms/step - loss: 28.3311 - mse: 1123.3280\n",
      "Epoch 75/500\n",
      "2/2 [==============================] - 0s 9ms/step - loss: 10.0125 - mse: 146.1826\n",
      "Epoch 76/500\n",
      "2/2 [==============================] - 0s 10ms/step - loss: 12.9290 - mse: 207.9880\n",
      "Epoch 77/500\n",
      "2/2 [==============================] - 0s 10ms/step - loss: 17.8961 - mse: 499.1431\n",
      "Epoch 78/500\n",
      "2/2 [==============================] - 0s 11ms/step - loss: 8.9653 - mse: 87.8937\n",
      "Epoch 79/500\n",
      "2/2 [==============================] - 0s 8ms/step - loss: 28.7258 - mse: 1303.3226\n",
      "Epoch 80/500\n",
      "2/2 [==============================] - 0s 7ms/step - loss: 31.0653 - mse: 1532.5416\n",
      "Epoch 81/500\n",
      "2/2 [==============================] - 0s 7ms/step - loss: 13.4244 - mse: 252.1435\n",
      "Epoch 82/500\n",
      "2/2 [==============================] - 0s 8ms/step - loss: 14.3198 - mse: 284.3325\n",
      "Epoch 83/500\n",
      "2/2 [==============================] - 0s 8ms/step - loss: 18.8557 - mse: 471.7145\n",
      "Epoch 84/500\n",
      "2/2 [==============================] - 0s 8ms/step - loss: 9.4605 - mse: 149.1814\n",
      "Epoch 85/500\n",
      "2/2 [==============================] - 0s 8ms/step - loss: 25.2487 - mse: 892.4385\n",
      "Epoch 86/500\n",
      "2/2 [==============================] - 0s 7ms/step - loss: 16.4314 - mse: 397.0652\n",
      "Epoch 87/500\n",
      "2/2 [==============================] - 0s 8ms/step - loss: 11.4720 - mse: 156.4063\n",
      "Epoch 88/500\n",
      "2/2 [==============================] - 0s 10ms/step - loss: 27.0406 - mse: 1045.8992\n",
      "Epoch 89/500\n",
      "2/2 [==============================] - 0s 8ms/step - loss: 9.7445 - mse: 128.3055\n",
      "Epoch 90/500\n",
      "2/2 [==============================] - 0s 8ms/step - loss: 19.0844 - mse: 522.2969\n",
      "Epoch 91/500\n",
      "2/2 [==============================] - 0s 11ms/step - loss: 10.6029 - mse: 163.3875\n",
      "Epoch 92/500\n",
      "2/2 [==============================] - 0s 8ms/step - loss: 18.3007 - mse: 458.8140\n",
      "Epoch 93/500\n",
      "2/2 [==============================] - 0s 8ms/step - loss: 6.8653 - mse: 67.8864\n",
      "Epoch 94/500\n",
      "2/2 [==============================] - 0s 8ms/step - loss: 13.0743 - mse: 232.2489\n",
      "Epoch 95/500\n",
      "2/2 [==============================] - 0s 10ms/step - loss: 18.4501 - mse: 502.3450\n",
      "Epoch 96/500\n",
      "2/2 [==============================] - 0s 9ms/step - loss: 10.4126 - mse: 179.3107\n",
      "Epoch 97/500\n",
      "2/2 [==============================] - 0s 8ms/step - loss: 14.1905 - mse: 302.4001\n",
      "Epoch 98/500\n",
      "2/2 [==============================] - 0s 8ms/step - loss: 9.6537 - mse: 137.1350\n",
      "Epoch 99/500\n",
      "2/2 [==============================] - 0s 9ms/step - loss: 11.3463 - mse: 164.7610\n",
      "Epoch 100/500\n",
      "2/2 [==============================] - 0s 11ms/step - loss: 29.3127 - mse: 1323.1223\n",
      "Epoch 101/500\n",
      "2/2 [==============================] - 0s 8ms/step - loss: 15.6023 - mse: 364.0926\n",
      "Epoch 102/500\n",
      "2/2 [==============================] - 0s 8ms/step - loss: 10.9669 - mse: 161.6024\n",
      "Epoch 103/500\n",
      "2/2 [==============================] - 0s 11ms/step - loss: 9.2719 - mse: 96.6580\n",
      "Epoch 104/500\n",
      "2/2 [==============================] - 0s 11ms/step - loss: 24.2135 - mse: 879.6678\n",
      "Epoch 105/500\n",
      "2/2 [==============================] - 0s 8ms/step - loss: 11.0107 - mse: 169.1201\n",
      "Epoch 106/500\n",
      "2/2 [==============================] - 0s 9ms/step - loss: 11.4477 - mse: 184.7636\n",
      "Epoch 107/500\n",
      "2/2 [==============================] - 0s 8ms/step - loss: 21.7456 - mse: 706.7772\n",
      "Epoch 108/500\n",
      "2/2 [==============================] - 0s 10ms/step - loss: 8.0168 - mse: 95.1942\n",
      "Epoch 109/500\n",
      "2/2 [==============================] - 0s 10ms/step - loss: 12.3390 - mse: 206.6412\n",
      "Epoch 110/500\n",
      "2/2 [==============================] - 0s 9ms/step - loss: 10.2915 - mse: 131.9112\n",
      "Epoch 111/500\n",
      "2/2 [==============================] - 0s 9ms/step - loss: 16.0864 - mse: 363.7647\n",
      "Epoch 112/500\n",
      "2/2 [==============================] - 0s 8ms/step - loss: 9.3497 - mse: 109.8631\n",
      "Epoch 113/500\n",
      "2/2 [==============================] - 0s 9ms/step - loss: 16.6175 - mse: 402.2303\n",
      "Epoch 114/500\n",
      "2/2 [==============================] - 0s 9ms/step - loss: 18.0902 - mse: 490.4220\n",
      "Epoch 115/500\n",
      "2/2 [==============================] - 0s 9ms/step - loss: 10.8201 - mse: 140.3993\n",
      "Epoch 116/500\n",
      "2/2 [==============================] - 0s 9ms/step - loss: 21.9980 - mse: 701.1591\n",
      "Epoch 117/500\n",
      "2/2 [==============================] - 0s 8ms/step - loss: 9.2429 - mse: 130.0265\n",
      "Epoch 118/500\n",
      "2/2 [==============================] - 0s 15ms/step - loss: 10.2436 - mse: 130.2014\n",
      "Epoch 119/500\n",
      "2/2 [==============================] - 0s 8ms/step - loss: 8.0491 - mse: 71.7552\n",
      "Epoch 120/500\n",
      "2/2 [==============================] - 0s 10ms/step - loss: 46.4341 - mse: 3469.4136\n",
      "Epoch 121/500\n",
      "2/2 [==============================] - 0s 8ms/step - loss: 12.1426 - mse: 221.9410\n",
      "Epoch 122/500\n",
      "2/2 [==============================] - 0s 11ms/step - loss: 23.1398 - mse: 778.2557\n",
      "Epoch 123/500\n",
      "2/2 [==============================] - 0s 9ms/step - loss: 27.8887 - mse: 1117.1221\n",
      "Epoch 124/500\n",
      "2/2 [==============================] - 0s 9ms/step - loss: 15.6384 - mse: 361.3129\n",
      "Epoch 125/500\n",
      "2/2 [==============================] - 0s 11ms/step - loss: 8.4165 - mse: 122.4224\n",
      "Epoch 126/500\n",
      "2/2 [==============================] - 0s 9ms/step - loss: 11.2683 - mse: 158.4840\n",
      "Epoch 127/500\n",
      "2/2 [==============================] - 0s 10ms/step - loss: 17.5151 - mse: 486.1385\n",
      "Epoch 128/500\n",
      "2/2 [==============================] - 0s 12ms/step - loss: 11.0514 - mse: 156.5586\n",
      "Epoch 129/500\n",
      "2/2 [==============================] - 0s 8ms/step - loss: 19.6643 - mse: 614.6419\n",
      "Epoch 130/500\n",
      "2/2 [==============================] - 0s 12ms/step - loss: 10.2046 - mse: 120.2557\n",
      "Epoch 131/500\n",
      "2/2 [==============================] - 0s 14ms/step - loss: 21.3088 - mse: 688.4384\n",
      "Epoch 132/500\n",
      "2/2 [==============================] - 0s 10ms/step - loss: 8.2380 - mse: 97.8803\n",
      "Epoch 133/500\n",
      "2/2 [==============================] - 0s 9ms/step - loss: 9.0228 - mse: 107.9095\n",
      "Epoch 134/500\n",
      "2/2 [==============================] - 0s 12ms/step - loss: 16.3769 - mse: 389.4173\n",
      "Epoch 135/500\n",
      "2/2 [==============================] - 0s 8ms/step - loss: 11.3203 - mse: 161.3159\n",
      "Epoch 136/500\n",
      "2/2 [==============================] - 0s 9ms/step - loss: 20.3005 - mse: 589.2080\n",
      "Epoch 137/500\n",
      "2/2 [==============================] - 0s 8ms/step - loss: 23.7607 - mse: 762.8505\n",
      "Epoch 138/500\n",
      "2/2 [==============================] - 0s 9ms/step - loss: 9.4162 - mse: 140.4378\n",
      "Epoch 139/500\n",
      "2/2 [==============================] - 0s 12ms/step - loss: 9.1091 - mse: 143.0762\n",
      "Epoch 140/500\n",
      "2/2 [==============================] - 0s 13ms/step - loss: 17.1241 - mse: 421.6713\n",
      "Epoch 141/500\n",
      "2/2 [==============================] - 0s 11ms/step - loss: 8.3808 - mse: 77.1473\n",
      "Epoch 142/500\n",
      "2/2 [==============================] - 0s 10ms/step - loss: 34.2141 - mse: 2030.0625\n",
      "Epoch 143/500\n",
      "2/2 [==============================] - 0s 12ms/step - loss: 23.2754 - mse: 758.4788\n",
      "Epoch 144/500\n",
      "2/2 [==============================] - 0s 10ms/step - loss: 10.5102 - mse: 183.5123\n",
      "Epoch 145/500\n",
      "2/2 [==============================] - 0s 11ms/step - loss: 25.8708 - mse: 905.0187\n",
      "Epoch 146/500\n",
      "2/2 [==============================] - 0s 12ms/step - loss: 9.9344 - mse: 130.6005\n",
      "Epoch 147/500\n",
      "2/2 [==============================] - 0s 9ms/step - loss: 14.7750 - mse: 291.1667\n",
      "Epoch 148/500\n",
      "2/2 [==============================] - 0s 10ms/step - loss: 17.8941 - mse: 441.6512\n",
      "Epoch 149/500\n",
      "2/2 [==============================] - 0s 10ms/step - loss: 8.4425 - mse: 106.6061\n",
      "Epoch 150/500\n",
      "2/2 [==============================] - 0s 11ms/step - loss: 7.6337 - mse: 66.8618\n",
      "Epoch 151/500\n",
      "2/2 [==============================] - 0s 10ms/step - loss: 18.7513 - mse: 509.6764\n",
      "Epoch 152/500\n",
      "2/2 [==============================] - 0s 9ms/step - loss: 10.4641 - mse: 135.7664\n",
      "Epoch 153/500\n",
      "2/2 [==============================] - 0s 12ms/step - loss: 30.2136 - mse: 1322.7883\n",
      "Epoch 154/500\n",
      "2/2 [==============================] - 0s 10ms/step - loss: 10.0346 - mse: 177.8791\n",
      "Epoch 155/500\n",
      "2/2 [==============================] - 0s 9ms/step - loss: 15.7813 - mse: 370.3880\n",
      "Epoch 156/500\n",
      "2/2 [==============================] - 0s 9ms/step - loss: 17.7318 - mse: 466.4881\n",
      "Epoch 157/500\n",
      "2/2 [==============================] - 0s 12ms/step - loss: 30.9588 - mse: 1539.0441\n",
      "Epoch 158/500\n",
      "2/2 [==============================] - 0s 9ms/step - loss: 10.1974 - mse: 138.5024\n",
      "Epoch 159/500\n",
      "2/2 [==============================] - 0s 11ms/step - loss: 8.6942 - mse: 98.7977\n",
      "Epoch 160/500\n",
      "2/2 [==============================] - 0s 11ms/step - loss: 20.6373 - mse: 611.9437\n",
      "Epoch 161/500\n",
      "2/2 [==============================] - 0s 11ms/step - loss: 11.7862 - mse: 204.9071\n",
      "Epoch 162/500\n",
      "2/2 [==============================] - 0s 9ms/step - loss: 21.6118 - mse: 673.0138\n",
      "Epoch 163/500\n",
      "2/2 [==============================] - 0s 9ms/step - loss: 19.2946 - mse: 535.9795\n",
      "Epoch 164/500\n",
      "2/2 [==============================] - 0s 11ms/step - loss: 11.0894 - mse: 179.2596\n",
      "Epoch 165/500\n",
      "2/2 [==============================] - 0s 8ms/step - loss: 9.6474 - mse: 180.4100\n",
      "Epoch 166/500\n",
      "2/2 [==============================] - 0s 9ms/step - loss: 21.6070 - mse: 682.7863\n",
      "Epoch 167/500\n",
      "2/2 [==============================] - 0s 8ms/step - loss: 26.2633 - mse: 1047.4161\n",
      "Epoch 168/500\n",
      "2/2 [==============================] - 0s 7ms/step - loss: 9.9169 - mse: 119.3960\n",
      "Epoch 169/500\n",
      "2/2 [==============================] - 0s 9ms/step - loss: 22.4953 - mse: 783.1083\n",
      "Epoch 170/500\n",
      "2/2 [==============================] - 0s 8ms/step - loss: 10.1968 - mse: 196.4469\n",
      "Epoch 171/500\n",
      "2/2 [==============================] - 0s 9ms/step - loss: 18.0936 - mse: 505.2547\n",
      "Epoch 172/500\n",
      "2/2 [==============================] - 0s 8ms/step - loss: 28.7313 - mse: 1296.3613\n",
      "Epoch 173/500\n",
      "2/2 [==============================] - 0s 9ms/step - loss: 16.4655 - mse: 429.6908\n",
      "Epoch 174/500\n",
      "2/2 [==============================] - 0s 7ms/step - loss: 11.2532 - mse: 200.3094\n",
      "Epoch 175/500\n",
      "2/2 [==============================] - 0s 9ms/step - loss: 27.6164 - mse: 1099.7467\n",
      "Epoch 176/500\n",
      "2/2 [==============================] - 0s 9ms/step - loss: 8.2973 - mse: 77.9527\n",
      "Epoch 177/500\n",
      "2/2 [==============================] - 0s 10ms/step - loss: 9.2980 - mse: 109.5455\n",
      "Epoch 178/500\n",
      "2/2 [==============================] - 0s 10ms/step - loss: 18.0257 - mse: 460.8521\n",
      "Epoch 179/500\n",
      "2/2 [==============================] - 0s 10ms/step - loss: 10.6721 - mse: 149.8119\n",
      "Epoch 180/500\n",
      "2/2 [==============================] - 0s 10ms/step - loss: 7.9386 - mse: 102.7154\n",
      "Epoch 181/500\n",
      "2/2 [==============================] - 0s 9ms/step - loss: 17.2724 - mse: 432.6612\n",
      "Epoch 182/500\n",
      "2/2 [==============================] - 0s 13ms/step - loss: 11.0108 - mse: 156.7622\n",
      "Epoch 183/500\n",
      "2/2 [==============================] - 0s 9ms/step - loss: 11.6528 - mse: 202.2455\n",
      "Epoch 184/500\n",
      "2/2 [==============================] - 0s 7ms/step - loss: 30.1315 - mse: 1361.4332\n",
      "Epoch 185/500\n",
      "2/2 [==============================] - 0s 8ms/step - loss: 8.2405 - mse: 130.5121\n",
      "Epoch 186/500\n",
      "2/2 [==============================] - 0s 7ms/step - loss: 18.7416 - mse: 515.3431\n",
      "Epoch 187/500\n",
      "2/2 [==============================] - 0s 8ms/step - loss: 8.8245 - mse: 146.1346\n",
      "Epoch 188/500\n",
      "2/2 [==============================] - 0s 11ms/step - loss: 23.7318 - mse: 822.4562\n",
      "Epoch 189/500\n",
      "2/2 [==============================] - 0s 8ms/step - loss: 9.4079 - mse: 115.2465\n",
      "Epoch 190/500\n",
      "2/2 [==============================] - 0s 8ms/step - loss: 17.0232 - mse: 396.8753\n",
      "Epoch 191/500\n",
      "2/2 [==============================] - 0s 9ms/step - loss: 8.6357 - mse: 138.1668\n",
      "Epoch 192/500\n",
      "2/2 [==============================] - 0s 16ms/step - loss: 15.2047 - mse: 304.5251\n",
      "Epoch 193/500\n",
      "2/2 [==============================] - 0s 15ms/step - loss: 30.0480 - mse: 1247.1282\n",
      "Epoch 194/500\n",
      "2/2 [==============================] - 0s 12ms/step - loss: 9.7032 - mse: 165.9280\n",
      "Epoch 195/500\n",
      "2/2 [==============================] - 0s 14ms/step - loss: 12.0552 - mse: 242.0821\n",
      "Epoch 196/500\n",
      "2/2 [==============================] - 0s 13ms/step - loss: 23.4340 - mse: 793.4476\n",
      "Epoch 197/500\n",
      "2/2 [==============================] - 0s 7ms/step - loss: 17.7790 - mse: 465.3145\n",
      "Epoch 198/500\n",
      "2/2 [==============================] - 0s 7ms/step - loss: 12.5871 - mse: 239.9533\n",
      "Epoch 199/500\n",
      "2/2 [==============================] - 0s 11ms/step - loss: 18.0331 - mse: 466.5198\n",
      "Epoch 200/500\n",
      "2/2 [==============================] - 0s 11ms/step - loss: 13.8690 - mse: 286.9000\n",
      "Epoch 201/500\n",
      "2/2 [==============================] - 0s 11ms/step - loss: 6.1214 - mse: 52.5422\n",
      "Epoch 202/500\n",
      "2/2 [==============================] - 0s 11ms/step - loss: 22.8106 - mse: 742.8063\n",
      "Epoch 203/500\n",
      "2/2 [==============================] - 0s 10ms/step - loss: 9.0271 - mse: 155.3628\n",
      "Epoch 204/500\n",
      "2/2 [==============================] - 0s 14ms/step - loss: 18.7660 - mse: 528.4618\n",
      "Epoch 205/500\n",
      "2/2 [==============================] - 0s 10ms/step - loss: 9.4089 - mse: 128.5823\n",
      "Epoch 206/500\n",
      "2/2 [==============================] - 0s 13ms/step - loss: 10.4735 - mse: 143.0838\n",
      "Epoch 207/500\n",
      "2/2 [==============================] - 0s 10ms/step - loss: 20.9484 - mse: 667.1200\n",
      "Epoch 208/500\n",
      "2/2 [==============================] - 0s 13ms/step - loss: 16.4017 - mse: 387.5700\n",
      "Epoch 209/500\n",
      "2/2 [==============================] - 0s 11ms/step - loss: 14.2670 - mse: 315.1267\n",
      "Epoch 210/500\n",
      "2/2 [==============================] - 0s 13ms/step - loss: 17.2070 - mse: 432.3484\n",
      "Epoch 211/500\n",
      "2/2 [==============================] - 0s 14ms/step - loss: 10.2825 - mse: 147.5937\n",
      "Epoch 212/500\n",
      "2/2 [==============================] - 0s 13ms/step - loss: 19.6378 - mse: 579.3732\n",
      "Epoch 213/500\n",
      "2/2 [==============================] - 0s 11ms/step - loss: 14.7289 - mse: 299.0458\n",
      "Epoch 214/500\n",
      "2/2 [==============================] - 0s 11ms/step - loss: 14.3963 - mse: 283.8032\n",
      "Epoch 215/500\n",
      "2/2 [==============================] - 0s 17ms/step - loss: 22.9152 - mse: 774.3214\n",
      "Epoch 216/500\n",
      "2/2 [==============================] - 0s 12ms/step - loss: 13.8455 - mse: 295.1414\n",
      "Epoch 217/500\n",
      "2/2 [==============================] - 0s 12ms/step - loss: 10.3116 - mse: 151.3506\n",
      "Epoch 218/500\n",
      "2/2 [==============================] - 0s 12ms/step - loss: 12.3121 - mse: 200.9842\n",
      "Epoch 219/500\n",
      "2/2 [==============================] - 0s 13ms/step - loss: 6.5807 - mse: 62.3609\n",
      "Epoch 220/500\n",
      "2/2 [==============================] - 0s 12ms/step - loss: 7.1898 - mse: 53.6237\n",
      "Epoch 221/500\n",
      "2/2 [==============================] - 0s 16ms/step - loss: 37.3340 - mse: 2382.9668\n",
      "Epoch 222/500\n",
      "2/2 [==============================] - 0s 13ms/step - loss: 37.1082 - mse: 2244.2231\n",
      "Epoch 223/500\n",
      "2/2 [==============================] - 0s 15ms/step - loss: 6.6969 - mse: 85.4503\n",
      "Epoch 224/500\n",
      "2/2 [==============================] - 0s 10ms/step - loss: 13.8619 - mse: 273.8570\n",
      "Epoch 225/500\n",
      "2/2 [==============================] - 0s 13ms/step - loss: 16.0396 - mse: 331.2698\n",
      "Epoch 226/500\n",
      "2/2 [==============================] - 0s 14ms/step - loss: 15.2524 - mse: 331.9525\n",
      "Epoch 227/500\n",
      "2/2 [==============================] - 0s 9ms/step - loss: 15.5842 - mse: 340.0079\n",
      "Epoch 228/500\n",
      "2/2 [==============================] - 0s 14ms/step - loss: 13.6407 - mse: 267.4221\n",
      "Epoch 229/500\n",
      "2/2 [==============================] - 0s 12ms/step - loss: 17.7336 - mse: 436.1754\n",
      "Epoch 230/500\n",
      "2/2 [==============================] - 0s 11ms/step - loss: 15.2213 - mse: 300.2559\n",
      "Epoch 231/500\n",
      "2/2 [==============================] - 0s 14ms/step - loss: 21.1259 - mse: 664.6972\n",
      "Epoch 232/500\n",
      "2/2 [==============================] - 0s 14ms/step - loss: 25.1875 - mse: 907.3534\n",
      "Epoch 233/500\n",
      "2/2 [==============================] - 0s 12ms/step - loss: 16.2695 - mse: 385.3865\n",
      "Epoch 234/500\n",
      "2/2 [==============================] - 0s 11ms/step - loss: 7.3392 - mse: 67.4484\n",
      "Epoch 235/500\n",
      "2/2 [==============================] - 0s 11ms/step - loss: 16.8994 - mse: 399.3320\n",
      "Epoch 236/500\n",
      "2/2 [==============================] - 0s 11ms/step - loss: 7.1668 - mse: 70.8717\n",
      "Epoch 237/500\n",
      "2/2 [==============================] - 0s 14ms/step - loss: 9.2223 - mse: 119.6562\n",
      "Epoch 238/500\n",
      "2/2 [==============================] - 0s 14ms/step - loss: 8.1409 - mse: 87.8611\n",
      "Epoch 239/500\n",
      "2/2 [==============================] - 0s 11ms/step - loss: 16.8544 - mse: 429.1856\n",
      "Epoch 240/500\n",
      "2/2 [==============================] - 0s 12ms/step - loss: 8.8641 - mse: 108.7680\n",
      "Epoch 241/500\n",
      "2/2 [==============================] - 0s 9ms/step - loss: 12.6878 - mse: 247.4707\n",
      "Epoch 242/500\n",
      "2/2 [==============================] - 0s 14ms/step - loss: 10.8455 - mse: 179.3020\n",
      "Epoch 243/500\n",
      "2/2 [==============================] - 0s 13ms/step - loss: 17.1020 - mse: 451.1674\n",
      "Epoch 244/500\n",
      "2/2 [==============================] - 0s 13ms/step - loss: 14.5977 - mse: 291.4474\n",
      "Epoch 245/500\n",
      "2/2 [==============================] - 0s 10ms/step - loss: 15.1566 - mse: 315.0809\n",
      "Epoch 246/500\n",
      "2/2 [==============================] - 0s 18ms/step - loss: 16.2604 - mse: 401.5020\n",
      "Epoch 247/500\n",
      "2/2 [==============================] - 0s 12ms/step - loss: 18.2812 - mse: 456.1214\n",
      "Epoch 248/500\n",
      "2/2 [==============================] - 0s 14ms/step - loss: 13.8063 - mse: 263.2216\n",
      "Epoch 249/500\n",
      "2/2 [==============================] - 0s 10ms/step - loss: 14.8879 - mse: 309.0854\n",
      "Epoch 250/500\n",
      "2/2 [==============================] - 0s 14ms/step - loss: 18.6052 - mse: 473.2295\n",
      "Epoch 251/500\n",
      "2/2 [==============================] - 0s 8ms/step - loss: 13.8806 - mse: 269.5170\n",
      "Epoch 252/500\n",
      "2/2 [==============================] - 0s 11ms/step - loss: 29.4789 - mse: 1217.4596\n",
      "Epoch 253/500\n",
      "2/2 [==============================] - 0s 13ms/step - loss: 8.2816 - mse: 105.5574\n",
      "Epoch 254/500\n",
      "2/2 [==============================] - 0s 10ms/step - loss: 11.7324 - mse: 209.2253\n",
      "Epoch 255/500\n",
      "2/2 [==============================] - 0s 13ms/step - loss: 15.6447 - mse: 336.1599\n",
      "Epoch 256/500\n",
      "2/2 [==============================] - 0s 11ms/step - loss: 9.8168 - mse: 136.1478\n",
      "Epoch 257/500\n",
      "2/2 [==============================] - 0s 11ms/step - loss: 14.3353 - mse: 314.4608\n",
      "Epoch 258/500\n",
      "2/2 [==============================] - 0s 9ms/step - loss: 5.8651 - mse: 49.4096\n",
      "Epoch 259/500\n",
      "2/2 [==============================] - 0s 13ms/step - loss: 14.9221 - mse: 362.7674\n",
      "Epoch 260/500\n",
      "2/2 [==============================] - 0s 11ms/step - loss: 7.1558 - mse: 58.0301\n",
      "Epoch 261/500\n",
      "2/2 [==============================] - 0s 10ms/step - loss: 19.8795 - mse: 571.9574\n",
      "Epoch 262/500\n",
      "2/2 [==============================] - 0s 14ms/step - loss: 7.3745 - mse: 113.9992\n",
      "Epoch 263/500\n",
      "2/2 [==============================] - 0s 14ms/step - loss: 13.3486 - mse: 258.1720\n",
      "Epoch 264/500\n",
      "2/2 [==============================] - 0s 16ms/step - loss: 20.3037 - mse: 613.0804\n",
      "Epoch 265/500\n",
      "2/2 [==============================] - 0s 13ms/step - loss: 9.6852 - mse: 132.7017\n",
      "Epoch 266/500\n",
      "2/2 [==============================] - 0s 12ms/step - loss: 7.7924 - mse: 83.2719\n",
      "Epoch 267/500\n",
      "2/2 [==============================] - 0s 12ms/step - loss: 7.5967 - mse: 96.2884\n",
      "Epoch 268/500\n",
      "2/2 [==============================] - 0s 16ms/step - loss: 18.1719 - mse: 475.5439\n",
      "Epoch 269/500\n",
      "2/2 [==============================] - 0s 15ms/step - loss: 21.3296 - mse: 664.4330\n",
      "Epoch 270/500\n",
      "2/2 [==============================] - 0s 12ms/step - loss: 4.6409 - mse: 35.1046\n",
      "Epoch 271/500\n",
      "2/2 [==============================] - 0s 10ms/step - loss: 9.9248 - mse: 162.4131\n",
      "Epoch 272/500\n",
      "2/2 [==============================] - 0s 13ms/step - loss: 19.5156 - mse: 562.9240\n",
      "Epoch 273/500\n",
      "2/2 [==============================] - 0s 11ms/step - loss: 6.3981 - mse: 84.7261\n",
      "Epoch 274/500\n",
      "2/2 [==============================] - 0s 13ms/step - loss: 14.6988 - mse: 281.4905\n",
      "Epoch 275/500\n",
      "2/2 [==============================] - 0s 12ms/step - loss: 30.6142 - mse: 1325.9062\n",
      "Epoch 276/500\n",
      "2/2 [==============================] - 0s 10ms/step - loss: 11.4962 - mse: 258.3743\n",
      "Epoch 277/500\n",
      "2/2 [==============================] - 0s 12ms/step - loss: 29.6351 - mse: 1240.3877\n",
      "Epoch 278/500\n",
      "2/2 [==============================] - 0s 14ms/step - loss: 9.6660 - mse: 199.3415\n",
      "Epoch 279/500\n",
      "2/2 [==============================] - 0s 11ms/step - loss: 16.0425 - mse: 384.3593\n",
      "Epoch 280/500\n",
      "2/2 [==============================] - 0s 12ms/step - loss: 21.0877 - mse: 673.6451\n",
      "Epoch 281/500\n",
      "2/2 [==============================] - 0s 14ms/step - loss: 18.1370 - mse: 500.6224\n",
      "Epoch 282/500\n",
      "2/2 [==============================] - 0s 11ms/step - loss: 6.9270 - mse: 94.1181\n",
      "Epoch 283/500\n",
      "2/2 [==============================] - 0s 13ms/step - loss: 8.1133 - mse: 86.9225\n",
      "Epoch 284/500\n",
      "2/2 [==============================] - 0s 12ms/step - loss: 24.6564 - mse: 913.0337\n",
      "Epoch 285/500\n",
      "2/2 [==============================] - 0s 12ms/step - loss: 13.4767 - mse: 290.7518\n",
      "Epoch 286/500\n",
      "2/2 [==============================] - 0s 12ms/step - loss: 7.7842 - mse: 114.9550\n",
      "Epoch 287/500\n",
      "2/2 [==============================] - 0s 13ms/step - loss: 23.4225 - mse: 795.1457\n",
      "Epoch 288/500\n",
      "2/2 [==============================] - 0s 11ms/step - loss: 23.4570 - mse: 823.5324\n",
      "Epoch 289/500\n",
      "2/2 [==============================] - 0s 18ms/step - loss: 12.0409 - mse: 243.8977\n",
      "Epoch 290/500\n",
      "2/2 [==============================] - 0s 12ms/step - loss: 16.6098 - mse: 370.5553\n",
      "Epoch 291/500\n",
      "2/2 [==============================] - 0s 8ms/step - loss: 16.8947 - mse: 419.5145\n",
      "Epoch 292/500\n",
      "2/2 [==============================] - 0s 14ms/step - loss: 9.5344 - mse: 210.6538\n",
      "Epoch 293/500\n",
      "2/2 [==============================] - 0s 11ms/step - loss: 15.3257 - mse: 321.0491\n",
      "Epoch 294/500\n",
      "2/2 [==============================] - 0s 13ms/step - loss: 22.8169 - mse: 786.5650\n",
      "Epoch 295/500\n",
      "2/2 [==============================] - 0s 11ms/step - loss: 17.7123 - mse: 447.8188\n",
      "Epoch 296/500\n",
      "2/2 [==============================] - 0s 14ms/step - loss: 6.1078 - mse: 59.5874\n",
      "Epoch 297/500\n",
      "2/2 [==============================] - 0s 13ms/step - loss: 10.9920 - mse: 250.6564\n",
      "Epoch 298/500\n",
      "2/2 [==============================] - 0s 11ms/step - loss: 23.2489 - mse: 791.5509\n",
      "Epoch 299/500\n",
      "2/2 [==============================] - 0s 11ms/step - loss: 17.5222 - mse: 459.3177\n",
      "Epoch 300/500\n",
      "2/2 [==============================] - 0s 12ms/step - loss: 6.9617 - mse: 63.0223\n",
      "Epoch 301/500\n",
      "2/2 [==============================] - 0s 12ms/step - loss: 24.9388 - mse: 878.8837\n",
      "Epoch 302/500\n",
      "2/2 [==============================] - 0s 10ms/step - loss: 8.8348 - mse: 113.5474\n",
      "Epoch 303/500\n",
      "2/2 [==============================] - 0s 11ms/step - loss: 17.5660 - mse: 452.0113\n",
      "Epoch 304/500\n",
      "2/2 [==============================] - 0s 16ms/step - loss: 10.9164 - mse: 171.8661\n",
      "Epoch 305/500\n",
      "2/2 [==============================] - 0s 12ms/step - loss: 12.7633 - mse: 267.8222\n",
      "Epoch 306/500\n",
      "2/2 [==============================] - 0s 10ms/step - loss: 8.3414 - mse: 92.9562\n",
      "Epoch 307/500\n",
      "2/2 [==============================] - 0s 13ms/step - loss: 13.2016 - mse: 260.2925\n",
      "Epoch 308/500\n",
      "2/2 [==============================] - 0s 13ms/step - loss: 8.2037 - mse: 92.3424\n",
      "Epoch 309/500\n",
      "2/2 [==============================] - 0s 14ms/step - loss: 11.8486 - mse: 226.0572\n",
      "Epoch 310/500\n",
      "2/2 [==============================] - 0s 14ms/step - loss: 6.4100 - mse: 72.6239\n",
      "Epoch 311/500\n",
      "2/2 [==============================] - 0s 14ms/step - loss: 5.0185 - mse: 31.8267\n",
      "Epoch 312/500\n",
      "2/2 [==============================] - 0s 13ms/step - loss: 29.2441 - mse: 1185.0824\n",
      "Epoch 313/500\n",
      "2/2 [==============================] - 0s 15ms/step - loss: 9.0399 - mse: 120.5033\n",
      "Epoch 314/500\n",
      "2/2 [==============================] - 0s 14ms/step - loss: 5.8029 - mse: 58.2230\n",
      "Epoch 315/500\n",
      "2/2 [==============================] - 0s 13ms/step - loss: 24.9101 - mse: 894.0696\n",
      "Epoch 316/500\n",
      "2/2 [==============================] - 0s 14ms/step - loss: 14.2160 - mse: 319.4445\n",
      "Epoch 317/500\n",
      "2/2 [==============================] - 0s 16ms/step - loss: 19.6804 - mse: 533.3580\n",
      "Epoch 318/500\n",
      "2/2 [==============================] - 0s 11ms/step - loss: 7.8912 - mse: 79.9836\n",
      "Epoch 319/500\n",
      "2/2 [==============================] - 0s 13ms/step - loss: 17.8597 - mse: 474.1747\n",
      "Epoch 320/500\n",
      "2/2 [==============================] - 0s 11ms/step - loss: 10.1636 - mse: 172.2543\n",
      "Epoch 321/500\n",
      "2/2 [==============================] - 0s 13ms/step - loss: 8.2746 - mse: 110.1910\n",
      "Epoch 322/500\n",
      "2/2 [==============================] - 0s 12ms/step - loss: 4.3411 - mse: 27.1643\n",
      "Epoch 323/500\n",
      "2/2 [==============================] - 0s 11ms/step - loss: 23.7633 - mse: 820.7440\n",
      "Epoch 324/500\n",
      "2/2 [==============================] - 0s 10ms/step - loss: 6.8749 - mse: 58.8497\n",
      "Epoch 325/500\n",
      "2/2 [==============================] - 0s 11ms/step - loss: 16.5743 - mse: 392.4228\n",
      "Epoch 326/500\n",
      "2/2 [==============================] - 0s 11ms/step - loss: 7.5506 - mse: 79.8078\n",
      "Epoch 327/500\n",
      "2/2 [==============================] - 0s 14ms/step - loss: 20.3283 - mse: 583.8037\n",
      "Epoch 328/500\n",
      "2/2 [==============================] - 0s 11ms/step - loss: 13.7001 - mse: 263.6749\n",
      "Epoch 329/500\n",
      "2/2 [==============================] - 0s 9ms/step - loss: 16.7318 - mse: 425.8819\n",
      "Epoch 330/500\n",
      "2/2 [==============================] - 0s 10ms/step - loss: 7.0852 - mse: 81.0210\n",
      "Epoch 331/500\n",
      "2/2 [==============================] - 0s 12ms/step - loss: 21.7344 - mse: 721.5983\n",
      "Epoch 332/500\n",
      "2/2 [==============================] - 0s 12ms/step - loss: 12.7602 - mse: 259.0169\n",
      "Epoch 333/500\n",
      "2/2 [==============================] - 0s 18ms/step - loss: 9.0135 - mse: 123.7759\n",
      "Epoch 334/500\n",
      "2/2 [==============================] - 0s 15ms/step - loss: 10.0961 - mse: 168.2969\n",
      "Epoch 335/500\n",
      "2/2 [==============================] - 0s 14ms/step - loss: 11.2417 - mse: 282.5266\n",
      "Epoch 336/500\n",
      "2/2 [==============================] - 0s 9ms/step - loss: 31.9572 - mse: 1393.9377\n",
      "Epoch 337/500\n",
      "2/2 [==============================] - 0s 15ms/step - loss: 9.8091 - mse: 170.3018\n",
      "Epoch 338/500\n",
      "2/2 [==============================] - 0s 12ms/step - loss: 19.5253 - mse: 566.2592\n",
      "Epoch 339/500\n",
      "2/2 [==============================] - 0s 16ms/step - loss: 35.5239 - mse: 1901.1545\n",
      "Epoch 340/500\n",
      "2/2 [==============================] - 0s 18ms/step - loss: 10.5710 - mse: 184.1312\n",
      "Epoch 341/500\n",
      "2/2 [==============================] - 0s 12ms/step - loss: 10.1832 - mse: 172.2076\n",
      "Epoch 342/500\n",
      "2/2 [==============================] - 0s 14ms/step - loss: 13.2476 - mse: 231.0100\n",
      "Epoch 343/500\n",
      "2/2 [==============================] - 0s 15ms/step - loss: 10.9911 - mse: 167.4707\n",
      "Epoch 344/500\n",
      "2/2 [==============================] - 0s 15ms/step - loss: 9.8995 - mse: 210.4714\n",
      "Epoch 345/500\n",
      "2/2 [==============================] - 0s 12ms/step - loss: 30.9697 - mse: 1349.2610\n",
      "Epoch 346/500\n",
      "2/2 [==============================] - 0s 10ms/step - loss: 10.6545 - mse: 256.2063\n",
      "Epoch 347/500\n",
      "2/2 [==============================] - 0s 13ms/step - loss: 25.6368 - mse: 920.8024\n",
      "Epoch 348/500\n",
      "2/2 [==============================] - 0s 9ms/step - loss: 13.0883 - mse: 266.8880\n",
      "Epoch 349/500\n",
      "2/2 [==============================] - 0s 13ms/step - loss: 13.0679 - mse: 248.8810\n",
      "Epoch 350/500\n",
      "2/2 [==============================] - 0s 14ms/step - loss: 15.3965 - mse: 328.9351\n",
      "Epoch 351/500\n",
      "2/2 [==============================] - 0s 13ms/step - loss: 32.9064 - mse: 1520.0831\n",
      "Epoch 352/500\n",
      "2/2 [==============================] - 0s 11ms/step - loss: 14.1109 - mse: 280.2871\n",
      "Epoch 353/500\n",
      "2/2 [==============================] - 0s 16ms/step - loss: 17.8045 - mse: 487.4701\n",
      "Epoch 354/500\n",
      "2/2 [==============================] - 0s 11ms/step - loss: 11.3547 - mse: 231.8596\n",
      "Epoch 355/500\n",
      "2/2 [==============================] - 0s 11ms/step - loss: 26.8052 - mse: 1027.1417\n",
      "Epoch 356/500\n",
      "2/2 [==============================] - 0s 9ms/step - loss: 10.0735 - mse: 176.4910\n",
      "Epoch 357/500\n",
      "2/2 [==============================] - 0s 13ms/step - loss: 14.6340 - mse: 337.5823\n",
      "Epoch 358/500\n",
      "2/2 [==============================] - 0s 12ms/step - loss: 14.4823 - mse: 319.9106\n",
      "Epoch 359/500\n",
      "2/2 [==============================] - 0s 15ms/step - loss: 12.3416 - mse: 309.9824\n",
      "Epoch 360/500\n",
      "2/2 [==============================] - 0s 7ms/step - loss: 20.3753 - mse: 624.4449\n",
      "Epoch 361/500\n",
      "2/2 [==============================] - 0s 11ms/step - loss: 10.8253 - mse: 217.2575\n",
      "Epoch 362/500\n",
      "2/2 [==============================] - 0s 16ms/step - loss: 6.7558 - mse: 77.6321\n",
      "Epoch 363/500\n",
      "2/2 [==============================] - 0s 11ms/step - loss: 23.7766 - mse: 821.0197\n",
      "Epoch 364/500\n",
      "2/2 [==============================] - 0s 14ms/step - loss: 29.4568 - mse: 1258.3368\n",
      "Epoch 365/500\n",
      "2/2 [==============================] - 0s 12ms/step - loss: 8.2178 - mse: 105.9255\n",
      "Epoch 366/500\n",
      "2/2 [==============================] - 0s 12ms/step - loss: 6.0527 - mse: 48.8569\n",
      "Epoch 367/500\n",
      "2/2 [==============================] - 0s 14ms/step - loss: 34.6398 - mse: 1819.3750\n",
      "Epoch 368/500\n",
      "2/2 [==============================] - 0s 11ms/step - loss: 7.3078 - mse: 100.3165\n",
      "Epoch 369/500\n",
      "2/2 [==============================] - 0s 12ms/step - loss: 9.1220 - mse: 127.3640\n",
      "Epoch 370/500\n",
      "2/2 [==============================] - 0s 12ms/step - loss: 10.8260 - mse: 204.7973\n",
      "Epoch 371/500\n",
      "2/2 [==============================] - 0s 13ms/step - loss: 8.8958 - mse: 139.6187\n",
      "Epoch 372/500\n",
      "2/2 [==============================] - 0s 10ms/step - loss: 7.6786 - mse: 141.3815\n",
      "Epoch 373/500\n",
      "2/2 [==============================] - 0s 16ms/step - loss: 25.0881 - mse: 921.5038\n",
      "Epoch 374/500\n",
      "2/2 [==============================] - 0s 12ms/step - loss: 13.1461 - mse: 280.4118\n",
      "Epoch 375/500\n",
      "2/2 [==============================] - 0s 14ms/step - loss: 11.8694 - mse: 213.7433\n",
      "Epoch 376/500\n",
      "2/2 [==============================] - 0s 15ms/step - loss: 14.1538 - mse: 286.2225\n",
      "Epoch 377/500\n",
      "2/2 [==============================] - 0s 8ms/step - loss: 15.7213 - mse: 318.9810\n",
      "Epoch 378/500\n",
      "2/2 [==============================] - 0s 15ms/step - loss: 17.0524 - mse: 465.5445\n",
      "Epoch 379/500\n",
      "2/2 [==============================] - 0s 14ms/step - loss: 19.3618 - mse: 535.0646\n",
      "Epoch 380/500\n",
      "2/2 [==============================] - 0s 15ms/step - loss: 15.7147 - mse: 385.7233\n",
      "Epoch 381/500\n",
      "2/2 [==============================] - 0s 13ms/step - loss: 11.4608 - mse: 217.2447\n",
      "Epoch 382/500\n",
      "2/2 [==============================] - 0s 11ms/step - loss: 16.3327 - mse: 356.8185\n",
      "Epoch 383/500\n",
      "2/2 [==============================] - 0s 10ms/step - loss: 22.0931 - mse: 752.9313\n",
      "Epoch 384/500\n",
      "2/2 [==============================] - 0s 10ms/step - loss: 7.7174 - mse: 82.7023\n",
      "Epoch 385/500\n",
      "2/2 [==============================] - 0s 7ms/step - loss: 10.5939 - mse: 274.1753\n",
      "Epoch 386/500\n",
      "2/2 [==============================] - 0s 10ms/step - loss: 19.0720 - mse: 569.7101\n",
      "Epoch 387/500\n",
      "2/2 [==============================] - 0s 8ms/step - loss: 26.5434 - mse: 1028.0128\n",
      "Epoch 388/500\n",
      "2/2 [==============================] - 0s 10ms/step - loss: 10.1123 - mse: 174.6636\n",
      "Epoch 389/500\n",
      "2/2 [==============================] - 0s 11ms/step - loss: 5.1497 - mse: 39.7644\n",
      "Epoch 390/500\n",
      "2/2 [==============================] - 0s 14ms/step - loss: 18.8854 - mse: 516.4091\n",
      "Epoch 391/500\n",
      "2/2 [==============================] - 0s 9ms/step - loss: 9.2995 - mse: 262.4799\n",
      "Epoch 392/500\n",
      "2/2 [==============================] - 0s 11ms/step - loss: 14.3786 - mse: 325.3946\n",
      "Epoch 393/500\n",
      "2/2 [==============================] - 0s 11ms/step - loss: 15.3785 - mse: 338.0628\n",
      "Epoch 394/500\n",
      "2/2 [==============================] - 0s 12ms/step - loss: 14.7218 - mse: 318.8683\n",
      "Epoch 395/500\n",
      "2/2 [==============================] - 0s 11ms/step - loss: 24.9381 - mse: 880.5862\n",
      "Epoch 396/500\n",
      "2/2 [==============================] - 0s 16ms/step - loss: 19.2424 - mse: 524.3983\n",
      "Epoch 397/500\n",
      "2/2 [==============================] - 0s 11ms/step - loss: 11.5398 - mse: 283.9338\n",
      "Epoch 398/500\n",
      "2/2 [==============================] - 0s 12ms/step - loss: 19.1649 - mse: 577.9494\n",
      "Epoch 399/500\n",
      "2/2 [==============================] - 0s 12ms/step - loss: 26.0668 - mse: 1018.5677\n",
      "Epoch 400/500\n",
      "2/2 [==============================] - 0s 9ms/step - loss: 15.7113 - mse: 356.2809\n",
      "Epoch 401/500\n",
      "2/2 [==============================] - 0s 12ms/step - loss: 14.6224 - mse: 281.4412\n",
      "Epoch 402/500\n",
      "2/2 [==============================] - 0s 12ms/step - loss: 24.2244 - mse: 835.3343\n",
      "Epoch 403/500\n",
      "2/2 [==============================] - 0s 14ms/step - loss: 16.5319 - mse: 403.9837\n",
      "Epoch 404/500\n",
      "2/2 [==============================] - 0s 11ms/step - loss: 9.1576 - mse: 159.6934\n",
      "Epoch 405/500\n",
      "2/2 [==============================] - 0s 10ms/step - loss: 10.4449 - mse: 214.2467\n",
      "Epoch 406/500\n",
      "2/2 [==============================] - 0s 13ms/step - loss: 7.7797 - mse: 98.1290\n",
      "Epoch 407/500\n",
      "2/2 [==============================] - 0s 13ms/step - loss: 9.8701 - mse: 180.3055\n",
      "Epoch 408/500\n",
      "2/2 [==============================] - 0s 18ms/step - loss: 10.7463 - mse: 205.5982\n",
      "Epoch 409/500\n",
      "2/2 [==============================] - 0s 14ms/step - loss: 6.5672 - mse: 63.4945\n",
      "Epoch 410/500\n",
      "2/2 [==============================] - 0s 14ms/step - loss: 6.3023 - mse: 53.1519\n",
      "Epoch 411/500\n",
      "2/2 [==============================] - 0s 15ms/step - loss: 16.1666 - mse: 406.7792\n",
      "Epoch 412/500\n",
      "2/2 [==============================] - 0s 13ms/step - loss: 5.1218 - mse: 49.7031\n",
      "Epoch 413/500\n",
      "2/2 [==============================] - 0s 13ms/step - loss: 7.1774 - mse: 73.6485\n",
      "Epoch 414/500\n",
      "2/2 [==============================] - 0s 11ms/step - loss: 18.0921 - mse: 481.3704\n",
      "Epoch 415/500\n",
      "2/2 [==============================] - 0s 11ms/step - loss: 12.3477 - mse: 236.4834\n",
      "Epoch 416/500\n",
      "2/2 [==============================] - 0s 13ms/step - loss: 26.1985 - mse: 952.2160\n",
      "Epoch 417/500\n",
      "2/2 [==============================] - 0s 11ms/step - loss: 14.1200 - mse: 316.2643\n",
      "Epoch 418/500\n",
      "2/2 [==============================] - 0s 12ms/step - loss: 13.0473 - mse: 242.1472\n",
      "Epoch 419/500\n",
      "2/2 [==============================] - 0s 11ms/step - loss: 16.0161 - mse: 388.0609\n",
      "Epoch 420/500\n",
      "2/2 [==============================] - 0s 14ms/step - loss: 25.0390 - mse: 868.0604\n",
      "Epoch 421/500\n",
      "2/2 [==============================] - 0s 11ms/step - loss: 16.6556 - mse: 413.2273\n",
      "Epoch 422/500\n",
      "2/2 [==============================] - 0s 13ms/step - loss: 8.6665 - mse: 196.0745\n",
      "Epoch 423/500\n",
      "2/2 [==============================] - 0s 14ms/step - loss: 24.7587 - mse: 868.1395\n",
      "Epoch 424/500\n",
      "2/2 [==============================] - 0s 16ms/step - loss: 16.5985 - mse: 427.7699\n",
      "Epoch 425/500\n",
      "2/2 [==============================] - 0s 13ms/step - loss: 7.2391 - mse: 76.5809\n",
      "Epoch 426/500\n",
      "2/2 [==============================] - 0s 13ms/step - loss: 20.7558 - mse: 596.1113\n",
      "Epoch 427/500\n",
      "2/2 [==============================] - 0s 13ms/step - loss: 6.4179 - mse: 83.0553\n",
      "Epoch 428/500\n",
      "2/2 [==============================] - 0s 11ms/step - loss: 13.2984 - mse: 295.4316\n",
      "Epoch 429/500\n",
      "2/2 [==============================] - 0s 14ms/step - loss: 11.0473 - mse: 198.5622\n",
      "Epoch 430/500\n",
      "2/2 [==============================] - 0s 17ms/step - loss: 11.9337 - mse: 270.5815\n",
      "Epoch 431/500\n",
      "2/2 [==============================] - 0s 14ms/step - loss: 8.5304 - mse: 138.0306\n",
      "Epoch 432/500\n",
      "2/2 [==============================] - 0s 13ms/step - loss: 18.6867 - mse: 491.2279\n",
      "Epoch 433/500\n",
      "2/2 [==============================] - 0s 14ms/step - loss: 10.1244 - mse: 254.4075\n",
      "Epoch 434/500\n",
      "2/2 [==============================] - 0s 13ms/step - loss: 30.6352 - mse: 1315.8186\n",
      "Epoch 435/500\n",
      "2/2 [==============================] - 0s 13ms/step - loss: 11.1501 - mse: 306.6359\n",
      "Epoch 436/500\n",
      "2/2 [==============================] - 0s 11ms/step - loss: 28.7270 - mse: 1204.9008\n",
      "Epoch 437/500\n",
      "2/2 [==============================] - 0s 13ms/step - loss: 7.5263 - mse: 151.4855\n",
      "Epoch 438/500\n",
      "2/2 [==============================] - 0s 16ms/step - loss: 13.1372 - mse: 246.1964\n",
      "Epoch 439/500\n",
      "2/2 [==============================] - 0s 12ms/step - loss: 34.1004 - mse: 1608.9880\n",
      "Epoch 440/500\n",
      "2/2 [==============================] - 0s 11ms/step - loss: 15.7120 - mse: 324.4344\n",
      "Epoch 441/500\n",
      "2/2 [==============================] - 0s 13ms/step - loss: 18.2767 - mse: 537.7039\n",
      "Epoch 442/500\n",
      "2/2 [==============================] - 0s 12ms/step - loss: 27.1996 - mse: 1077.4446\n",
      "Epoch 443/500\n",
      "2/2 [==============================] - 0s 11ms/step - loss: 10.3550 - mse: 203.8884\n",
      "Epoch 444/500\n",
      "2/2 [==============================] - 0s 11ms/step - loss: 6.2365 - mse: 70.2382\n",
      "Epoch 445/500\n",
      "2/2 [==============================] - 0s 11ms/step - loss: 7.8718 - mse: 152.4842\n",
      "Epoch 446/500\n",
      "2/2 [==============================] - 0s 8ms/step - loss: 15.9692 - mse: 404.6154\n",
      "Epoch 447/500\n",
      "2/2 [==============================] - 0s 16ms/step - loss: 9.2596 - mse: 142.5359\n",
      "Epoch 448/500\n",
      "2/2 [==============================] - 0s 11ms/step - loss: 3.6066 - mse: 19.7248\n",
      "Epoch 449/500\n",
      "2/2 [==============================] - 0s 10ms/step - loss: 13.1727 - mse: 266.1082\n",
      "Epoch 450/500\n",
      "2/2 [==============================] - 0s 10ms/step - loss: 16.0361 - mse: 372.8230\n",
      "Epoch 451/500\n",
      "2/2 [==============================] - 0s 8ms/step - loss: 18.7907 - mse: 544.8934\n",
      "Epoch 452/500\n",
      "2/2 [==============================] - 0s 9ms/step - loss: 40.6706 - mse: 2827.9963\n",
      "Epoch 453/500\n",
      "2/2 [==============================] - 0s 9ms/step - loss: 23.0357 - mse: 750.5632\n",
      "Epoch 454/500\n",
      "2/2 [==============================] - 0s 8ms/step - loss: 19.5360 - mse: 556.2648\n",
      "Epoch 455/500\n",
      "2/2 [==============================] - 0s 10ms/step - loss: 6.2350 - mse: 61.2851\n",
      "Epoch 456/500\n",
      "2/2 [==============================] - 0s 10ms/step - loss: 7.2717 - mse: 95.7487\n",
      "Epoch 457/500\n",
      "2/2 [==============================] - 0s 10ms/step - loss: 12.8579 - mse: 300.5670\n",
      "Epoch 458/500\n",
      "2/2 [==============================] - 0s 14ms/step - loss: 12.4924 - mse: 303.2523\n",
      "Epoch 459/500\n",
      "2/2 [==============================] - 0s 10ms/step - loss: 23.6850 - mse: 828.0041\n",
      "Epoch 460/500\n",
      "2/2 [==============================] - 0s 9ms/step - loss: 20.7210 - mse: 614.8037\n",
      "Epoch 461/500\n",
      "2/2 [==============================] - 0s 8ms/step - loss: 9.6354 - mse: 268.2823\n",
      "Epoch 462/500\n",
      "2/2 [==============================] - 0s 9ms/step - loss: 12.9293 - mse: 241.0823\n",
      "Epoch 463/500\n",
      "2/2 [==============================] - 0s 9ms/step - loss: 28.7636 - mse: 1159.6373\n",
      "Epoch 464/500\n",
      "2/2 [==============================] - 0s 8ms/step - loss: 7.6076 - mse: 113.7551\n",
      "Epoch 465/500\n",
      "2/2 [==============================] - 0s 7ms/step - loss: 15.9532 - mse: 373.8908\n",
      "Epoch 466/500\n",
      "2/2 [==============================] - 0s 10ms/step - loss: 8.7546 - mse: 220.3670\n",
      "Epoch 467/500\n",
      "2/2 [==============================] - 0s 8ms/step - loss: 22.1055 - mse: 749.2119\n",
      "Epoch 468/500\n",
      "2/2 [==============================] - 0s 12ms/step - loss: 22.6256 - mse: 714.7502\n",
      "Epoch 469/500\n",
      "2/2 [==============================] - 0s 9ms/step - loss: 20.0121 - mse: 568.9551\n",
      "Epoch 470/500\n",
      "2/2 [==============================] - 0s 11ms/step - loss: 7.5252 - mse: 95.0214\n",
      "Epoch 471/500\n",
      "2/2 [==============================] - 0s 10ms/step - loss: 27.8941 - mse: 1147.6129\n",
      "Epoch 472/500\n",
      "2/2 [==============================] - 0s 9ms/step - loss: 12.0754 - mse: 243.9196\n",
      "Epoch 473/500\n",
      "2/2 [==============================] - 0s 10ms/step - loss: 14.5148 - mse: 335.0776\n",
      "Epoch 474/500\n",
      "2/2 [==============================] - 0s 12ms/step - loss: 18.2457 - mse: 519.3346\n",
      "Epoch 475/500\n",
      "2/2 [==============================] - 0s 11ms/step - loss: 10.4833 - mse: 191.3858\n",
      "Epoch 476/500\n",
      "2/2 [==============================] - 0s 10ms/step - loss: 11.9981 - mse: 241.7994\n",
      "Epoch 477/500\n",
      "2/2 [==============================] - 0s 12ms/step - loss: 28.1712 - mse: 1116.5111\n",
      "Epoch 478/500\n",
      "2/2 [==============================] - 0s 11ms/step - loss: 7.6465 - mse: 99.7146\n",
      "Epoch 479/500\n",
      "2/2 [==============================] - 0s 13ms/step - loss: 8.4231 - mse: 223.3480\n",
      "Epoch 480/500\n",
      "2/2 [==============================] - 0s 10ms/step - loss: 17.9990 - mse: 492.7898\n",
      "Epoch 481/500\n",
      "2/2 [==============================] - 0s 11ms/step - loss: 15.8802 - mse: 374.3210\n",
      "Epoch 482/500\n",
      "2/2 [==============================] - 0s 10ms/step - loss: 21.4556 - mse: 707.4166\n",
      "Epoch 483/500\n",
      "2/2 [==============================] - 0s 8ms/step - loss: 25.1470 - mse: 934.3104\n",
      "Epoch 484/500\n",
      "2/2 [==============================] - 0s 8ms/step - loss: 23.7062 - mse: 791.7464\n",
      "Epoch 485/500\n",
      "2/2 [==============================] - 0s 8ms/step - loss: 5.6824 - mse: 53.3611\n",
      "Epoch 486/500\n",
      "2/2 [==============================] - 0s 8ms/step - loss: 19.7568 - mse: 551.0443\n",
      "Epoch 487/500\n",
      "2/2 [==============================] - 0s 11ms/step - loss: 14.0647 - mse: 288.1732\n",
      "Epoch 488/500\n",
      "2/2 [==============================] - 0s 11ms/step - loss: 30.6600 - mse: 1339.1434\n",
      "Epoch 489/500\n",
      "2/2 [==============================] - 0s 10ms/step - loss: 12.0026 - mse: 237.2568\n",
      "Epoch 490/500\n",
      "2/2 [==============================] - 0s 10ms/step - loss: 12.7633 - mse: 251.6874\n",
      "Epoch 491/500\n",
      "2/2 [==============================] - 0s 9ms/step - loss: 23.6806 - mse: 841.8717\n",
      "Epoch 492/500\n",
      "2/2 [==============================] - 0s 10ms/step - loss: 20.3710 - mse: 582.7968\n",
      "Epoch 493/500\n",
      "2/2 [==============================] - 0s 15ms/step - loss: 4.9178 - mse: 48.0202\n",
      "Epoch 494/500\n",
      "2/2 [==============================] - 0s 18ms/step - loss: 12.6588 - mse: 243.6237\n",
      "Epoch 495/500\n",
      "2/2 [==============================] - 0s 14ms/step - loss: 13.4170 - mse: 240.6427\n",
      "Epoch 496/500\n",
      "2/2 [==============================] - 0s 11ms/step - loss: 12.6989 - mse: 241.5248\n",
      "Epoch 497/500\n",
      "2/2 [==============================] - 0s 17ms/step - loss: 17.6610 - mse: 517.6572\n",
      "Epoch 498/500\n",
      "2/2 [==============================] - 0s 11ms/step - loss: 23.4502 - mse: 807.7141\n",
      "Epoch 499/500\n",
      "2/2 [==============================] - 0s 12ms/step - loss: 9.2842 - mse: 133.8749\n",
      "Epoch 500/500\n",
      "2/2 [==============================] - 0s 13ms/step - loss: 14.6282 - mse: 296.0751\n"
     ]
    },
    {
     "data": {
      "text/plain": [
       "<keras.src.callbacks.History at 0x7f046fe219c0>"
      ]
     },
     "execution_count": 65,
     "metadata": {},
     "output_type": "execute_result"
    }
   ],
   "source": [
    "# 1. Create the model\n",
    "model_3 = tf.keras.Sequential([\n",
    "    tf.keras.layers.Dense(10),\n",
    "    tf.keras.layers.Dense(1)\n",
    "])\n",
    "\n",
    "# 2. Compile the model\n",
    "model_3.compile(loss=tf.keras.losses.mae,\n",
    "                optimizer=tf.keras.optimizers.SGD(),\n",
    "                metrics=[\"mse\"])\n",
    "\n",
    "# 3. Fit the model\n",
    "model_3.fit(tf.expand_dims(X_train, axis=-1),y_train,epochs=500)"
   ]
  },
  {
   "cell_type": "code",
   "execution_count": 66,
   "metadata": {
    "colab": {
     "base_uri": "https://localhost:8080/",
     "height": 616
    },
    "executionInfo": {
     "elapsed": 651,
     "status": "ok",
     "timestamp": 1731038669215,
     "user": {
      "displayName": "Mark",
      "userId": "05293542057377705486"
     },
     "user_tz": 300
    },
    "id": "TWzpNXyka9Gb",
    "outputId": "bc246004-ad89-4f9b-e143-77a8d1154196"
   },
   "outputs": [
    {
     "name": "stdout",
     "output_type": "stream",
     "text": [
      "1/1 [==============================] - 0s 72ms/step\n"
     ]
    },
    {
     "data": {
      "image/png": "[encoded data removed]",
      "text/plain": [
       "<Figure size 1000x700 with 1 Axes>"
      ]
     },
     "metadata": {},
     "output_type": "display_data"
    }
   ],
   "source": [
    "y_preds_3 = model_3.predict(X_test)\n",
    "plot_predictions(predictions=y_preds_3)"
   ]
  },
  {
   "cell_type": "code",
   "execution_count": 67,
   "metadata": {
    "colab": {
     "base_uri": "https://localhost:8080/"
    },
    "executionInfo": {
     "elapsed": 3,
     "status": "ok",
     "timestamp": 1731038669215,
     "user": {
      "displayName": "Mark",
      "userId": "05293542057377705486"
     },
     "user_tz": 300
    },
    "id": "lHpY1fS8buZY",
    "outputId": "3d641610-e129-4e54-ce8a-f07a4eeb97f5"
   },
   "outputs": [
    {
     "data": {
      "text/plain": [
       "(<tf.Tensor: shape=(), dtype=float32, numpy=68.688385>,\n",
       " <tf.Tensor: shape=(), dtype=float32, numpy=4804.6064>)"
      ]
     },
     "execution_count": 67,
     "metadata": {},
     "output_type": "execute_result"
    }
   ],
   "source": [
    "#Calculate model3 evaluation metrics\n",
    "mae_3=mae(y_true=y_test,y_pred=y_preds_3)\n",
    "mse_3=mse(y_true=y_test,y_pred=y_preds_3)\n",
    "mae_3,mse_3"
   ]
  },
  {
   "cell_type": "markdown",
   "metadata": {
    "id": "e1RqS9dxdp3P"
   },
   "source": [
    "** 🔑 You want to start with small experiments and then compare the results **"
   ]
  },
  {
   "cell_type": "markdown",
   "metadata": {
    "id": "4XYrkhP3dSbO"
   },
   "source": [
    "*** Comparing the results of our experiments ***\n",
    "We've run a few experiments.  Let's compare the results\n"
   ]
  },
  {
   "cell_type": "code",
   "execution_count": 68,
   "metadata": {
    "colab": {
     "base_uri": "https://localhost:8080/",
     "height": 143
    },
    "executionInfo": {
     "elapsed": 2,
     "status": "ok",
     "timestamp": 1731038669215,
     "user": {
      "displayName": "Mark",
      "userId": "05293542057377705486"
     },
     "user_tz": 300
    },
    "id": "PQXncVuFdb_L",
    "outputId": "03832be0-bdca-4167-b919-cbf902cc7fe6"
   },
   "outputs": [
    {
     "data": {
      "application/vnd.google.colaboratory.intrinsic+json": {
       "summary": "{\n  \"name\": \"all_results\",\n  \"rows\": 3,\n  \"fields\": [\n    {\n      \"column\": \"model\",\n      \"properties\": {\n        \"dtype\": \"string\",\n        \"num_unique_values\": 3,\n        \"samples\": [\n          \"model_1\",\n          \"model_2\",\n          \"model_3\"\n        ],\n        \"semantic_type\": \"\",\n        \"description\": \"\"\n      }\n    },\n    {\n      \"column\": \"mae\",\n      \"properties\": {\n        \"dtype\": \"float32\",\n        \"num_unique_values\": 3,\n        \"samples\": [\n          8.637060165405273,\n          26.417957305908203,\n          68.68838500976562\n        ],\n        \"semantic_type\": \"\",\n        \"description\": \"\"\n      }\n    },\n    {\n      \"column\": \"mse\",\n      \"properties\": {\n        \"dtype\": \"float32\",\n        \"num_unique_values\": 3,\n        \"samples\": [\n          81.12248229980469,\n          723.822265625,\n          4804.6064453125\n        ],\n        \"semantic_type\": \"\",\n        \"description\": \"\"\n      }\n    }\n  ]\n}",
       "type": "dataframe",
       "variable_name": "all_results"
      },
      "text/html": [
       "\n",
       "  <div id=\"df-46d339a1-0a66-4921-be78-79599f42846e\" class=\"colab-df-container\">\n",
       "    <div>\n",
       "<style scoped>\n",
       "    .dataframe tbody tr th:only-of-type {\n",
       "        vertical-align: middle;\n",
       "    }\n",
       "\n",
       "    .dataframe tbody tr th {\n",
       "        vertical-align: top;\n",
       "    }\n",
       "\n",
       "    .dataframe thead th {\n",
       "        text-align: right;\n",
       "    }\n",
       "</style>\n",
       "<table border=\"1\" class=\"dataframe\">\n",
       "  <thead>\n",
       "    <tr style=\"text-align: right;\">\n",
       "      <th></th>\n",
       "      <th>model</th>\n",
       "      <th>mae</th>\n",
       "      <th>mse</th>\n",
       "    </tr>\n",
       "  </thead>\n",
       "  <tbody>\n",
       "    <tr>\n",
       "      <th>0</th>\n",
       "      <td>model_1</td>\n",
       "      <td>8.637060</td>\n",
       "      <td>81.122482</td>\n",
       "    </tr>\n",
       "    <tr>\n",
       "      <th>1</th>\n",
       "      <td>model_2</td>\n",
       "      <td>26.417957</td>\n",
       "      <td>723.822266</td>\n",
       "    </tr>\n",
       "    <tr>\n",
       "      <th>2</th>\n",
       "      <td>model_3</td>\n",
       "      <td>68.688385</td>\n",
       "      <td>4804.606445</td>\n",
       "    </tr>\n",
       "  </tbody>\n",
       "</table>\n",
       "</div>\n",
       "    <div class=\"colab-df-buttons\">\n",
       "\n",
       "  <div class=\"colab-df-container\">\n",
       "    <button class=\"colab-df-convert\" onclick=\"convertToInteractive('df-46d339a1-0a66-4921-be78-79599f42846e')\"\n",
       "            title=\"Convert this dataframe to an interactive table.\"\n",
       "            style=\"display:none;\">\n",
       "\n",
       "  <svg xmlns=\"http://www.w3.org/2000/svg\" height=\"24px\" viewBox=\"0 -960 960 960\">\n",
       "    <path d=\"M120-120v-720h720v720H120Zm60-500h600v-160H180v160Zm220 220h160v-160H400v160Zm0 220h160v-160H400v160ZM180-400h160v-160H180v160Zm440 0h160v-160H620v160ZM180-180h160v-160H180v160Zm440 0h160v-160H620v160Z\"/>\n",
       "  </svg>\n",
       "    </button>\n",
       "\n",
       "  <style>\n",
       "    .colab-df-container {\n",
       "      display:flex;\n",
       "      gap: 12px;\n",
       "    }\n",
       "\n",
       "    .colab-df-convert {\n",
       "      background-color: #E8F0FE;\n",
       "      border: none;\n",
       "      border-radius: 50%;\n",
       "      cursor: pointer;\n",
       "      display: none;\n",
       "      fill: #1967D2;\n",
       "      height: 32px;\n",
       "      padding: 0 0 0 0;\n",
       "      width: 32px;\n",
       "    }\n",
       "\n",
       "    .colab-df-convert:hover {\n",
       "      background-color: #E2EBFA;\n",
       "      box-shadow: 0px 1px 2px rgba(60, 64, 67, 0.3), 0px 1px 3px 1px rgba(60, 64, 67, 0.15);\n",
       "      fill: #174EA6;\n",
       "    }\n",
       "\n",
       "    .colab-df-buttons div {\n",
       "      margin-bottom: 4px;\n",
       "    }\n",
       "\n",
       "    [theme=dark] .colab-df-convert {\n",
       "      background-color: #3B4455;\n",
       "      fill: #D2E3FC;\n",
       "    }\n",
       "\n",
       "    [theme=dark] .colab-df-convert:hover {\n",
       "      background-color: #434B5C;\n",
       "      box-shadow: 0px 1px 3px 1px rgba(0, 0, 0, 0.15);\n",
       "      filter: drop-shadow(0px 1px 2px rgba(0, 0, 0, 0.3));\n",
       "      fill: #FFFFFF;\n",
       "    }\n",
       "  </style>\n",
       "\n",
       "    <script>\n",
       "      const buttonEl =\n",
       "        document.querySelector('#df-46d339a1-0a66-4921-be78-79599f42846e button.colab-df-convert');\n",
       "      buttonEl.style.display =\n",
       "        google.colab.kernel.accessAllowed ? 'block' : 'none';\n",
       "\n",
       "      async function convertToInteractive(key) {\n",
       "        const element = document.querySelector('#df-46d339a1-0a66-4921-be78-79599f42846e');\n",
       "        const dataTable =\n",
       "          await google.colab.kernel.invokeFunction('convertToInteractive',\n",
       "                                                    [key], {});\n",
       "        if (!dataTable) return;\n",
       "\n",
       "        const docLinkHtml = 'Like what you see? Visit the ' +\n",
       "          '<a target=\"_blank\" href=https://colab.research.google.com/notebooks/data_table.ipynb>data table notebook</a>'\n",
       "          + ' to learn more about interactive tables.';\n",
       "        element.innerHTML = '';\n",
       "        dataTable['output_type'] = 'display_data';\n",
       "        await google.colab.output.renderOutput(dataTable, element);\n",
       "        const docLink = document.createElement('div');\n",
       "        docLink.innerHTML = docLinkHtml;\n",
       "        element.appendChild(docLink);\n",
       "      }\n",
       "    </script>\n",
       "  </div>\n",
       "\n",
       "\n",
       "<div id=\"df-07410539-cb08-4298-b0d0-798540971910\">\n",
       "  <button class=\"colab-df-quickchart\" onclick=\"quickchart('df-07410539-cb08-4298-b0d0-798540971910')\"\n",
       "            title=\"Suggest charts\"\n",
       "            style=\"display:none;\">\n",
       "\n",
       "<svg xmlns=\"http://www.w3.org/2000/svg\" height=\"24px\"viewBox=\"0 0 24 24\"\n",
       "     width=\"24px\">\n",
       "    <g>\n",
       "        <path d=\"M19 3H5c-1.1 0-2 .9-2 2v14c0 1.1.9 2 2 2h14c1.1 0 2-.9 2-2V5c0-1.1-.9-2-2-2zM9 17H7v-7h2v7zm4 0h-2V7h2v10zm4 0h-2v-4h2v4z\"/>\n",
       "    </g>\n",
       "</svg>\n",
       "  </button>\n",
       "\n",
       "<style>\n",
       "  .colab-df-quickchart {\n",
       "      --bg-color: #E8F0FE;\n",
       "      --fill-color: #1967D2;\n",
       "      --hover-bg-color: #E2EBFA;\n",
       "      --hover-fill-color: #174EA6;\n",
       "      --disabled-fill-color: #AAA;\n",
       "      --disabled-bg-color: #DDD;\n",
       "  }\n",
       "\n",
       "  [theme=dark] .colab-df-quickchart {\n",
       "      --bg-color: #3B4455;\n",
       "      --fill-color: #D2E3FC;\n",
       "      --hover-bg-color: #434B5C;\n",
       "      --hover-fill-color: #FFFFFF;\n",
       "      --disabled-bg-color: #3B4455;\n",
       "      --disabled-fill-color: #666;\n",
       "  }\n",
       "\n",
       "  .colab-df-quickchart {\n",
       "    background-color: var(--bg-color);\n",
       "    border: none;\n",
       "    border-radius: 50%;\n",
       "    cursor: pointer;\n",
       "    display: none;\n",
       "    fill: var(--fill-color);\n",
       "    height: 32px;\n",
       "    padding: 0;\n",
       "    width: 32px;\n",
       "  }\n",
       "\n",
       "  .colab-df-quickchart:hover {\n",
       "    background-color: var(--hover-bg-color);\n",
       "    box-shadow: 0 1px 2px rgba(60, 64, 67, 0.3), 0 1px 3px 1px rgba(60, 64, 67, 0.15);\n",
       "    fill: var(--button-hover-fill-color);\n",
       "  }\n",
       "\n",
       "  .colab-df-quickchart-complete:disabled,\n",
       "  .colab-df-quickchart-complete:disabled:hover {\n",
       "    background-color: var(--disabled-bg-color);\n",
       "    fill: var(--disabled-fill-color);\n",
       "    box-shadow: none;\n",
       "  }\n",
       "\n",
       "  .colab-df-spinner {\n",
       "    border: 2px solid var(--fill-color);\n",
       "    border-color: transparent;\n",
       "    border-bottom-color: var(--fill-color);\n",
       "    animation:\n",
       "      spin 1s steps(1) infinite;\n",
       "  }\n",
       "\n",
       "  @keyframes spin {\n",
       "    0% {\n",
       "      border-color: transparent;\n",
       "      border-bottom-color: var(--fill-color);\n",
       "      border-left-color: var(--fill-color);\n",
       "    }\n",
       "    20% {\n",
       "      border-color: transparent;\n",
       "      border-left-color: var(--fill-color);\n",
       "      border-top-color: var(--fill-color);\n",
       "    }\n",
       "    30% {\n",
       "      border-color: transparent;\n",
       "      border-left-color: var(--fill-color);\n",
       "      border-top-color: var(--fill-color);\n",
       "      border-right-color: var(--fill-color);\n",
       "    }\n",
       "    40% {\n",
       "      border-color: transparent;\n",
       "      border-right-color: var(--fill-color);\n",
       "      border-top-color: var(--fill-color);\n",
       "    }\n",
       "    60% {\n",
       "      border-color: transparent;\n",
       "      border-right-color: var(--fill-color);\n",
       "    }\n",
       "    80% {\n",
       "      border-color: transparent;\n",
       "      border-right-color: var(--fill-color);\n",
       "      border-bottom-color: var(--fill-color);\n",
       "    }\n",
       "    90% {\n",
       "      border-color: transparent;\n",
       "      border-bottom-color: var(--fill-color);\n",
       "    }\n",
       "  }\n",
       "</style>\n",
       "\n",
       "  <script>\n",
       "    async function quickchart(key) {\n",
       "      const quickchartButtonEl =\n",
       "        document.querySelector('#' + key + ' button');\n",
       "      quickchartButtonEl.disabled = true;  // To prevent multiple clicks.\n",
       "      quickchartButtonEl.classList.add('colab-df-spinner');\n",
       "      try {\n",
       "        const charts = await google.colab.kernel.invokeFunction(\n",
       "            'suggestCharts', [key], {});\n",
       "      } catch (error) {\n",
       "        console.error('Error during call to suggestCharts:', error);\n",
       "      }\n",
       "      quickchartButtonEl.classList.remove('colab-df-spinner');\n",
       "      quickchartButtonEl.classList.add('colab-df-quickchart-complete');\n",
       "    }\n",
       "    (() => {\n",
       "      let quickchartButtonEl =\n",
       "        document.querySelector('#df-07410539-cb08-4298-b0d0-798540971910 button');\n",
       "      quickchartButtonEl.style.display =\n",
       "        google.colab.kernel.accessAllowed ? 'block' : 'none';\n",
       "    })();\n",
       "  </script>\n",
       "</div>\n",
       "\n",
       "  <div id=\"id_ccd0d39c-2770-4609-9fb2-b276e3232a3f\">\n",
       "    <style>\n",
       "      .colab-df-generate {\n",
       "        background-color: #E8F0FE;\n",
       "        border: none;\n",
       "        border-radius: 50%;\n",
       "        cursor: pointer;\n",
       "        display: none;\n",
       "        fill: #1967D2;\n",
       "        height: 32px;\n",
       "        padding: 0 0 0 0;\n",
       "        width: 32px;\n",
       "      }\n",
       "\n",
       "      .colab-df-generate:hover {\n",
       "        background-color: #E2EBFA;\n",
       "        box-shadow: 0px 1px 2px rgba(60, 64, 67, 0.3), 0px 1px 3px 1px rgba(60, 64, 67, 0.15);\n",
       "        fill: #174EA6;\n",
       "      }\n",
       "\n",
       "      [theme=dark] .colab-df-generate {\n",
       "        background-color: #3B4455;\n",
       "        fill: #D2E3FC;\n",
       "      }\n",
       "\n",
       "      [theme=dark] .colab-df-generate:hover {\n",
       "        background-color: #434B5C;\n",
       "        box-shadow: 0px 1px 3px 1px rgba(0, 0, 0, 0.15);\n",
       "        filter: drop-shadow(0px 1px 2px rgba(0, 0, 0, 0.3));\n",
       "        fill: #FFFFFF;\n",
       "      }\n",
       "    </style>\n",
       "    <button class=\"colab-df-generate\" onclick=\"generateWithVariable('all_results')\"\n",
       "            title=\"Generate code using this dataframe.\"\n",
       "            style=\"display:none;\">\n",
       "\n",
       "  <svg xmlns=\"http://www.w3.org/2000/svg\" height=\"24px\"viewBox=\"0 0 24 24\"\n",
       "       width=\"24px\">\n",
       "    <path d=\"M7,19H8.4L18.45,9,17,7.55,7,17.6ZM5,21V16.75L18.45,3.32a2,2,0,0,1,2.83,0l1.4,1.43a1.91,1.91,0,0,1,.58,1.4,1.91,1.91,0,0,1-.58,1.4L9.25,21ZM18.45,9,17,7.55Zm-12,3A5.31,5.31,0,0,0,4.9,8.1,5.31,5.31,0,0,0,1,6.5,5.31,5.31,0,0,0,4.9,4.9,5.31,5.31,0,0,0,6.5,1,5.31,5.31,0,0,0,8.1,4.9,5.31,5.31,0,0,0,12,6.5,5.46,5.46,0,0,0,6.5,12Z\"/>\n",
       "  </svg>\n",
       "    </button>\n",
       "    <script>\n",
       "      (() => {\n",
       "      const buttonEl =\n",
       "        document.querySelector('#id_ccd0d39c-2770-4609-9fb2-b276e3232a3f button.colab-df-generate');\n",
       "      buttonEl.style.display =\n",
       "        google.colab.kernel.accessAllowed ? 'block' : 'none';\n",
       "\n",
       "      buttonEl.onclick = () => {\n",
       "        google.colab.notebook.generateWithVariable('all_results');\n",
       "      }\n",
       "      })();\n",
       "    </script>\n",
       "  </div>\n",
       "\n",
       "    </div>\n",
       "  </div>\n"
      ],
      "text/plain": [
       "     model        mae          mse\n",
       "0  model_1   8.637060    81.122482\n",
       "1  model_2  26.417957   723.822266\n",
       "2  model_3  68.688385  4804.606445"
      ]
     },
     "execution_count": 68,
     "metadata": {},
     "output_type": "execute_result"
    }
   ],
   "source": [
    "# Let's create a panda's data frame.  Compare our results using pandas data frame\n",
    "import pandas as pd\n",
    "model_results = [[\"model_1\", mae_1.numpy(), mse_1.numpy()],\n",
    "                 [\"model_2\", mae_2.numpy(), mse_2.numpy()],\n",
    "                 [\"model_3\", mae_3.numpy(), mse_3.numpy()]]\n",
    "\n",
    "all_results = pd.DataFrame(model_results, columns=[\"model\",\"mae\",\"mse\"])\n",
    "all_results"
   ]
  },
  {
   "cell_type": "markdown",
   "metadata": {
    "id": "eZNzTGivfs2v"
   },
   "source": [
    "## Looks like model 2 performed the best"
   ]
  },
  {
   "cell_type": "code",
   "execution_count": 69,
   "metadata": {
    "colab": {
     "base_uri": "https://localhost:8080/"
    },
    "executionInfo": {
     "elapsed": 162,
     "status": "ok",
     "timestamp": 1731038669375,
     "user": {
      "displayName": "Mark",
      "userId": "05293542057377705486"
     },
     "user_tz": 300
    },
    "id": "RP-thGY-e-3_",
    "outputId": "dab1f013-36a1-4518-c133-5a35f6ae5448"
   },
   "outputs": [
    {
     "name": "stdout",
     "output_type": "stream",
     "text": [
      "Model: \"sequential_6\"\n",
      "_________________________________________________________________\n",
      " Layer (type)                Output Shape              Param #   \n",
      "=================================================================\n",
      " dense_8 (Dense)             (None, 10)                20        \n",
      "                                                                 \n",
      " dense_9 (Dense)             (None, 1)                 11        \n",
      "                                                                 \n",
      "=================================================================\n",
      "Total params: 31 (124.00 Byte)\n",
      "Trainable params: 31 (124.00 Byte)\n",
      "Non-trainable params: 0 (0.00 Byte)\n",
      "_________________________________________________________________\n"
     ]
    }
   ],
   "source": [
    "model_2.summary()"
   ]
  },
  {
   "cell_type": "markdown",
   "metadata": {
    "id": "rBAaGeuxf0bj"
   },
   "source": [
    "One of your goals should be to minimize the time between experiments.  The more experiments you do, the more things you'll figure out which don't work.  And in turn, get closer to figuring out what does work.  Remember the machine learning practitioner's motto:  experiment, experiment, experiment"
   ]
  },
  {
   "cell_type": "code",
   "execution_count": 69,
   "metadata": {
    "executionInfo": {
     "elapsed": 1,
     "status": "ok",
     "timestamp": 1731038669375,
     "user": {
      "displayName": "Mark",
      "userId": "05293542057377705486"
     },
     "user_tz": 300
    },
    "id": "vaKhTk04gG2t"
   },
   "outputs": [],
   "source": []
  },
  {
   "cell_type": "markdown",
   "metadata": {
    "id": "35J8PkV_gZJF"
   },
   "source": [
    "## Tracking your experiments\n",
    "\n",
    "One really good habit in machine learning modeling, is to track the results. ofyour experiments.\n",
    "It can be tedious when running a lot of experiments.\n",
    "Luckily, there are tools to help us.\n",
    "\n",
    "📖 ** Resource:** As you build more models, you'll want to look into using:\n",
    "* Tensorboard - a component of the tensorflow library to help track modeling experiments (we'll see this one later)\n",
    "* Weights and biases - a tool for tacking all kinds of weights and biases (plugs straight into tensorflow)"
   ]
  },
  {
   "cell_type": "markdown",
   "metadata": {
    "id": "hW4R4wGFhbsK"
   },
   "source": [
    "## Saving our models ##\n",
    "\n",
    "Saving our models allows us to use them outside of Google Colab (or wherever they were trained) such as in a mobile app or web app.\n",
    "\n",
    "There are two main formats we can save our models to:\n",
    "1. The SavedModel format\n",
    "2. The HDF5 model"
   ]
  },
  {
   "cell_type": "code",
   "execution_count": 70,
   "metadata": {
    "executionInfo": {
     "elapsed": 889,
     "status": "ok",
     "timestamp": 1731038670263,
     "user": {
      "displayName": "Mark",
      "userId": "05293542057377705486"
     },
     "user_tz": 300
    },
    "id": "UHSHthxmdP6X"
   },
   "outputs": [],
   "source": [
    "# Save model using the SavedModel format.\n",
    "model_2.save(\"Best_Model_SavedModel_format\")\n"
   ]
  },
  {
   "cell_type": "code",
   "execution_count": 71,
   "metadata": {
    "colab": {
     "base_uri": "https://localhost:8080/"
    },
    "executionInfo": {
     "elapsed": 4,
     "status": "ok",
     "timestamp": 1731038670263,
     "user": {
      "displayName": "Mark",
      "userId": "05293542057377705486"
     },
     "user_tz": 300
    },
    "id": "z1obO-yzcj1t",
    "outputId": "8d71ff3a-29fd-4d2d-87fe-32f6d6db6f31"
   },
   "outputs": [
    {
     "name": "stderr",
     "output_type": "stream",
     "text": [
      "/usr/local/lib/python3.10/dist-packages/keras/src/engine/training.py:3103: UserWarning: You are saving your model as an HDF5 file via `model.save()`. This file format is considered legacy. We recommend using instead the native Keras format, e.g. `model.save('my_model.keras')`.\n",
      "  saving_api.save_model(\n"
     ]
    }
   ],
   "source": [
    "# Save model using the HDF5 format\n",
    "model_2.save(\"Best_Model_HDF5_format.h5\")"
   ]
  },
  {
   "cell_type": "markdown",
   "metadata": {
    "id": "cv7vdS6ufHSy"
   },
   "source": [
    "## Loading in a saved model ##"
   ]
  },
  {
   "cell_type": "code",
   "execution_count": 72,
   "metadata": {
    "colab": {
     "base_uri": "https://localhost:8080/"
    },
    "executionInfo": {
     "elapsed": 397,
     "status": "ok",
     "timestamp": 1731038670657,
     "user": {
      "displayName": "Mark",
      "userId": "05293542057377705486"
     },
     "user_tz": 300
    },
    "id": "khGHrdvrfUYr",
    "outputId": "df897c94-b0f9-47f0-acd2-33561a2ab507"
   },
   "outputs": [
    {
     "name": "stdout",
     "output_type": "stream",
     "text": [
      "Model: \"sequential_6\"\n",
      "_________________________________________________________________\n",
      " Layer (type)                Output Shape              Param #   \n",
      "=================================================================\n",
      " dense_8 (Dense)             (None, 10)                20        \n",
      "                                                                 \n",
      " dense_9 (Dense)             (None, 1)                 11        \n",
      "                                                                 \n",
      "=================================================================\n",
      "Total params: 31 (124.00 Byte)\n",
      "Trainable params: 31 (124.00 Byte)\n",
      "Non-trainable params: 0 (0.00 Byte)\n",
      "_________________________________________________________________\n"
     ]
    }
   ],
   "source": [
    "# Load in a SavedModel format model\n",
    "loaded_SavedModel_format = tf.keras.models.load_model(\"Best_Model_SavedModel_format\")\n",
    "loaded_SavedModel_format.summary()"
   ]
  },
  {
   "cell_type": "code",
   "execution_count": 73,
   "metadata": {
    "colab": {
     "base_uri": "https://localhost:8080/"
    },
    "executionInfo": {
     "elapsed": 333,
     "status": "ok",
     "timestamp": 1731038670985,
     "user": {
      "displayName": "Mark",
      "userId": "05293542057377705486"
     },
     "user_tz": 300
    },
    "id": "5iFlB6Nchdsz",
    "outputId": "9048e04d-addd-4d86-d889-2745db97266d"
   },
   "outputs": [
    {
     "name": "stdout",
     "output_type": "stream",
     "text": [
      "Model: \"sequential_6\"\n",
      "_________________________________________________________________\n",
      " Layer (type)                Output Shape              Param #   \n",
      "=================================================================\n",
      " dense_8 (Dense)             (None, 10)                20        \n",
      "                                                                 \n",
      " dense_9 (Dense)             (None, 1)                 11        \n",
      "                                                                 \n",
      "=================================================================\n",
      "Total params: 31 (124.00 Byte)\n",
      "Trainable params: 31 (124.00 Byte)\n",
      "Non-trainable params: 0 (0.00 Byte)\n",
      "_________________________________________________________________\n",
      "1/1 [==============================] - 0s 30ms/step\n",
      "1/1 [==============================] - 0s 89ms/step\n"
     ]
    },
    {
     "data": {
      "text/plain": [
       "array([[ True],\n",
       "       [ True],\n",
       "       [ True],\n",
       "       [ True],\n",
       "       [ True],\n",
       "       [ True],\n",
       "       [ True],\n",
       "       [ True],\n",
       "       [ True],\n",
       "       [ True]])"
      ]
     },
     "execution_count": 73,
     "metadata": {},
     "output_type": "execute_result"
    }
   ],
   "source": [
    "model_2.summary()\n",
    "#Compare model_2 predictions with SavedModel format predictions\n",
    "model_2_preds = model_2.predict(X_test)\n",
    "loaded_SavedModel_format_preds = loaded_SavedModel_format.predict(X_test)\n",
    "model_2_preds == loaded_SavedModel_format_preds\n"
   ]
  },
  {
   "cell_type": "code",
   "execution_count": 74,
   "metadata": {
    "colab": {
     "base_uri": "https://localhost:8080/"
    },
    "executionInfo": {
     "elapsed": 4,
     "status": "ok",
     "timestamp": 1731038670985,
     "user": {
      "displayName": "Mark",
      "userId": "05293542057377705486"
     },
     "user_tz": 300
    },
    "id": "7wK40EYuhKnR",
    "outputId": "e4fdd351-fae6-4ff8-a23e-8a112f6d4830"
   },
   "outputs": [
    {
     "data": {
      "text/plain": [
       "<tf.Tensor: shape=(), dtype=bool, numpy=True>"
      ]
     },
     "execution_count": 74,
     "metadata": {},
     "output_type": "execute_result"
    }
   ],
   "source": [
    "mae(y_true=y_test, y_pred=model_2_preds) == mae(y_true=y_test, y_pred=loaded_SavedModel_format_preds)"
   ]
  },
  {
   "cell_type": "code",
   "execution_count": 75,
   "metadata": {
    "colab": {
     "base_uri": "https://localhost:8080/"
    },
    "executionInfo": {
     "elapsed": 175,
     "status": "ok",
     "timestamp": 1731038671159,
     "user": {
      "displayName": "Mark",
      "userId": "05293542057377705486"
     },
     "user_tz": 300
    },
    "id": "tU0aJKhiiZj5",
    "outputId": "20274dbc-0d0d-411d-a791-8af37b8e1942"
   },
   "outputs": [
    {
     "name": "stdout",
     "output_type": "stream",
     "text": [
      "Model: \"sequential_6\"\n",
      "_________________________________________________________________\n",
      " Layer (type)                Output Shape              Param #   \n",
      "=================================================================\n",
      " dense_8 (Dense)             (None, 10)                20        \n",
      "                                                                 \n",
      " dense_9 (Dense)             (None, 1)                 11        \n",
      "                                                                 \n",
      "=================================================================\n",
      "Total params: 31 (124.00 Byte)\n",
      "Trainable params: 31 (124.00 Byte)\n",
      "Non-trainable params: 0 (0.00 Byte)\n",
      "_________________________________________________________________\n"
     ]
    }
   ],
   "source": [
    "# Load in. amodel using the H5 model format\n",
    "loaded_h5_model =tf.keras.models.load_model(\"Best_Model_HDF5_format.h5\")\n",
    "loaded_h5_model.summary()"
   ]
  },
  {
   "cell_type": "code",
   "execution_count": 76,
   "metadata": {
    "colab": {
     "base_uri": "https://localhost:8080/"
    },
    "executionInfo": {
     "elapsed": 220,
     "status": "ok",
     "timestamp": 1731038671378,
     "user": {
      "displayName": "Mark",
      "userId": "05293542057377705486"
     },
     "user_tz": 300
    },
    "id": "sw1CgdLRi6-p",
    "outputId": "e3cba064-d72e-4509-b14a-c1599038f2c0"
   },
   "outputs": [
    {
     "name": "stdout",
     "output_type": "stream",
     "text": [
      "1/1 [==============================] - 0s 117ms/step\n"
     ]
    },
    {
     "data": {
      "text/plain": [
       "array([[ True],\n",
       "       [ True],\n",
       "       [ True],\n",
       "       [ True],\n",
       "       [ True],\n",
       "       [ True],\n",
       "       [ True],\n",
       "       [ True],\n",
       "       [ True],\n",
       "       [ True]])"
      ]
     },
     "execution_count": 76,
     "metadata": {},
     "output_type": "execute_result"
    }
   ],
   "source": [
    "# Check preidctions\n",
    "loaded_h5_model_preds = loaded_h5_model.predict(X_test)\n",
    "loaded_h5_model_preds == model_2_preds"
   ]
  },
  {
   "cell_type": "markdown",
   "metadata": {
    "id": "GbY4Gm7WOhdc"
   },
   "source": [
    "## Download a model (or any other file ) from Google Colab\n",
    "\n",
    "1. If you want to download your files from Google Colab you can go to the Files tab and right click the file you want and click download\n",
    "2. Use code (see cell below)\n",
    "3. Save it to Google Drive by connecting Google Drive and copying it there (see 2nd code cell below)"
   ]
  },
  {
   "cell_type": "code",
   "execution_count": 77,
   "metadata": {
    "colab": {
     "base_uri": "https://localhost:8080/",
     "height": 17
    },
    "executionInfo": {
     "elapsed": 4,
     "status": "ok",
     "timestamp": 1731038671378,
     "user": {
      "displayName": "Mark",
      "userId": "05293542057377705486"
     },
     "user_tz": 300
    },
    "id": "eeLbcr-ROwbE",
    "outputId": "ac9b6050-27e2-4438-82f7-b2b7a37ca8fd"
   },
   "outputs": [
    {
     "data": {
      "application/javascript": "\n    async function download(id, filename, size) {\n      if (!google.colab.kernel.accessAllowed) {\n        return;\n      }\n      const div = document.createElement('div');\n      const label = document.createElement('label');\n      label.textContent = `Downloading \"${filename}\": `;\n      div.appendChild(label);\n      const progress = document.createElement('progress');\n      progress.max = size;\n      div.appendChild(progress);\n      document.body.appendChild(div);\n\n      const buffers = [];\n      let downloaded = 0;\n\n      const channel = await google.colab.kernel.comms.open(id);\n      // Send a message to notify the kernel that we're ready.\n      channel.send({})\n\n      for await (const message of channel.messages) {\n        // Send a message to notify the kernel that we're ready.\n        channel.send({})\n        if (message.buffers) {\n          for (const buffer of message.buffers) {\n            buffers.push(buffer);\n            downloaded += buffer.byteLength;\n            progress.value = downloaded;\n          }\n        }\n      }\n      const blob = new Blob(buffers, {type: 'application/binary'});\n      const a = document.createElement('a');\n      a.href = window.URL.createObjectURL(blob);\n      a.download = filename;\n      div.appendChild(a);\n      a.click();\n      div.remove();\n    }\n  ",
      "text/plain": [
       "<IPython.core.display.Javascript object>"
      ]
     },
     "metadata": {},
     "output_type": "display_data"
    },
    {
     "data": {
      "application/javascript": "download(\"download_e846f2f6-a79c-465d-a8af-4a3f8080b9ee\", \"Best_Model_HDF5_format.h5\", 21952)",
      "text/plain": [
       "<IPython.core.display.Javascript object>"
      ]
     },
     "metadata": {},
     "output_type": "display_data"
    }
   ],
   "source": [
    "# Download a file from Google Colab\n",
    "from google.colab import files\n",
    "files.download(\"/content/Best_Model_HDF5_format.h5\")\n"
   ]
  },
  {
   "cell_type": "code",
   "execution_count": 78,
   "metadata": {
    "colab": {
     "base_uri": "https://localhost:8080/"
    },
    "executionInfo": {
     "elapsed": 101,
     "status": "ok",
     "timestamp": 1731038671476,
     "user": {
      "displayName": "Mark",
      "userId": "05293542057377705486"
     },
     "user_tz": 300
    },
    "id": "5KPL0FCuQFSM",
    "outputId": "d1c573cd-afae-483a-8671-53be919bd861"
   },
   "outputs": [
    {
     "name": "stdout",
     "output_type": "stream",
     "text": [
      "cp: cannot create regular file '/content/drive/MyDrive/TensorFlowCourse': No such file or directory\n"
     ]
    }
   ],
   "source": [
    "# Save a file from google colab to google drive\n",
    "!cp /content/Best_Model_HDF5_format.h5 /content/drive/MyDrive/TensorFlowCourse"
   ]
  },
  {
   "cell_type": "code",
   "execution_count": 79,
   "metadata": {
    "colab": {
     "base_uri": "https://localhost:8080/"
    },
    "executionInfo": {
     "elapsed": 170,
     "status": "ok",
     "timestamp": 1731038671645,
     "user": {
      "displayName": "Mark",
      "userId": "05293542057377705486"
     },
     "user_tz": 300
    },
    "id": "B9ILWfCfQnSe",
    "outputId": "574283f2-328a-40e1-88e5-287e556ad3ac"
   },
   "outputs": [
    {
     "name": "stdout",
     "output_type": "stream",
     "text": [
      "ls: cannot access '/content/drive/MyDrive/TensorFlowCourse': No such file or directory\n"
     ]
    }
   ],
   "source": [
    "!ls /content/drive/MyDrive/TensorFlowCourse"
   ]
  },
  {
   "cell_type": "markdown",
   "metadata": {
    "id": "w9WBdp31RGtF"
   },
   "source": [
    "## A larger example"
   ]
  },
  {
   "cell_type": "code",
   "execution_count": 80,
   "metadata": {
    "executionInfo": {
     "elapsed": 1,
     "status": "ok",
     "timestamp": 1731038671645,
     "user": {
      "displayName": "Mark",
      "userId": "05293542057377705486"
     },
     "user_tz": 300
    },
    "id": "bEe1UaXkSexh"
   },
   "outputs": [],
   "source": [
    "# Import required libraries\n",
    "import tensorflow as tf\n",
    "import pandas as pd\n",
    "import matplotlib.pyplot as plt"
   ]
  },
  {
   "cell_type": "code",
   "execution_count": 81,
   "metadata": {
    "colab": {
     "base_uri": "https://localhost:8080/",
     "height": 423
    },
    "executionInfo": {
     "elapsed": 348,
     "status": "ok",
     "timestamp": 1731038671992,
     "user": {
      "displayName": "Mark",
      "userId": "05293542057377705486"
     },
     "user_tz": 300
    },
    "id": "MfF0E9ecT1Y9",
    "outputId": "d0bbf45a-6ea8-4ebb-c89f-cc3984d937be"
   },
   "outputs": [
    {
     "data": {
      "application/vnd.google.colaboratory.intrinsic+json": {
       "summary": "{\n  \"name\": \"insurance\",\n  \"rows\": 1338,\n  \"fields\": [\n    {\n      \"column\": \"age\",\n      \"properties\": {\n        \"dtype\": \"number\",\n        \"std\": 14,\n        \"min\": 18,\n        \"max\": 64,\n        \"num_unique_values\": 47,\n        \"samples\": [\n          21,\n          45,\n          36\n        ],\n        \"semantic_type\": \"\",\n        \"description\": \"\"\n      }\n    },\n    {\n      \"column\": \"sex\",\n      \"properties\": {\n        \"dtype\": \"category\",\n        \"num_unique_values\": 2,\n        \"samples\": [\n          \"male\",\n          \"female\"\n        ],\n        \"semantic_type\": \"\",\n        \"description\": \"\"\n      }\n    },\n    {\n      \"column\": \"bmi\",\n      \"properties\": {\n        \"dtype\": \"number\",\n        \"std\": 6.098186911679017,\n        \"min\": 15.96,\n        \"max\": 53.13,\n        \"num_unique_values\": 548,\n        \"samples\": [\n          23.18,\n          26.885\n        ],\n        \"semantic_type\": \"\",\n        \"description\": \"\"\n      }\n    },\n    {\n      \"column\": \"children\",\n      \"properties\": {\n        \"dtype\": \"number\",\n        \"std\": 1,\n        \"min\": 0,\n        \"max\": 5,\n        \"num_unique_values\": 6,\n        \"samples\": [\n          0,\n          1\n        ],\n        \"semantic_type\": \"\",\n        \"description\": \"\"\n      }\n    },\n    {\n      \"column\": \"smoker\",\n      \"properties\": {\n        \"dtype\": \"category\",\n        \"num_unique_values\": 2,\n        \"samples\": [\n          \"no\",\n          \"yes\"\n        ],\n        \"semantic_type\": \"\",\n        \"description\": \"\"\n      }\n    },\n    {\n      \"column\": \"region\",\n      \"properties\": {\n        \"dtype\": \"category\",\n        \"num_unique_values\": 4,\n        \"samples\": [\n          \"southeast\",\n          \"northeast\"\n        ],\n        \"semantic_type\": \"\",\n        \"description\": \"\"\n      }\n    },\n    {\n      \"column\": \"charges\",\n      \"properties\": {\n        \"dtype\": \"number\",\n        \"std\": 12110.011236693994,\n        \"min\": 1121.8739,\n        \"max\": 63770.42801,\n        \"num_unique_values\": 1337,\n        \"samples\": [\n          8688.85885,\n          5708.867\n        ],\n        \"semantic_type\": \"\",\n        \"description\": \"\"\n      }\n    }\n  ]\n}",
       "type": "dataframe",
       "variable_name": "insurance"
      },
      "text/html": [
       "\n",
       "  <div id=\"df-ff411772-e6b6-4a05-917b-ec4d946f094e\" class=\"colab-df-container\">\n",
       "    <div>\n",
       "<style scoped>\n",
       "    .dataframe tbody tr th:only-of-type {\n",
       "        vertical-align: middle;\n",
       "    }\n",
       "\n",
       "    .dataframe tbody tr th {\n",
       "        vertical-align: top;\n",
       "    }\n",
       "\n",
       "    .dataframe thead th {\n",
       "        text-align: right;\n",
       "    }\n",
       "</style>\n",
       "<table border=\"1\" class=\"dataframe\">\n",
       "  <thead>\n",
       "    <tr style=\"text-align: right;\">\n",
       "      <th></th>\n",
       "      <th>age</th>\n",
       "      <th>sex</th>\n",
       "      <th>bmi</th>\n",
       "      <th>children</th>\n",
       "      <th>smoker</th>\n",
       "      <th>region</th>\n",
       "      <th>charges</th>\n",
       "    </tr>\n",
       "  </thead>\n",
       "  <tbody>\n",
       "    <tr>\n",
       "      <th>0</th>\n",
       "      <td>19</td>\n",
       "      <td>female</td>\n",
       "      <td>27.900</td>\n",
       "      <td>0</td>\n",
       "      <td>yes</td>\n",
       "      <td>southwest</td>\n",
       "      <td>16884.92400</td>\n",
       "    </tr>\n",
       "    <tr>\n",
       "      <th>1</th>\n",
       "      <td>18</td>\n",
       "      <td>male</td>\n",
       "      <td>33.770</td>\n",
       "      <td>1</td>\n",
       "      <td>no</td>\n",
       "      <td>southeast</td>\n",
       "      <td>1725.55230</td>\n",
       "    </tr>\n",
       "    <tr>\n",
       "      <th>2</th>\n",
       "      <td>28</td>\n",
       "      <td>male</td>\n",
       "      <td>33.000</td>\n",
       "      <td>3</td>\n",
       "      <td>no</td>\n",
       "      <td>southeast</td>\n",
       "      <td>4449.46200</td>\n",
       "    </tr>\n",
       "    <tr>\n",
       "      <th>3</th>\n",
       "      <td>33</td>\n",
       "      <td>male</td>\n",
       "      <td>22.705</td>\n",
       "      <td>0</td>\n",
       "      <td>no</td>\n",
       "      <td>northwest</td>\n",
       "      <td>21984.47061</td>\n",
       "    </tr>\n",
       "    <tr>\n",
       "      <th>4</th>\n",
       "      <td>32</td>\n",
       "      <td>male</td>\n",
       "      <td>28.880</td>\n",
       "      <td>0</td>\n",
       "      <td>no</td>\n",
       "      <td>northwest</td>\n",
       "      <td>3866.85520</td>\n",
       "    </tr>\n",
       "    <tr>\n",
       "      <th>...</th>\n",
       "      <td>...</td>\n",
       "      <td>...</td>\n",
       "      <td>...</td>\n",
       "      <td>...</td>\n",
       "      <td>...</td>\n",
       "      <td>...</td>\n",
       "      <td>...</td>\n",
       "    </tr>\n",
       "    <tr>\n",
       "      <th>1333</th>\n",
       "      <td>50</td>\n",
       "      <td>male</td>\n",
       "      <td>30.970</td>\n",
       "      <td>3</td>\n",
       "      <td>no</td>\n",
       "      <td>northwest</td>\n",
       "      <td>10600.54830</td>\n",
       "    </tr>\n",
       "    <tr>\n",
       "      <th>1334</th>\n",
       "      <td>18</td>\n",
       "      <td>female</td>\n",
       "      <td>31.920</td>\n",
       "      <td>0</td>\n",
       "      <td>no</td>\n",
       "      <td>northeast</td>\n",
       "      <td>2205.98080</td>\n",
       "    </tr>\n",
       "    <tr>\n",
       "      <th>1335</th>\n",
       "      <td>18</td>\n",
       "      <td>female</td>\n",
       "      <td>36.850</td>\n",
       "      <td>0</td>\n",
       "      <td>no</td>\n",
       "      <td>southeast</td>\n",
       "      <td>1629.83350</td>\n",
       "    </tr>\n",
       "    <tr>\n",
       "      <th>1336</th>\n",
       "      <td>21</td>\n",
       "      <td>female</td>\n",
       "      <td>25.800</td>\n",
       "      <td>0</td>\n",
       "      <td>no</td>\n",
       "      <td>southwest</td>\n",
       "      <td>2007.94500</td>\n",
       "    </tr>\n",
       "    <tr>\n",
       "      <th>1337</th>\n",
       "      <td>61</td>\n",
       "      <td>female</td>\n",
       "      <td>29.070</td>\n",
       "      <td>0</td>\n",
       "      <td>yes</td>\n",
       "      <td>northwest</td>\n",
       "      <td>29141.36030</td>\n",
       "    </tr>\n",
       "  </tbody>\n",
       "</table>\n",
       "<p>1338 rows × 7 columns</p>\n",
       "</div>\n",
       "    <div class=\"colab-df-buttons\">\n",
       "\n",
       "  <div class=\"colab-df-container\">\n",
       "    <button class=\"colab-df-convert\" onclick=\"convertToInteractive('df-ff411772-e6b6-4a05-917b-ec4d946f094e')\"\n",
       "            title=\"Convert this dataframe to an interactive table.\"\n",
       "            style=\"display:none;\">\n",
       "\n",
       "  <svg xmlns=\"http://www.w3.org/2000/svg\" height=\"24px\" viewBox=\"0 -960 960 960\">\n",
       "    <path d=\"M120-120v-720h720v720H120Zm60-500h600v-160H180v160Zm220 220h160v-160H400v160Zm0 220h160v-160H400v160ZM180-400h160v-160H180v160Zm440 0h160v-160H620v160ZM180-180h160v-160H180v160Zm440 0h160v-160H620v160Z\"/>\n",
       "  </svg>\n",
       "    </button>\n",
       "\n",
       "  <style>\n",
       "    .colab-df-container {\n",
       "      display:flex;\n",
       "      gap: 12px;\n",
       "    }\n",
       "\n",
       "    .colab-df-convert {\n",
       "      background-color: #E8F0FE;\n",
       "      border: none;\n",
       "      border-radius: 50%;\n",
       "      cursor: pointer;\n",
       "      display: none;\n",
       "      fill: #1967D2;\n",
       "      height: 32px;\n",
       "      padding: 0 0 0 0;\n",
       "      width: 32px;\n",
       "    }\n",
       "\n",
       "    .colab-df-convert:hover {\n",
       "      background-color: #E2EBFA;\n",
       "      box-shadow: 0px 1px 2px rgba(60, 64, 67, 0.3), 0px 1px 3px 1px rgba(60, 64, 67, 0.15);\n",
       "      fill: #174EA6;\n",
       "    }\n",
       "\n",
       "    .colab-df-buttons div {\n",
       "      margin-bottom: 4px;\n",
       "    }\n",
       "\n",
       "    [theme=dark] .colab-df-convert {\n",
       "      background-color: #3B4455;\n",
       "      fill: #D2E3FC;\n",
       "    }\n",
       "\n",
       "    [theme=dark] .colab-df-convert:hover {\n",
       "      background-color: #434B5C;\n",
       "      box-shadow: 0px 1px 3px 1px rgba(0, 0, 0, 0.15);\n",
       "      filter: drop-shadow(0px 1px 2px rgba(0, 0, 0, 0.3));\n",
       "      fill: #FFFFFF;\n",
       "    }\n",
       "  </style>\n",
       "\n",
       "    <script>\n",
       "      const buttonEl =\n",
       "        document.querySelector('#df-ff411772-e6b6-4a05-917b-ec4d946f094e button.colab-df-convert');\n",
       "      buttonEl.style.display =\n",
       "        google.colab.kernel.accessAllowed ? 'block' : 'none';\n",
       "\n",
       "      async function convertToInteractive(key) {\n",
       "        const element = document.querySelector('#df-ff411772-e6b6-4a05-917b-ec4d946f094e');\n",
       "        const dataTable =\n",
       "          await google.colab.kernel.invokeFunction('convertToInteractive',\n",
       "                                                    [key], {});\n",
       "        if (!dataTable) return;\n",
       "\n",
       "        const docLinkHtml = 'Like what you see? Visit the ' +\n",
       "          '<a target=\"_blank\" href=https://colab.research.google.com/notebooks/data_table.ipynb>data table notebook</a>'\n",
       "          + ' to learn more about interactive tables.';\n",
       "        element.innerHTML = '';\n",
       "        dataTable['output_type'] = 'display_data';\n",
       "        await google.colab.output.renderOutput(dataTable, element);\n",
       "        const docLink = document.createElement('div');\n",
       "        docLink.innerHTML = docLinkHtml;\n",
       "        element.appendChild(docLink);\n",
       "      }\n",
       "    </script>\n",
       "  </div>\n",
       "\n",
       "\n",
       "<div id=\"df-faa51794-3b78-4bcb-b246-bd9f6e13bb51\">\n",
       "  <button class=\"colab-df-quickchart\" onclick=\"quickchart('df-faa51794-3b78-4bcb-b246-bd9f6e13bb51')\"\n",
       "            title=\"Suggest charts\"\n",
       "            style=\"display:none;\">\n",
       "\n",
       "<svg xmlns=\"http://www.w3.org/2000/svg\" height=\"24px\"viewBox=\"0 0 24 24\"\n",
       "     width=\"24px\">\n",
       "    <g>\n",
       "        <path d=\"M19 3H5c-1.1 0-2 .9-2 2v14c0 1.1.9 2 2 2h14c1.1 0 2-.9 2-2V5c0-1.1-.9-2-2-2zM9 17H7v-7h2v7zm4 0h-2V7h2v10zm4 0h-2v-4h2v4z\"/>\n",
       "    </g>\n",
       "</svg>\n",
       "  </button>\n",
       "\n",
       "<style>\n",
       "  .colab-df-quickchart {\n",
       "      --bg-color: #E8F0FE;\n",
       "      --fill-color: #1967D2;\n",
       "      --hover-bg-color: #E2EBFA;\n",
       "      --hover-fill-color: #174EA6;\n",
       "      --disabled-fill-color: #AAA;\n",
       "      --disabled-bg-color: #DDD;\n",
       "  }\n",
       "\n",
       "  [theme=dark] .colab-df-quickchart {\n",
       "      --bg-color: #3B4455;\n",
       "      --fill-color: #D2E3FC;\n",
       "      --hover-bg-color: #434B5C;\n",
       "      --hover-fill-color: #FFFFFF;\n",
       "      --disabled-bg-color: #3B4455;\n",
       "      --disabled-fill-color: #666;\n",
       "  }\n",
       "\n",
       "  .colab-df-quickchart {\n",
       "    background-color: var(--bg-color);\n",
       "    border: none;\n",
       "    border-radius: 50%;\n",
       "    cursor: pointer;\n",
       "    display: none;\n",
       "    fill: var(--fill-color);\n",
       "    height: 32px;\n",
       "    padding: 0;\n",
       "    width: 32px;\n",
       "  }\n",
       "\n",
       "  .colab-df-quickchart:hover {\n",
       "    background-color: var(--hover-bg-color);\n",
       "    box-shadow: 0 1px 2px rgba(60, 64, 67, 0.3), 0 1px 3px 1px rgba(60, 64, 67, 0.15);\n",
       "    fill: var(--button-hover-fill-color);\n",
       "  }\n",
       "\n",
       "  .colab-df-quickchart-complete:disabled,\n",
       "  .colab-df-quickchart-complete:disabled:hover {\n",
       "    background-color: var(--disabled-bg-color);\n",
       "    fill: var(--disabled-fill-color);\n",
       "    box-shadow: none;\n",
       "  }\n",
       "\n",
       "  .colab-df-spinner {\n",
       "    border: 2px solid var(--fill-color);\n",
       "    border-color: transparent;\n",
       "    border-bottom-color: var(--fill-color);\n",
       "    animation:\n",
       "      spin 1s steps(1) infinite;\n",
       "  }\n",
       "\n",
       "  @keyframes spin {\n",
       "    0% {\n",
       "      border-color: transparent;\n",
       "      border-bottom-color: var(--fill-color);\n",
       "      border-left-color: var(--fill-color);\n",
       "    }\n",
       "    20% {\n",
       "      border-color: transparent;\n",
       "      border-left-color: var(--fill-color);\n",
       "      border-top-color: var(--fill-color);\n",
       "    }\n",
       "    30% {\n",
       "      border-color: transparent;\n",
       "      border-left-color: var(--fill-color);\n",
       "      border-top-color: var(--fill-color);\n",
       "      border-right-color: var(--fill-color);\n",
       "    }\n",
       "    40% {\n",
       "      border-color: transparent;\n",
       "      border-right-color: var(--fill-color);\n",
       "      border-top-color: var(--fill-color);\n",
       "    }\n",
       "    60% {\n",
       "      border-color: transparent;\n",
       "      border-right-color: var(--fill-color);\n",
       "    }\n",
       "    80% {\n",
       "      border-color: transparent;\n",
       "      border-right-color: var(--fill-color);\n",
       "      border-bottom-color: var(--fill-color);\n",
       "    }\n",
       "    90% {\n",
       "      border-color: transparent;\n",
       "      border-bottom-color: var(--fill-color);\n",
       "    }\n",
       "  }\n",
       "</style>\n",
       "\n",
       "  <script>\n",
       "    async function quickchart(key) {\n",
       "      const quickchartButtonEl =\n",
       "        document.querySelector('#' + key + ' button');\n",
       "      quickchartButtonEl.disabled = true;  // To prevent multiple clicks.\n",
       "      quickchartButtonEl.classList.add('colab-df-spinner');\n",
       "      try {\n",
       "        const charts = await google.colab.kernel.invokeFunction(\n",
       "            'suggestCharts', [key], {});\n",
       "      } catch (error) {\n",
       "        console.error('Error during call to suggestCharts:', error);\n",
       "      }\n",
       "      quickchartButtonEl.classList.remove('colab-df-spinner');\n",
       "      quickchartButtonEl.classList.add('colab-df-quickchart-complete');\n",
       "    }\n",
       "    (() => {\n",
       "      let quickchartButtonEl =\n",
       "        document.querySelector('#df-faa51794-3b78-4bcb-b246-bd9f6e13bb51 button');\n",
       "      quickchartButtonEl.style.display =\n",
       "        google.colab.kernel.accessAllowed ? 'block' : 'none';\n",
       "    })();\n",
       "  </script>\n",
       "</div>\n",
       "\n",
       "  <div id=\"id_3260069f-9ebb-485a-9208-35e7ef94e1e6\">\n",
       "    <style>\n",
       "      .colab-df-generate {\n",
       "        background-color: #E8F0FE;\n",
       "        border: none;\n",
       "        border-radius: 50%;\n",
       "        cursor: pointer;\n",
       "        display: none;\n",
       "        fill: #1967D2;\n",
       "        height: 32px;\n",
       "        padding: 0 0 0 0;\n",
       "        width: 32px;\n",
       "      }\n",
       "\n",
       "      .colab-df-generate:hover {\n",
       "        background-color: #E2EBFA;\n",
       "        box-shadow: 0px 1px 2px rgba(60, 64, 67, 0.3), 0px 1px 3px 1px rgba(60, 64, 67, 0.15);\n",
       "        fill: #174EA6;\n",
       "      }\n",
       "\n",
       "      [theme=dark] .colab-df-generate {\n",
       "        background-color: #3B4455;\n",
       "        fill: #D2E3FC;\n",
       "      }\n",
       "\n",
       "      [theme=dark] .colab-df-generate:hover {\n",
       "        background-color: #434B5C;\n",
       "        box-shadow: 0px 1px 3px 1px rgba(0, 0, 0, 0.15);\n",
       "        filter: drop-shadow(0px 1px 2px rgba(0, 0, 0, 0.3));\n",
       "        fill: #FFFFFF;\n",
       "      }\n",
       "    </style>\n",
       "    <button class=\"colab-df-generate\" onclick=\"generateWithVariable('insurance')\"\n",
       "            title=\"Generate code using this dataframe.\"\n",
       "            style=\"display:none;\">\n",
       "\n",
       "  <svg xmlns=\"http://www.w3.org/2000/svg\" height=\"24px\"viewBox=\"0 0 24 24\"\n",
       "       width=\"24px\">\n",
       "    <path d=\"M7,19H8.4L18.45,9,17,7.55,7,17.6ZM5,21V16.75L18.45,3.32a2,2,0,0,1,2.83,0l1.4,1.43a1.91,1.91,0,0,1,.58,1.4,1.91,1.91,0,0,1-.58,1.4L9.25,21ZM18.45,9,17,7.55Zm-12,3A5.31,5.31,0,0,0,4.9,8.1,5.31,5.31,0,0,0,1,6.5,5.31,5.31,0,0,0,4.9,4.9,5.31,5.31,0,0,0,6.5,1,5.31,5.31,0,0,0,8.1,4.9,5.31,5.31,0,0,0,12,6.5,5.46,5.46,0,0,0,6.5,12Z\"/>\n",
       "  </svg>\n",
       "    </button>\n",
       "    <script>\n",
       "      (() => {\n",
       "      const buttonEl =\n",
       "        document.querySelector('#id_3260069f-9ebb-485a-9208-35e7ef94e1e6 button.colab-df-generate');\n",
       "      buttonEl.style.display =\n",
       "        google.colab.kernel.accessAllowed ? 'block' : 'none';\n",
       "\n",
       "      buttonEl.onclick = () => {\n",
       "        google.colab.notebook.generateWithVariable('insurance');\n",
       "      }\n",
       "      })();\n",
       "    </script>\n",
       "  </div>\n",
       "\n",
       "    </div>\n",
       "  </div>\n"
      ],
      "text/plain": [
       "      age     sex     bmi  children smoker     region      charges\n",
       "0      19  female  27.900         0    yes  southwest  16884.92400\n",
       "1      18    male  33.770         1     no  southeast   1725.55230\n",
       "2      28    male  33.000         3     no  southeast   4449.46200\n",
       "3      33    male  22.705         0     no  northwest  21984.47061\n",
       "4      32    male  28.880         0     no  northwest   3866.85520\n",
       "...   ...     ...     ...       ...    ...        ...          ...\n",
       "1333   50    male  30.970         3     no  northwest  10600.54830\n",
       "1334   18  female  31.920         0     no  northeast   2205.98080\n",
       "1335   18  female  36.850         0     no  southeast   1629.83350\n",
       "1336   21  female  25.800         0     no  southwest   2007.94500\n",
       "1337   61  female  29.070         0    yes  northwest  29141.36030\n",
       "\n",
       "[1338 rows x 7 columns]"
      ]
     },
     "execution_count": 81,
     "metadata": {},
     "output_type": "execute_result"
    }
   ],
   "source": [
    "# Import insurance dataset\n",
    "insurance = pd.read_csv(\"https://raw.githubusercontent.com/stedy/Machine-Learning-with-R-datasets/master/insurance.csv\")\n",
    "insurance"
   ]
  },
  {
   "cell_type": "code",
   "execution_count": 82,
   "metadata": {
    "colab": {
     "base_uri": "https://localhost:8080/",
     "height": 458
    },
    "executionInfo": {
     "elapsed": 3,
     "status": "ok",
     "timestamp": 1731038671992,
     "user": {
      "displayName": "Mark",
      "userId": "05293542057377705486"
     },
     "user_tz": 300
    },
    "id": "r-diMAApU4Kt",
    "outputId": "d7ca940a-27dc-4dd9-a3a8-90f882cd5e85"
   },
   "outputs": [
    {
     "data": {
      "text/html": [
       "<div>\n",
       "<style scoped>\n",
       "    .dataframe tbody tr th:only-of-type {\n",
       "        vertical-align: middle;\n",
       "    }\n",
       "\n",
       "    .dataframe tbody tr th {\n",
       "        vertical-align: top;\n",
       "    }\n",
       "\n",
       "    .dataframe thead th {\n",
       "        text-align: right;\n",
       "    }\n",
       "</style>\n",
       "<table border=\"1\" class=\"dataframe\">\n",
       "  <thead>\n",
       "    <tr style=\"text-align: right;\">\n",
       "      <th></th>\n",
       "      <th>sex</th>\n",
       "    </tr>\n",
       "  </thead>\n",
       "  <tbody>\n",
       "    <tr>\n",
       "      <th>0</th>\n",
       "      <td>female</td>\n",
       "    </tr>\n",
       "    <tr>\n",
       "      <th>1</th>\n",
       "      <td>male</td>\n",
       "    </tr>\n",
       "    <tr>\n",
       "      <th>2</th>\n",
       "      <td>male</td>\n",
       "    </tr>\n",
       "    <tr>\n",
       "      <th>3</th>\n",
       "      <td>male</td>\n",
       "    </tr>\n",
       "    <tr>\n",
       "      <th>4</th>\n",
       "      <td>male</td>\n",
       "    </tr>\n",
       "    <tr>\n",
       "      <th>...</th>\n",
       "      <td>...</td>\n",
       "    </tr>\n",
       "    <tr>\n",
       "      <th>1333</th>\n",
       "      <td>male</td>\n",
       "    </tr>\n",
       "    <tr>\n",
       "      <th>1334</th>\n",
       "      <td>female</td>\n",
       "    </tr>\n",
       "    <tr>\n",
       "      <th>1335</th>\n",
       "      <td>female</td>\n",
       "    </tr>\n",
       "    <tr>\n",
       "      <th>1336</th>\n",
       "      <td>female</td>\n",
       "    </tr>\n",
       "    <tr>\n",
       "      <th>1337</th>\n",
       "      <td>female</td>\n",
       "    </tr>\n",
       "  </tbody>\n",
       "</table>\n",
       "<p>1338 rows × 1 columns</p>\n",
       "</div><br><label><b>dtype:</b> object</label>"
      ],
      "text/plain": [
       "0       female\n",
       "1         male\n",
       "2         male\n",
       "3         male\n",
       "4         male\n",
       "         ...  \n",
       "1333      male\n",
       "1334    female\n",
       "1335    female\n",
       "1336    female\n",
       "1337    female\n",
       "Name: sex, Length: 1338, dtype: object"
      ]
     },
     "execution_count": 82,
     "metadata": {},
     "output_type": "execute_result"
    }
   ],
   "source": [
    "insurance[\"sex\"]"
   ]
  },
  {
   "cell_type": "code",
   "execution_count": 83,
   "metadata": {
    "colab": {
     "base_uri": "https://localhost:8080/",
     "height": 206
    },
    "executionInfo": {
     "elapsed": 120,
     "status": "ok",
     "timestamp": 1731038672110,
     "user": {
      "displayName": "Mark",
      "userId": "05293542057377705486"
     },
     "user_tz": 300
    },
    "id": "5BvfAk7jV6an",
    "outputId": "64c461e0-ae17-4522-8009-c1afeb6a4acd"
   },
   "outputs": [
    {
     "data": {
      "application/vnd.google.colaboratory.intrinsic+json": {
       "summary": "{\n  \"name\": \"insurance_one_hot\",\n  \"rows\": 1338,\n  \"fields\": [\n    {\n      \"column\": \"age\",\n      \"properties\": {\n        \"dtype\": \"number\",\n        \"std\": 14,\n        \"min\": 18,\n        \"max\": 64,\n        \"num_unique_values\": 47,\n        \"samples\": [\n          21,\n          45,\n          36\n        ],\n        \"semantic_type\": \"\",\n        \"description\": \"\"\n      }\n    },\n    {\n      \"column\": \"bmi\",\n      \"properties\": {\n        \"dtype\": \"number\",\n        \"std\": 6.098186911679017,\n        \"min\": 15.96,\n        \"max\": 53.13,\n        \"num_unique_values\": 548,\n        \"samples\": [\n          23.18,\n          26.885,\n          29.26\n        ],\n        \"semantic_type\": \"\",\n        \"description\": \"\"\n      }\n    },\n    {\n      \"column\": \"children\",\n      \"properties\": {\n        \"dtype\": \"number\",\n        \"std\": 1,\n        \"min\": 0,\n        \"max\": 5,\n        \"num_unique_values\": 6,\n        \"samples\": [\n          0,\n          1,\n          4\n        ],\n        \"semantic_type\": \"\",\n        \"description\": \"\"\n      }\n    },\n    {\n      \"column\": \"charges\",\n      \"properties\": {\n        \"dtype\": \"number\",\n        \"std\": 12110.011236693994,\n        \"min\": 1121.8739,\n        \"max\": 63770.42801,\n        \"num_unique_values\": 1337,\n        \"samples\": [\n          8688.85885,\n          5708.867,\n          11436.73815\n        ],\n        \"semantic_type\": \"\",\n        \"description\": \"\"\n      }\n    },\n    {\n      \"column\": \"sex_female\",\n      \"properties\": {\n        \"dtype\": \"boolean\",\n        \"num_unique_values\": 2,\n        \"samples\": [\n          false,\n          true\n        ],\n        \"semantic_type\": \"\",\n        \"description\": \"\"\n      }\n    },\n    {\n      \"column\": \"sex_male\",\n      \"properties\": {\n        \"dtype\": \"boolean\",\n        \"num_unique_values\": 2,\n        \"samples\": [\n          true,\n          false\n        ],\n        \"semantic_type\": \"\",\n        \"description\": \"\"\n      }\n    },\n    {\n      \"column\": \"smoker_no\",\n      \"properties\": {\n        \"dtype\": \"boolean\",\n        \"num_unique_values\": 2,\n        \"samples\": [\n          true,\n          false\n        ],\n        \"semantic_type\": \"\",\n        \"description\": \"\"\n      }\n    },\n    {\n      \"column\": \"smoker_yes\",\n      \"properties\": {\n        \"dtype\": \"boolean\",\n        \"num_unique_values\": 2,\n        \"samples\": [\n          false,\n          true\n        ],\n        \"semantic_type\": \"\",\n        \"description\": \"\"\n      }\n    },\n    {\n      \"column\": \"region_northeast\",\n      \"properties\": {\n        \"dtype\": \"boolean\",\n        \"num_unique_values\": 2,\n        \"samples\": [\n          true,\n          false\n        ],\n        \"semantic_type\": \"\",\n        \"description\": \"\"\n      }\n    },\n    {\n      \"column\": \"region_northwest\",\n      \"properties\": {\n        \"dtype\": \"boolean\",\n        \"num_unique_values\": 2,\n        \"samples\": [\n          true,\n          false\n        ],\n        \"semantic_type\": \"\",\n        \"description\": \"\"\n      }\n    },\n    {\n      \"column\": \"region_southeast\",\n      \"properties\": {\n        \"dtype\": \"boolean\",\n        \"num_unique_values\": 2,\n        \"samples\": [\n          true,\n          false\n        ],\n        \"semantic_type\": \"\",\n        \"description\": \"\"\n      }\n    },\n    {\n      \"column\": \"region_southwest\",\n      \"properties\": {\n        \"dtype\": \"boolean\",\n        \"num_unique_values\": 2,\n        \"samples\": [\n          false,\n          true\n        ],\n        \"semantic_type\": \"\",\n        \"description\": \"\"\n      }\n    }\n  ]\n}",
       "type": "dataframe",
       "variable_name": "insurance_one_hot"
      },
      "text/html": [
       "\n",
       "  <div id=\"df-a05557b4-dc1d-459e-bd71-a89ff36bdfe6\" class=\"colab-df-container\">\n",
       "    <div>\n",
       "<style scoped>\n",
       "    .dataframe tbody tr th:only-of-type {\n",
       "        vertical-align: middle;\n",
       "    }\n",
       "\n",
       "    .dataframe tbody tr th {\n",
       "        vertical-align: top;\n",
       "    }\n",
       "\n",
       "    .dataframe thead th {\n",
       "        text-align: right;\n",
       "    }\n",
       "</style>\n",
       "<table border=\"1\" class=\"dataframe\">\n",
       "  <thead>\n",
       "    <tr style=\"text-align: right;\">\n",
       "      <th></th>\n",
       "      <th>age</th>\n",
       "      <th>bmi</th>\n",
       "      <th>children</th>\n",
       "      <th>charges</th>\n",
       "      <th>sex_female</th>\n",
       "      <th>sex_male</th>\n",
       "      <th>smoker_no</th>\n",
       "      <th>smoker_yes</th>\n",
       "      <th>region_northeast</th>\n",
       "      <th>region_northwest</th>\n",
       "      <th>region_southeast</th>\n",
       "      <th>region_southwest</th>\n",
       "    </tr>\n",
       "  </thead>\n",
       "  <tbody>\n",
       "    <tr>\n",
       "      <th>0</th>\n",
       "      <td>19</td>\n",
       "      <td>27.900</td>\n",
       "      <td>0</td>\n",
       "      <td>16884.92400</td>\n",
       "      <td>True</td>\n",
       "      <td>False</td>\n",
       "      <td>False</td>\n",
       "      <td>True</td>\n",
       "      <td>False</td>\n",
       "      <td>False</td>\n",
       "      <td>False</td>\n",
       "      <td>True</td>\n",
       "    </tr>\n",
       "    <tr>\n",
       "      <th>1</th>\n",
       "      <td>18</td>\n",
       "      <td>33.770</td>\n",
       "      <td>1</td>\n",
       "      <td>1725.55230</td>\n",
       "      <td>False</td>\n",
       "      <td>True</td>\n",
       "      <td>True</td>\n",
       "      <td>False</td>\n",
       "      <td>False</td>\n",
       "      <td>False</td>\n",
       "      <td>True</td>\n",
       "      <td>False</td>\n",
       "    </tr>\n",
       "    <tr>\n",
       "      <th>2</th>\n",
       "      <td>28</td>\n",
       "      <td>33.000</td>\n",
       "      <td>3</td>\n",
       "      <td>4449.46200</td>\n",
       "      <td>False</td>\n",
       "      <td>True</td>\n",
       "      <td>True</td>\n",
       "      <td>False</td>\n",
       "      <td>False</td>\n",
       "      <td>False</td>\n",
       "      <td>True</td>\n",
       "      <td>False</td>\n",
       "    </tr>\n",
       "    <tr>\n",
       "      <th>3</th>\n",
       "      <td>33</td>\n",
       "      <td>22.705</td>\n",
       "      <td>0</td>\n",
       "      <td>21984.47061</td>\n",
       "      <td>False</td>\n",
       "      <td>True</td>\n",
       "      <td>True</td>\n",
       "      <td>False</td>\n",
       "      <td>False</td>\n",
       "      <td>True</td>\n",
       "      <td>False</td>\n",
       "      <td>False</td>\n",
       "    </tr>\n",
       "    <tr>\n",
       "      <th>4</th>\n",
       "      <td>32</td>\n",
       "      <td>28.880</td>\n",
       "      <td>0</td>\n",
       "      <td>3866.85520</td>\n",
       "      <td>False</td>\n",
       "      <td>True</td>\n",
       "      <td>True</td>\n",
       "      <td>False</td>\n",
       "      <td>False</td>\n",
       "      <td>True</td>\n",
       "      <td>False</td>\n",
       "      <td>False</td>\n",
       "    </tr>\n",
       "  </tbody>\n",
       "</table>\n",
       "</div>\n",
       "    <div class=\"colab-df-buttons\">\n",
       "\n",
       "  <div class=\"colab-df-container\">\n",
       "    <button class=\"colab-df-convert\" onclick=\"convertToInteractive('df-a05557b4-dc1d-459e-bd71-a89ff36bdfe6')\"\n",
       "            title=\"Convert this dataframe to an interactive table.\"\n",
       "            style=\"display:none;\">\n",
       "\n",
       "  <svg xmlns=\"http://www.w3.org/2000/svg\" height=\"24px\" viewBox=\"0 -960 960 960\">\n",
       "    <path d=\"M120-120v-720h720v720H120Zm60-500h600v-160H180v160Zm220 220h160v-160H400v160Zm0 220h160v-160H400v160ZM180-400h160v-160H180v160Zm440 0h160v-160H620v160ZM180-180h160v-160H180v160Zm440 0h160v-160H620v160Z\"/>\n",
       "  </svg>\n",
       "    </button>\n",
       "\n",
       "  <style>\n",
       "    .colab-df-container {\n",
       "      display:flex;\n",
       "      gap: 12px;\n",
       "    }\n",
       "\n",
       "    .colab-df-convert {\n",
       "      background-color: #E8F0FE;\n",
       "      border: none;\n",
       "      border-radius: 50%;\n",
       "      cursor: pointer;\n",
       "      display: none;\n",
       "      fill: #1967D2;\n",
       "      height: 32px;\n",
       "      padding: 0 0 0 0;\n",
       "      width: 32px;\n",
       "    }\n",
       "\n",
       "    .colab-df-convert:hover {\n",
       "      background-color: #E2EBFA;\n",
       "      box-shadow: 0px 1px 2px rgba(60, 64, 67, 0.3), 0px 1px 3px 1px rgba(60, 64, 67, 0.15);\n",
       "      fill: #174EA6;\n",
       "    }\n",
       "\n",
       "    .colab-df-buttons div {\n",
       "      margin-bottom: 4px;\n",
       "    }\n",
       "\n",
       "    [theme=dark] .colab-df-convert {\n",
       "      background-color: #3B4455;\n",
       "      fill: #D2E3FC;\n",
       "    }\n",
       "\n",
       "    [theme=dark] .colab-df-convert:hover {\n",
       "      background-color: #434B5C;\n",
       "      box-shadow: 0px 1px 3px 1px rgba(0, 0, 0, 0.15);\n",
       "      filter: drop-shadow(0px 1px 2px rgba(0, 0, 0, 0.3));\n",
       "      fill: #FFFFFF;\n",
       "    }\n",
       "  </style>\n",
       "\n",
       "    <script>\n",
       "      const buttonEl =\n",
       "        document.querySelector('#df-a05557b4-dc1d-459e-bd71-a89ff36bdfe6 button.colab-df-convert');\n",
       "      buttonEl.style.display =\n",
       "        google.colab.kernel.accessAllowed ? 'block' : 'none';\n",
       "\n",
       "      async function convertToInteractive(key) {\n",
       "        const element = document.querySelector('#df-a05557b4-dc1d-459e-bd71-a89ff36bdfe6');\n",
       "        const dataTable =\n",
       "          await google.colab.kernel.invokeFunction('convertToInteractive',\n",
       "                                                    [key], {});\n",
       "        if (!dataTable) return;\n",
       "\n",
       "        const docLinkHtml = 'Like what you see? Visit the ' +\n",
       "          '<a target=\"_blank\" href=https://colab.research.google.com/notebooks/data_table.ipynb>data table notebook</a>'\n",
       "          + ' to learn more about interactive tables.';\n",
       "        element.innerHTML = '';\n",
       "        dataTable['output_type'] = 'display_data';\n",
       "        await google.colab.output.renderOutput(dataTable, element);\n",
       "        const docLink = document.createElement('div');\n",
       "        docLink.innerHTML = docLinkHtml;\n",
       "        element.appendChild(docLink);\n",
       "      }\n",
       "    </script>\n",
       "  </div>\n",
       "\n",
       "\n",
       "<div id=\"df-bff973e2-b0f0-4bc1-94f1-407694de61aa\">\n",
       "  <button class=\"colab-df-quickchart\" onclick=\"quickchart('df-bff973e2-b0f0-4bc1-94f1-407694de61aa')\"\n",
       "            title=\"Suggest charts\"\n",
       "            style=\"display:none;\">\n",
       "\n",
       "<svg xmlns=\"http://www.w3.org/2000/svg\" height=\"24px\"viewBox=\"0 0 24 24\"\n",
       "     width=\"24px\">\n",
       "    <g>\n",
       "        <path d=\"M19 3H5c-1.1 0-2 .9-2 2v14c0 1.1.9 2 2 2h14c1.1 0 2-.9 2-2V5c0-1.1-.9-2-2-2zM9 17H7v-7h2v7zm4 0h-2V7h2v10zm4 0h-2v-4h2v4z\"/>\n",
       "    </g>\n",
       "</svg>\n",
       "  </button>\n",
       "\n",
       "<style>\n",
       "  .colab-df-quickchart {\n",
       "      --bg-color: #E8F0FE;\n",
       "      --fill-color: #1967D2;\n",
       "      --hover-bg-color: #E2EBFA;\n",
       "      --hover-fill-color: #174EA6;\n",
       "      --disabled-fill-color: #AAA;\n",
       "      --disabled-bg-color: #DDD;\n",
       "  }\n",
       "\n",
       "  [theme=dark] .colab-df-quickchart {\n",
       "      --bg-color: #3B4455;\n",
       "      --fill-color: #D2E3FC;\n",
       "      --hover-bg-color: #434B5C;\n",
       "      --hover-fill-color: #FFFFFF;\n",
       "      --disabled-bg-color: #3B4455;\n",
       "      --disabled-fill-color: #666;\n",
       "  }\n",
       "\n",
       "  .colab-df-quickchart {\n",
       "    background-color: var(--bg-color);\n",
       "    border: none;\n",
       "    border-radius: 50%;\n",
       "    cursor: pointer;\n",
       "    display: none;\n",
       "    fill: var(--fill-color);\n",
       "    height: 32px;\n",
       "    padding: 0;\n",
       "    width: 32px;\n",
       "  }\n",
       "\n",
       "  .colab-df-quickchart:hover {\n",
       "    background-color: var(--hover-bg-color);\n",
       "    box-shadow: 0 1px 2px rgba(60, 64, 67, 0.3), 0 1px 3px 1px rgba(60, 64, 67, 0.15);\n",
       "    fill: var(--button-hover-fill-color);\n",
       "  }\n",
       "\n",
       "  .colab-df-quickchart-complete:disabled,\n",
       "  .colab-df-quickchart-complete:disabled:hover {\n",
       "    background-color: var(--disabled-bg-color);\n",
       "    fill: var(--disabled-fill-color);\n",
       "    box-shadow: none;\n",
       "  }\n",
       "\n",
       "  .colab-df-spinner {\n",
       "    border: 2px solid var(--fill-color);\n",
       "    border-color: transparent;\n",
       "    border-bottom-color: var(--fill-color);\n",
       "    animation:\n",
       "      spin 1s steps(1) infinite;\n",
       "  }\n",
       "\n",
       "  @keyframes spin {\n",
       "    0% {\n",
       "      border-color: transparent;\n",
       "      border-bottom-color: var(--fill-color);\n",
       "      border-left-color: var(--fill-color);\n",
       "    }\n",
       "    20% {\n",
       "      border-color: transparent;\n",
       "      border-left-color: var(--fill-color);\n",
       "      border-top-color: var(--fill-color);\n",
       "    }\n",
       "    30% {\n",
       "      border-color: transparent;\n",
       "      border-left-color: var(--fill-color);\n",
       "      border-top-color: var(--fill-color);\n",
       "      border-right-color: var(--fill-color);\n",
       "    }\n",
       "    40% {\n",
       "      border-color: transparent;\n",
       "      border-right-color: var(--fill-color);\n",
       "      border-top-color: var(--fill-color);\n",
       "    }\n",
       "    60% {\n",
       "      border-color: transparent;\n",
       "      border-right-color: var(--fill-color);\n",
       "    }\n",
       "    80% {\n",
       "      border-color: transparent;\n",
       "      border-right-color: var(--fill-color);\n",
       "      border-bottom-color: var(--fill-color);\n",
       "    }\n",
       "    90% {\n",
       "      border-color: transparent;\n",
       "      border-bottom-color: var(--fill-color);\n",
       "    }\n",
       "  }\n",
       "</style>\n",
       "\n",
       "  <script>\n",
       "    async function quickchart(key) {\n",
       "      const quickchartButtonEl =\n",
       "        document.querySelector('#' + key + ' button');\n",
       "      quickchartButtonEl.disabled = true;  // To prevent multiple clicks.\n",
       "      quickchartButtonEl.classList.add('colab-df-spinner');\n",
       "      try {\n",
       "        const charts = await google.colab.kernel.invokeFunction(\n",
       "            'suggestCharts', [key], {});\n",
       "      } catch (error) {\n",
       "        console.error('Error during call to suggestCharts:', error);\n",
       "      }\n",
       "      quickchartButtonEl.classList.remove('colab-df-spinner');\n",
       "      quickchartButtonEl.classList.add('colab-df-quickchart-complete');\n",
       "    }\n",
       "    (() => {\n",
       "      let quickchartButtonEl =\n",
       "        document.querySelector('#df-bff973e2-b0f0-4bc1-94f1-407694de61aa button');\n",
       "      quickchartButtonEl.style.display =\n",
       "        google.colab.kernel.accessAllowed ? 'block' : 'none';\n",
       "    })();\n",
       "  </script>\n",
       "</div>\n",
       "\n",
       "    </div>\n",
       "  </div>\n"
      ],
      "text/plain": [
       "   age     bmi  children      charges  sex_female  sex_male  smoker_no  \\\n",
       "0   19  27.900         0  16884.92400        True     False      False   \n",
       "1   18  33.770         1   1725.55230       False      True       True   \n",
       "2   28  33.000         3   4449.46200       False      True       True   \n",
       "3   33  22.705         0  21984.47061       False      True       True   \n",
       "4   32  28.880         0   3866.85520       False      True       True   \n",
       "\n",
       "   smoker_yes  region_northeast  region_northwest  region_southeast  \\\n",
       "0        True             False             False             False   \n",
       "1       False             False             False              True   \n",
       "2       False             False             False              True   \n",
       "3       False             False              True             False   \n",
       "4       False             False              True             False   \n",
       "\n",
       "   region_southwest  \n",
       "0              True  \n",
       "1             False  \n",
       "2             False  \n",
       "3             False  \n",
       "4             False  "
      ]
     },
     "execution_count": 83,
     "metadata": {},
     "output_type": "execute_result"
    }
   ],
   "source": [
    "# Lets try to 1hot encode our dataframe so it is all numbers\n",
    "insurance_one_hot = pd.get_dummies(insurance)\n",
    "insurance_one_hot.head()\n"
   ]
  },
  {
   "cell_type": "code",
   "execution_count": 84,
   "metadata": {
    "executionInfo": {
     "elapsed": 3,
     "status": "ok",
     "timestamp": 1731038672110,
     "user": {
      "displayName": "Mark",
      "userId": "05293542057377705486"
     },
     "user_tz": 300
    },
    "id": "eMhpb7aYXx2v"
   },
   "outputs": [],
   "source": [
    "# Create X and y values (features and labels)\n",
    "X = insurance_one_hot.drop(\"charges\", axis=1)\n",
    "y = insurance_one_hot[\"charges\"]"
   ]
  },
  {
   "cell_type": "code",
   "execution_count": 85,
   "metadata": {
    "colab": {
     "base_uri": "https://localhost:8080/",
     "height": 206
    },
    "executionInfo": {
     "elapsed": 3,
     "status": "ok",
     "timestamp": 1731038672110,
     "user": {
      "displayName": "Mark",
      "userId": "05293542057377705486"
     },
     "user_tz": 300
    },
    "id": "7zukggBvbOd_",
    "outputId": "9f6b2049-1c23-41de-ce0f-5aa03c50e6a0"
   },
   "outputs": [
    {
     "data": {
      "application/vnd.google.colaboratory.intrinsic+json": {
       "summary": "{\n  \"name\": \"X\",\n  \"rows\": 1338,\n  \"fields\": [\n    {\n      \"column\": \"age\",\n      \"properties\": {\n        \"dtype\": \"number\",\n        \"std\": 14,\n        \"min\": 18,\n        \"max\": 64,\n        \"num_unique_values\": 47,\n        \"samples\": [\n          21,\n          45,\n          36\n        ],\n        \"semantic_type\": \"\",\n        \"description\": \"\"\n      }\n    },\n    {\n      \"column\": \"bmi\",\n      \"properties\": {\n        \"dtype\": \"number\",\n        \"std\": 6.098186911679017,\n        \"min\": 15.96,\n        \"max\": 53.13,\n        \"num_unique_values\": 548,\n        \"samples\": [\n          23.18,\n          26.885,\n          29.26\n        ],\n        \"semantic_type\": \"\",\n        \"description\": \"\"\n      }\n    },\n    {\n      \"column\": \"children\",\n      \"properties\": {\n        \"dtype\": \"number\",\n        \"std\": 1,\n        \"min\": 0,\n        \"max\": 5,\n        \"num_unique_values\": 6,\n        \"samples\": [\n          0,\n          1,\n          4\n        ],\n        \"semantic_type\": \"\",\n        \"description\": \"\"\n      }\n    },\n    {\n      \"column\": \"sex_female\",\n      \"properties\": {\n        \"dtype\": \"boolean\",\n        \"num_unique_values\": 2,\n        \"samples\": [\n          false,\n          true\n        ],\n        \"semantic_type\": \"\",\n        \"description\": \"\"\n      }\n    },\n    {\n      \"column\": \"sex_male\",\n      \"properties\": {\n        \"dtype\": \"boolean\",\n        \"num_unique_values\": 2,\n        \"samples\": [\n          true,\n          false\n        ],\n        \"semantic_type\": \"\",\n        \"description\": \"\"\n      }\n    },\n    {\n      \"column\": \"smoker_no\",\n      \"properties\": {\n        \"dtype\": \"boolean\",\n        \"num_unique_values\": 2,\n        \"samples\": [\n          true,\n          false\n        ],\n        \"semantic_type\": \"\",\n        \"description\": \"\"\n      }\n    },\n    {\n      \"column\": \"smoker_yes\",\n      \"properties\": {\n        \"dtype\": \"boolean\",\n        \"num_unique_values\": 2,\n        \"samples\": [\n          false,\n          true\n        ],\n        \"semantic_type\": \"\",\n        \"description\": \"\"\n      }\n    },\n    {\n      \"column\": \"region_northeast\",\n      \"properties\": {\n        \"dtype\": \"boolean\",\n        \"num_unique_values\": 2,\n        \"samples\": [\n          true,\n          false\n        ],\n        \"semantic_type\": \"\",\n        \"description\": \"\"\n      }\n    },\n    {\n      \"column\": \"region_northwest\",\n      \"properties\": {\n        \"dtype\": \"boolean\",\n        \"num_unique_values\": 2,\n        \"samples\": [\n          true,\n          false\n        ],\n        \"semantic_type\": \"\",\n        \"description\": \"\"\n      }\n    },\n    {\n      \"column\": \"region_southeast\",\n      \"properties\": {\n        \"dtype\": \"boolean\",\n        \"num_unique_values\": 2,\n        \"samples\": [\n          true,\n          false\n        ],\n        \"semantic_type\": \"\",\n        \"description\": \"\"\n      }\n    },\n    {\n      \"column\": \"region_southwest\",\n      \"properties\": {\n        \"dtype\": \"boolean\",\n        \"num_unique_values\": 2,\n        \"samples\": [\n          false,\n          true\n        ],\n        \"semantic_type\": \"\",\n        \"description\": \"\"\n      }\n    }\n  ]\n}",
       "type": "dataframe",
       "variable_name": "X"
      },
      "text/html": [
       "\n",
       "  <div id=\"df-18ae6266-ad86-4068-98f5-77ee1169873e\" class=\"colab-df-container\">\n",
       "    <div>\n",
       "<style scoped>\n",
       "    .dataframe tbody tr th:only-of-type {\n",
       "        vertical-align: middle;\n",
       "    }\n",
       "\n",
       "    .dataframe tbody tr th {\n",
       "        vertical-align: top;\n",
       "    }\n",
       "\n",
       "    .dataframe thead th {\n",
       "        text-align: right;\n",
       "    }\n",
       "</style>\n",
       "<table border=\"1\" class=\"dataframe\">\n",
       "  <thead>\n",
       "    <tr style=\"text-align: right;\">\n",
       "      <th></th>\n",
       "      <th>age</th>\n",
       "      <th>bmi</th>\n",
       "      <th>children</th>\n",
       "      <th>sex_female</th>\n",
       "      <th>sex_male</th>\n",
       "      <th>smoker_no</th>\n",
       "      <th>smoker_yes</th>\n",
       "      <th>region_northeast</th>\n",
       "      <th>region_northwest</th>\n",
       "      <th>region_southeast</th>\n",
       "      <th>region_southwest</th>\n",
       "    </tr>\n",
       "  </thead>\n",
       "  <tbody>\n",
       "    <tr>\n",
       "      <th>0</th>\n",
       "      <td>19</td>\n",
       "      <td>27.900</td>\n",
       "      <td>0</td>\n",
       "      <td>True</td>\n",
       "      <td>False</td>\n",
       "      <td>False</td>\n",
       "      <td>True</td>\n",
       "      <td>False</td>\n",
       "      <td>False</td>\n",
       "      <td>False</td>\n",
       "      <td>True</td>\n",
       "    </tr>\n",
       "    <tr>\n",
       "      <th>1</th>\n",
       "      <td>18</td>\n",
       "      <td>33.770</td>\n",
       "      <td>1</td>\n",
       "      <td>False</td>\n",
       "      <td>True</td>\n",
       "      <td>True</td>\n",
       "      <td>False</td>\n",
       "      <td>False</td>\n",
       "      <td>False</td>\n",
       "      <td>True</td>\n",
       "      <td>False</td>\n",
       "    </tr>\n",
       "    <tr>\n",
       "      <th>2</th>\n",
       "      <td>28</td>\n",
       "      <td>33.000</td>\n",
       "      <td>3</td>\n",
       "      <td>False</td>\n",
       "      <td>True</td>\n",
       "      <td>True</td>\n",
       "      <td>False</td>\n",
       "      <td>False</td>\n",
       "      <td>False</td>\n",
       "      <td>True</td>\n",
       "      <td>False</td>\n",
       "    </tr>\n",
       "    <tr>\n",
       "      <th>3</th>\n",
       "      <td>33</td>\n",
       "      <td>22.705</td>\n",
       "      <td>0</td>\n",
       "      <td>False</td>\n",
       "      <td>True</td>\n",
       "      <td>True</td>\n",
       "      <td>False</td>\n",
       "      <td>False</td>\n",
       "      <td>True</td>\n",
       "      <td>False</td>\n",
       "      <td>False</td>\n",
       "    </tr>\n",
       "    <tr>\n",
       "      <th>4</th>\n",
       "      <td>32</td>\n",
       "      <td>28.880</td>\n",
       "      <td>0</td>\n",
       "      <td>False</td>\n",
       "      <td>True</td>\n",
       "      <td>True</td>\n",
       "      <td>False</td>\n",
       "      <td>False</td>\n",
       "      <td>True</td>\n",
       "      <td>False</td>\n",
       "      <td>False</td>\n",
       "    </tr>\n",
       "  </tbody>\n",
       "</table>\n",
       "</div>\n",
       "    <div class=\"colab-df-buttons\">\n",
       "\n",
       "  <div class=\"colab-df-container\">\n",
       "    <button class=\"colab-df-convert\" onclick=\"convertToInteractive('df-18ae6266-ad86-4068-98f5-77ee1169873e')\"\n",
       "            title=\"Convert this dataframe to an interactive table.\"\n",
       "            style=\"display:none;\">\n",
       "\n",
       "  <svg xmlns=\"http://www.w3.org/2000/svg\" height=\"24px\" viewBox=\"0 -960 960 960\">\n",
       "    <path d=\"M120-120v-720h720v720H120Zm60-500h600v-160H180v160Zm220 220h160v-160H400v160Zm0 220h160v-160H400v160ZM180-400h160v-160H180v160Zm440 0h160v-160H620v160ZM180-180h160v-160H180v160Zm440 0h160v-160H620v160Z\"/>\n",
       "  </svg>\n",
       "    </button>\n",
       "\n",
       "  <style>\n",
       "    .colab-df-container {\n",
       "      display:flex;\n",
       "      gap: 12px;\n",
       "    }\n",
       "\n",
       "    .colab-df-convert {\n",
       "      background-color: #E8F0FE;\n",
       "      border: none;\n",
       "      border-radius: 50%;\n",
       "      cursor: pointer;\n",
       "      display: none;\n",
       "      fill: #1967D2;\n",
       "      height: 32px;\n",
       "      padding: 0 0 0 0;\n",
       "      width: 32px;\n",
       "    }\n",
       "\n",
       "    .colab-df-convert:hover {\n",
       "      background-color: #E2EBFA;\n",
       "      box-shadow: 0px 1px 2px rgba(60, 64, 67, 0.3), 0px 1px 3px 1px rgba(60, 64, 67, 0.15);\n",
       "      fill: #174EA6;\n",
       "    }\n",
       "\n",
       "    .colab-df-buttons div {\n",
       "      margin-bottom: 4px;\n",
       "    }\n",
       "\n",
       "    [theme=dark] .colab-df-convert {\n",
       "      background-color: #3B4455;\n",
       "      fill: #D2E3FC;\n",
       "    }\n",
       "\n",
       "    [theme=dark] .colab-df-convert:hover {\n",
       "      background-color: #434B5C;\n",
       "      box-shadow: 0px 1px 3px 1px rgba(0, 0, 0, 0.15);\n",
       "      filter: drop-shadow(0px 1px 2px rgba(0, 0, 0, 0.3));\n",
       "      fill: #FFFFFF;\n",
       "    }\n",
       "  </style>\n",
       "\n",
       "    <script>\n",
       "      const buttonEl =\n",
       "        document.querySelector('#df-18ae6266-ad86-4068-98f5-77ee1169873e button.colab-df-convert');\n",
       "      buttonEl.style.display =\n",
       "        google.colab.kernel.accessAllowed ? 'block' : 'none';\n",
       "\n",
       "      async function convertToInteractive(key) {\n",
       "        const element = document.querySelector('#df-18ae6266-ad86-4068-98f5-77ee1169873e');\n",
       "        const dataTable =\n",
       "          await google.colab.kernel.invokeFunction('convertToInteractive',\n",
       "                                                    [key], {});\n",
       "        if (!dataTable) return;\n",
       "\n",
       "        const docLinkHtml = 'Like what you see? Visit the ' +\n",
       "          '<a target=\"_blank\" href=https://colab.research.google.com/notebooks/data_table.ipynb>data table notebook</a>'\n",
       "          + ' to learn more about interactive tables.';\n",
       "        element.innerHTML = '';\n",
       "        dataTable['output_type'] = 'display_data';\n",
       "        await google.colab.output.renderOutput(dataTable, element);\n",
       "        const docLink = document.createElement('div');\n",
       "        docLink.innerHTML = docLinkHtml;\n",
       "        element.appendChild(docLink);\n",
       "      }\n",
       "    </script>\n",
       "  </div>\n",
       "\n",
       "\n",
       "<div id=\"df-6bf5415a-d203-49c2-b91e-5bee413314d6\">\n",
       "  <button class=\"colab-df-quickchart\" onclick=\"quickchart('df-6bf5415a-d203-49c2-b91e-5bee413314d6')\"\n",
       "            title=\"Suggest charts\"\n",
       "            style=\"display:none;\">\n",
       "\n",
       "<svg xmlns=\"http://www.w3.org/2000/svg\" height=\"24px\"viewBox=\"0 0 24 24\"\n",
       "     width=\"24px\">\n",
       "    <g>\n",
       "        <path d=\"M19 3H5c-1.1 0-2 .9-2 2v14c0 1.1.9 2 2 2h14c1.1 0 2-.9 2-2V5c0-1.1-.9-2-2-2zM9 17H7v-7h2v7zm4 0h-2V7h2v10zm4 0h-2v-4h2v4z\"/>\n",
       "    </g>\n",
       "</svg>\n",
       "  </button>\n",
       "\n",
       "<style>\n",
       "  .colab-df-quickchart {\n",
       "      --bg-color: #E8F0FE;\n",
       "      --fill-color: #1967D2;\n",
       "      --hover-bg-color: #E2EBFA;\n",
       "      --hover-fill-color: #174EA6;\n",
       "      --disabled-fill-color: #AAA;\n",
       "      --disabled-bg-color: #DDD;\n",
       "  }\n",
       "\n",
       "  [theme=dark] .colab-df-quickchart {\n",
       "      --bg-color: #3B4455;\n",
       "      --fill-color: #D2E3FC;\n",
       "      --hover-bg-color: #434B5C;\n",
       "      --hover-fill-color: #FFFFFF;\n",
       "      --disabled-bg-color: #3B4455;\n",
       "      --disabled-fill-color: #666;\n",
       "  }\n",
       "\n",
       "  .colab-df-quickchart {\n",
       "    background-color: var(--bg-color);\n",
       "    border: none;\n",
       "    border-radius: 50%;\n",
       "    cursor: pointer;\n",
       "    display: none;\n",
       "    fill: var(--fill-color);\n",
       "    height: 32px;\n",
       "    padding: 0;\n",
       "    width: 32px;\n",
       "  }\n",
       "\n",
       "  .colab-df-quickchart:hover {\n",
       "    background-color: var(--hover-bg-color);\n",
       "    box-shadow: 0 1px 2px rgba(60, 64, 67, 0.3), 0 1px 3px 1px rgba(60, 64, 67, 0.15);\n",
       "    fill: var(--button-hover-fill-color);\n",
       "  }\n",
       "\n",
       "  .colab-df-quickchart-complete:disabled,\n",
       "  .colab-df-quickchart-complete:disabled:hover {\n",
       "    background-color: var(--disabled-bg-color);\n",
       "    fill: var(--disabled-fill-color);\n",
       "    box-shadow: none;\n",
       "  }\n",
       "\n",
       "  .colab-df-spinner {\n",
       "    border: 2px solid var(--fill-color);\n",
       "    border-color: transparent;\n",
       "    border-bottom-color: var(--fill-color);\n",
       "    animation:\n",
       "      spin 1s steps(1) infinite;\n",
       "  }\n",
       "\n",
       "  @keyframes spin {\n",
       "    0% {\n",
       "      border-color: transparent;\n",
       "      border-bottom-color: var(--fill-color);\n",
       "      border-left-color: var(--fill-color);\n",
       "    }\n",
       "    20% {\n",
       "      border-color: transparent;\n",
       "      border-left-color: var(--fill-color);\n",
       "      border-top-color: var(--fill-color);\n",
       "    }\n",
       "    30% {\n",
       "      border-color: transparent;\n",
       "      border-left-color: var(--fill-color);\n",
       "      border-top-color: var(--fill-color);\n",
       "      border-right-color: var(--fill-color);\n",
       "    }\n",
       "    40% {\n",
       "      border-color: transparent;\n",
       "      border-right-color: var(--fill-color);\n",
       "      border-top-color: var(--fill-color);\n",
       "    }\n",
       "    60% {\n",
       "      border-color: transparent;\n",
       "      border-right-color: var(--fill-color);\n",
       "    }\n",
       "    80% {\n",
       "      border-color: transparent;\n",
       "      border-right-color: var(--fill-color);\n",
       "      border-bottom-color: var(--fill-color);\n",
       "    }\n",
       "    90% {\n",
       "      border-color: transparent;\n",
       "      border-bottom-color: var(--fill-color);\n",
       "    }\n",
       "  }\n",
       "</style>\n",
       "\n",
       "  <script>\n",
       "    async function quickchart(key) {\n",
       "      const quickchartButtonEl =\n",
       "        document.querySelector('#' + key + ' button');\n",
       "      quickchartButtonEl.disabled = true;  // To prevent multiple clicks.\n",
       "      quickchartButtonEl.classList.add('colab-df-spinner');\n",
       "      try {\n",
       "        const charts = await google.colab.kernel.invokeFunction(\n",
       "            'suggestCharts', [key], {});\n",
       "      } catch (error) {\n",
       "        console.error('Error during call to suggestCharts:', error);\n",
       "      }\n",
       "      quickchartButtonEl.classList.remove('colab-df-spinner');\n",
       "      quickchartButtonEl.classList.add('colab-df-quickchart-complete');\n",
       "    }\n",
       "    (() => {\n",
       "      let quickchartButtonEl =\n",
       "        document.querySelector('#df-6bf5415a-d203-49c2-b91e-5bee413314d6 button');\n",
       "      quickchartButtonEl.style.display =\n",
       "        google.colab.kernel.accessAllowed ? 'block' : 'none';\n",
       "    })();\n",
       "  </script>\n",
       "</div>\n",
       "\n",
       "    </div>\n",
       "  </div>\n"
      ],
      "text/plain": [
       "   age     bmi  children  sex_female  sex_male  smoker_no  smoker_yes  \\\n",
       "0   19  27.900         0        True     False      False        True   \n",
       "1   18  33.770         1       False      True       True       False   \n",
       "2   28  33.000         3       False      True       True       False   \n",
       "3   33  22.705         0       False      True       True       False   \n",
       "4   32  28.880         0       False      True       True       False   \n",
       "\n",
       "   region_northeast  region_northwest  region_southeast  region_southwest  \n",
       "0             False             False             False              True  \n",
       "1             False             False              True             False  \n",
       "2             False             False              True             False  \n",
       "3             False              True             False             False  \n",
       "4             False              True             False             False  "
      ]
     },
     "execution_count": 85,
     "metadata": {},
     "output_type": "execute_result"
    }
   ],
   "source": [
    "#lets view X\n",
    "X.head()"
   ]
  },
  {
   "cell_type": "code",
   "execution_count": 86,
   "metadata": {
    "colab": {
     "base_uri": "https://localhost:8080/",
     "height": 241
    },
    "executionInfo": {
     "elapsed": 91,
     "status": "ok",
     "timestamp": 1731038672198,
     "user": {
      "displayName": "Mark",
      "userId": "05293542057377705486"
     },
     "user_tz": 300
    },
    "id": "y9_XUq6QbWPw",
    "outputId": "6be5fee7-6805-48a7-8984-b4039d73c8f9"
   },
   "outputs": [
    {
     "data": {
      "text/html": [
       "<div>\n",
       "<style scoped>\n",
       "    .dataframe tbody tr th:only-of-type {\n",
       "        vertical-align: middle;\n",
       "    }\n",
       "\n",
       "    .dataframe tbody tr th {\n",
       "        vertical-align: top;\n",
       "    }\n",
       "\n",
       "    .dataframe thead th {\n",
       "        text-align: right;\n",
       "    }\n",
       "</style>\n",
       "<table border=\"1\" class=\"dataframe\">\n",
       "  <thead>\n",
       "    <tr style=\"text-align: right;\">\n",
       "      <th></th>\n",
       "      <th>charges</th>\n",
       "    </tr>\n",
       "  </thead>\n",
       "  <tbody>\n",
       "    <tr>\n",
       "      <th>0</th>\n",
       "      <td>16884.92400</td>\n",
       "    </tr>\n",
       "    <tr>\n",
       "      <th>1</th>\n",
       "      <td>1725.55230</td>\n",
       "    </tr>\n",
       "    <tr>\n",
       "      <th>2</th>\n",
       "      <td>4449.46200</td>\n",
       "    </tr>\n",
       "    <tr>\n",
       "      <th>3</th>\n",
       "      <td>21984.47061</td>\n",
       "    </tr>\n",
       "    <tr>\n",
       "      <th>4</th>\n",
       "      <td>3866.85520</td>\n",
       "    </tr>\n",
       "  </tbody>\n",
       "</table>\n",
       "</div><br><label><b>dtype:</b> float64</label>"
      ],
      "text/plain": [
       "0    16884.92400\n",
       "1     1725.55230\n",
       "2     4449.46200\n",
       "3    21984.47061\n",
       "4     3866.85520\n",
       "Name: charges, dtype: float64"
      ]
     },
     "execution_count": 86,
     "metadata": {},
     "output_type": "execute_result"
    }
   ],
   "source": [
    "#let's view y\n",
    "y.head()\n"
   ]
  },
  {
   "cell_type": "code",
   "execution_count": 87,
   "metadata": {
    "colab": {
     "base_uri": "https://localhost:8080/"
    },
    "executionInfo": {
     "elapsed": 2638,
     "status": "ok",
     "timestamp": 1731038674835,
     "user": {
      "displayName": "Mark",
      "userId": "05293542057377705486"
     },
     "user_tz": 300
    },
    "id": "vRNlXyllaOia",
    "outputId": "b6096826-9024-4ce5-edf9-989baf696fed"
   },
   "outputs": [
    {
     "data": {
      "text/plain": [
       "(1338, 1070, 1338, 1070)"
      ]
     },
     "execution_count": 87,
     "metadata": {},
     "output_type": "execute_result"
    }
   ],
   "source": [
    "# Create training and test sets\n",
    "from sklearn.model_selection import train_test_split\n",
    "X_train, X_test, y_train, y_test = train_test_split(X, y, test_size=0.2, random_state=42)\n",
    "len(X), len(X_train), len(y), len(y_train)"
   ]
  },
  {
   "cell_type": "code",
   "execution_count": 88,
   "metadata": {
    "colab": {
     "base_uri": "https://localhost:8080/",
     "height": 495
    },
    "executionInfo": {
     "elapsed": 458,
     "status": "error",
     "timestamp": 1731038675291,
     "user": {
      "displayName": "Mark",
      "userId": "05293542057377705486"
     },
     "user_tz": 300
    },
    "id": "hwYhuRUCaPYM",
    "outputId": "0fbe2343-2a70-4f5a-ed99-5e9c1f73c3ae"
   },
   "outputs": [
    {
     "name": "stderr",
     "output_type": "stream",
     "text": [
      "WARNING:absl:`lr` is deprecated in Keras optimizer, please use `learning_rate` or use the legacy optimizer, e.g.,tf.keras.optimizers.legacy.Adam.\n"
     ]
    },
    {
     "ename": "ValueError",
     "evalue": "Failed to convert a NumPy array to a Tensor (Unsupported object type int).",
     "output_type": "error",
     "traceback": [
      "\u001b[0;31m---------------------------------------------------------------------------\u001b[0m",
      "\u001b[0;31mValueError\u001b[0m                                Traceback (most recent call last)",
      "\u001b[0;32m<ipython-input-88-be9140a1b9cb>\u001b[0m in \u001b[0;36m<cell line: 17>\u001b[0;34m()\u001b[0m\n\u001b[1;32m     15\u001b[0m \u001b[0;34m\u001b[0m\u001b[0m\n\u001b[1;32m     16\u001b[0m \u001b[0;31m#. Fit the model\u001b[0m\u001b[0;34m\u001b[0m\u001b[0;34m\u001b[0m\u001b[0m\n\u001b[0;32m---> 17\u001b[0;31m \u001b[0minsurance_model\u001b[0m\u001b[0;34m.\u001b[0m\u001b[0mfit\u001b[0m\u001b[0;34m(\u001b[0m\u001b[0mX_train\u001b[0m\u001b[0;34m,\u001b[0m \u001b[0my_train\u001b[0m\u001b[0;34m,\u001b[0m \u001b[0mepochs\u001b[0m\u001b[0;34m=\u001b[0m\u001b[0;36m100\u001b[0m\u001b[0;34m)\u001b[0m\u001b[0;34m\u001b[0m\u001b[0;34m\u001b[0m\u001b[0m\n\u001b[0m\u001b[1;32m     18\u001b[0m \u001b[0;34m\u001b[0m\u001b[0m\n\u001b[1;32m     19\u001b[0m \u001b[0;34m\u001b[0m\u001b[0m\n",
      "\u001b[0;32m/usr/local/lib/python3.10/dist-packages/keras/src/utils/traceback_utils.py\u001b[0m in \u001b[0;36merror_handler\u001b[0;34m(*args, **kwargs)\u001b[0m\n\u001b[1;32m     68\u001b[0m             \u001b[0;31m# To get the full stack trace, call:\u001b[0m\u001b[0;34m\u001b[0m\u001b[0;34m\u001b[0m\u001b[0m\n\u001b[1;32m     69\u001b[0m             \u001b[0;31m# `tf.debugging.disable_traceback_filtering()`\u001b[0m\u001b[0;34m\u001b[0m\u001b[0;34m\u001b[0m\u001b[0m\n\u001b[0;32m---> 70\u001b[0;31m             \u001b[0;32mraise\u001b[0m \u001b[0me\u001b[0m\u001b[0;34m.\u001b[0m\u001b[0mwith_traceback\u001b[0m\u001b[0;34m(\u001b[0m\u001b[0mfiltered_tb\u001b[0m\u001b[0;34m)\u001b[0m \u001b[0;32mfrom\u001b[0m \u001b[0;32mNone\u001b[0m\u001b[0;34m\u001b[0m\u001b[0;34m\u001b[0m\u001b[0m\n\u001b[0m\u001b[1;32m     71\u001b[0m         \u001b[0;32mfinally\u001b[0m\u001b[0;34m:\u001b[0m\u001b[0;34m\u001b[0m\u001b[0;34m\u001b[0m\u001b[0m\n\u001b[1;32m     72\u001b[0m             \u001b[0;32mdel\u001b[0m \u001b[0mfiltered_tb\u001b[0m\u001b[0;34m\u001b[0m\u001b[0;34m\u001b[0m\u001b[0m\n",
      "\u001b[0;32m/usr/local/lib/python3.10/dist-packages/tensorflow/python/framework/constant_op.py\u001b[0m in \u001b[0;36mconvert_to_eager_tensor\u001b[0;34m(value, ctx, dtype)\u001b[0m\n\u001b[1;32m    101\u001b[0m       \u001b[0mdtype\u001b[0m \u001b[0;34m=\u001b[0m \u001b[0mdtypes\u001b[0m\u001b[0;34m.\u001b[0m\u001b[0mas_dtype\u001b[0m\u001b[0;34m(\u001b[0m\u001b[0mdtype\u001b[0m\u001b[0;34m)\u001b[0m\u001b[0;34m.\u001b[0m\u001b[0mas_datatype_enum\u001b[0m\u001b[0;34m\u001b[0m\u001b[0;34m\u001b[0m\u001b[0m\n\u001b[1;32m    102\u001b[0m   \u001b[0mctx\u001b[0m\u001b[0;34m.\u001b[0m\u001b[0mensure_initialized\u001b[0m\u001b[0;34m(\u001b[0m\u001b[0;34m)\u001b[0m\u001b[0;34m\u001b[0m\u001b[0;34m\u001b[0m\u001b[0m\n\u001b[0;32m--> 103\u001b[0;31m   \u001b[0;32mreturn\u001b[0m \u001b[0mops\u001b[0m\u001b[0;34m.\u001b[0m\u001b[0mEagerTensor\u001b[0m\u001b[0;34m(\u001b[0m\u001b[0mvalue\u001b[0m\u001b[0;34m,\u001b[0m \u001b[0mctx\u001b[0m\u001b[0;34m.\u001b[0m\u001b[0mdevice_name\u001b[0m\u001b[0;34m,\u001b[0m \u001b[0mdtype\u001b[0m\u001b[0;34m)\u001b[0m\u001b[0;34m\u001b[0m\u001b[0;34m\u001b[0m\u001b[0m\n\u001b[0m\u001b[1;32m    104\u001b[0m \u001b[0;34m\u001b[0m\u001b[0m\n\u001b[1;32m    105\u001b[0m \u001b[0;34m\u001b[0m\u001b[0m\n",
      "\u001b[0;31mValueError\u001b[0m: Failed to convert a NumPy array to a Tensor (Unsupported object type int)."
     ]
    }
   ],
   "source": [
    "# Build a neural network (sort of like model_2 above)\n",
    "tf.random.set_seed(42)\n",
    "\n",
    "#1. Create a model\n",
    "insurance_model = tf.keras.Sequential([\n",
    "    tf.keras.layers.Dense(100),\n",
    "    tf.keras.layers.Dense(1)\n",
    "])\n",
    "\n",
    "\n",
    "#2. Compile model\n",
    "insurance_model.compile(loss=tf.keras.losses.mae,\n",
    "                        optimizer=tf.keras.optimizers.Adam(lr=0.2),\n",
    "                        metrics=[\"mae\"])\n",
    "\n",
    "#. Fit the model\n",
    "insurance_model.fit(X_train, y_train, epochs=100)\n",
    "\n",
    "\n"
   ]
  },
  {
   "cell_type": "code",
   "execution_count": null,
   "metadata": {
    "executionInfo": {
     "elapsed": 1,
     "status": "aborted",
     "timestamp": 1731038675291,
     "user": {
      "displayName": "Mark",
      "userId": "05293542057377705486"
     },
     "user_tz": 300
    },
    "id": "rD4QO8VfsCfq"
   },
   "outputs": [],
   "source": [
    "# Check teh results of the insurance model on the test data\n",
    "insurance_model.evaluate(X_test, y_test)"
   ]
  },
  {
   "cell_type": "code",
   "execution_count": null,
   "metadata": {
    "executionInfo": {
     "elapsed": 2,
     "status": "aborted",
     "timestamp": 1731038675292,
     "user": {
      "displayName": "Mark",
      "userId": "05293542057377705486"
     },
     "user_tz": 300
    },
    "id": "vusOX5PhsnQD"
   },
   "outputs": [],
   "source": [
    "y_train.median(), y_train.mean()"
   ]
  },
  {
   "cell_type": "markdown",
   "metadata": {
    "id": "kqyg2LcPtLga"
   },
   "source": [
    "Right now it looks like our model isn't performing too well.  Let's try to improve it.\n",
    "\n",
    "To try and improve our model let's do 2 experiments.\n",
    "1. Add an extra layer with more hidden units and use the Adam optimizer\n",
    "2. Train for longer\n",
    "3. Insert your own experiment here\n"
   ]
  },
  {
   "cell_type": "code",
   "execution_count": null,
   "metadata": {
    "executionInfo": {
     "elapsed": 2,
     "status": "aborted",
     "timestamp": 1731038675292,
     "user": {
      "displayName": "Mark",
      "userId": "05293542057377705486"
     },
     "user_tz": 300
    },
    "id": "UfsT_kgdyDFE"
   },
   "outputs": [],
   "source": [
    "#set random seed\n",
    "tf.random.set_seed(42)\n",
    "\n",
    "#Create the model\n",
    "insurance_model_2 = tf.keras.Sequential([\n",
    "    tf.keras.layers.Dense(100),\n",
    "    tf.keras.layers.Dense(10),\n",
    "    tf.keras.layers.Dense(1)\n",
    "])\n",
    "\n",
    "#Compile the model\n",
    "insurance_model_2.compile(loss=tf.keras.losses.mae,\n",
    "                          optimizer=tf.keras.optimizers.Adam(),\n",
    "                          metrics=[\"mae\"])\n",
    "\n",
    "#Fit the model\n",
    "insurance_model_2.fit(X_train,y_train,epochs=100,verbose=1)"
   ]
  },
  {
   "cell_type": "code",
   "execution_count": null,
   "metadata": {
    "executionInfo": {
     "elapsed": 2,
     "status": "aborted",
     "timestamp": 1731038675292,
     "user": {
      "displayName": "Mark",
      "userId": "05293542057377705486"
     },
     "user_tz": 300
    },
    "id": "VOo868AFy-p2"
   },
   "outputs": [],
   "source": [
    "#Evaluate the larger model\n",
    "insurance_model_2.evaluate(X_test, y_test, )"
   ]
  },
  {
   "cell_type": "code",
   "execution_count": null,
   "metadata": {
    "executionInfo": {
     "elapsed": 2,
     "status": "aborted",
     "timestamp": 1731038675292,
     "user": {
      "displayName": "Mark",
      "userId": "05293542057377705486"
     },
     "user_tz": 300
    },
    "id": "UCmMUkhWzs_q"
   },
   "outputs": [],
   "source": [
    "insurance_model.evaluate(X_test,y_test)"
   ]
  },
  {
   "cell_type": "code",
   "execution_count": null,
   "metadata": {
    "executionInfo": {
     "elapsed": 2,
     "status": "aborted",
     "timestamp": 1731038675292,
     "user": {
      "displayName": "Mark",
      "userId": "05293542057377705486"
     },
     "user_tz": 300
    },
    "id": "l8XOI8FY0BFv"
   },
   "outputs": [],
   "source": [
    "#Set random seed\n",
    "tf.random.set_seed(42)\n",
    "\n",
    "#Create the model\n",
    "insurance_model_3 = tf.keras.Sequential([\n",
    "    tf.keras.layers.Dense(100),\n",
    "    tf.keras.layers.Dense(10),\n",
    "    tf.keras.layers.Dense(1)\n",
    "])\n",
    "\n",
    "#Compile the model\n",
    "insurance_model_3.compile(loss=tf.keras.losses.mae,\n",
    "                          optimizer=tf.keras.optimizers.Adam(),\n",
    "                          metrics=[\"mae\"])\n",
    "\n",
    "#fit the model\n",
    "history = insurance_model_3.fit(X_train, y_train, epochs=200, verbose=1)"
   ]
  },
  {
   "cell_type": "code",
   "execution_count": null,
   "metadata": {
    "executionInfo": {
     "elapsed": 2,
     "status": "aborted",
     "timestamp": 1731038675292,
     "user": {
      "displayName": "Mark",
      "userId": "05293542057377705486"
     },
     "user_tz": 300
    },
    "id": "dDXzGBj60xfu"
   },
   "outputs": [],
   "source": [
    "#Evaluate our third model\n",
    "insurance_model_3.evaluate(X_test, y_test)"
   ]
  },
  {
   "cell_type": "code",
   "execution_count": null,
   "metadata": {
    "executionInfo": {
     "elapsed": 2,
     "status": "aborted",
     "timestamp": 1731038675292,
     "user": {
      "displayName": "Mark",
      "userId": "05293542057377705486"
     },
     "user_tz": 300
    },
    "id": "ORIq42Aw1BN4"
   },
   "outputs": [],
   "source": [
    "insurance_model.evaluate(X_test, y_test)"
   ]
  },
  {
   "cell_type": "code",
   "execution_count": null,
   "metadata": {
    "executionInfo": {
     "elapsed": 2,
     "status": "aborted",
     "timestamp": 1731038675292,
     "user": {
      "displayName": "Mark",
      "userId": "05293542057377705486"
     },
     "user_tz": 300
    },
    "id": "aH6zI1Cb1Xv3"
   },
   "outputs": [],
   "source": [
    "#Plot history (aka loss curve or training curve)\n",
    "pd.DataFrame(history.history).plot()\n",
    "plt.ylabel(\"loss\")\n",
    "plt.xlabel(\"epochs\")"
   ]
  },
  {
   "cell_type": "markdown",
   "metadata": {
    "id": "Hbe6Prwn2OOG"
   },
   "source": [
    "** Question: How long should you train for?\n",
    "It depends.  Really it depends on the problem you are working on.\n",
    "Many people have asked this question before.  TensorFlor has an answer:\n",
    "The \"EarlyStopping Callback\"... a TF component you can add to your model to stop training once it stops improving a certain metric"
   ]
  },
  {
   "cell_type": "markdown",
   "metadata": {
    "id": "5HYnh0ID24tE"
   },
   "source": [
    "## Preprocesing data (normalization and standardization)\n",
    "\n",
    "In terms of scaling values, neural networks tend to prefer normalization.  \n",
    "\n",
    "If you're not sure on which to use, you could try both and see which performs better."
   ]
  },
  {
   "cell_type": "code",
   "execution_count": null,
   "metadata": {
    "executionInfo": {
     "elapsed": 2,
     "status": "aborted",
     "timestamp": 1731038675292,
     "user": {
      "displayName": "Mark",
      "userId": "05293542057377705486"
     },
     "user_tz": 300
    },
    "id": "hgRs1iR5AhYw"
   },
   "outputs": [],
   "source": [
    "import pandas as pd\n",
    "import matplotlib.pyplot as plt\n",
    "import tensorflow as tf\n",
    "\n",
    "#read in the insurance dataframe\n",
    "insurance = pd.read_csv(\"https://raw.githubusercontent.com/stedy/Machine-Learning-with-R-datasets/master/insurance.csv\")\n",
    "insurance"
   ]
  },
  {
   "cell_type": "code",
   "execution_count": null,
   "metadata": {
    "executionInfo": {
     "elapsed": 2,
     "status": "aborted",
     "timestamp": 1731038675292,
     "user": {
      "displayName": "Mark",
      "userId": "05293542057377705486"
     },
     "user_tz": 300
    },
    "id": "3ITbVwgi3BPF"
   },
   "outputs": [],
   "source": [
    "X_train, y_train"
   ]
  },
  {
   "cell_type": "code",
   "execution_count": null,
   "metadata": {
    "executionInfo": {
     "elapsed": 3,
     "status": "aborted",
     "timestamp": 1731038675293,
     "user": {
      "displayName": "Mark",
      "userId": "05293542057377705486"
     },
     "user_tz": 300
    },
    "id": "InHgT-uc-VDP"
   },
   "outputs": [],
   "source": [
    "X"
   ]
  },
  {
   "cell_type": "code",
   "execution_count": null,
   "metadata": {
    "executionInfo": {
     "elapsed": 3,
     "status": "aborted",
     "timestamp": 1731038675293,
     "user": {
      "displayName": "Mark",
      "userId": "05293542057377705486"
     },
     "user_tz": 300
    },
    "id": "ZQHZMMqu_CF-"
   },
   "outputs": [],
   "source": [
    "X[\"age\"].plot(kind=\"hist\")"
   ]
  },
  {
   "cell_type": "code",
   "execution_count": null,
   "metadata": {
    "executionInfo": {
     "elapsed": 3,
     "status": "aborted",
     "timestamp": 1731038675293,
     "user": {
      "displayName": "Mark",
      "userId": "05293542057377705486"
     },
     "user_tz": 300
    },
    "id": "LFKUZVPe_PP8"
   },
   "outputs": [],
   "source": [
    "X[\"bmi\"].plot(kind=\"hist\")"
   ]
  },
  {
   "cell_type": "code",
   "execution_count": null,
   "metadata": {
    "executionInfo": {
     "elapsed": 73014,
     "status": "aborted",
     "timestamp": 1731038675293,
     "user": {
      "displayName": "Mark",
      "userId": "05293542057377705486"
     },
     "user_tz": 300
    },
    "id": "NSj9y_w7_a4w"
   },
   "outputs": [],
   "source": [
    "X[\"children\"].value_counts()"
   ]
  },
  {
   "cell_type": "markdown",
   "metadata": {
    "id": "3qJxDXl9CWS_"
   },
   "source": [
    "To prepare our data, we can borrow a few classes from SciKit Learn"
   ]
  },
  {
   "cell_type": "code",
   "execution_count": null,
   "metadata": {
    "executionInfo": {
     "elapsed": 2,
     "status": "aborted",
     "timestamp": 1731038675401,
     "user": {
      "displayName": "Mark",
      "userId": "05293542057377705486"
     },
     "user_tz": 300
    },
    "id": "fWP5XD_dCa9M"
   },
   "outputs": [],
   "source": [
    "from sklearn.compose import make_column_transformer\n",
    "from sklearn.preprocessing import MinMaxScaler, OneHotEncoder\n",
    "from sklearn.model_selection import train_test_split\n",
    "\n",
    "#Create a column transformer\n",
    "ct = make_column_transformer(\n",
    "    (MinMaxScaler(), [\"age\", \"bmi\", \"children\"]), #Turn all values in these columns between 0 and 1\n",
    "    (OneHotEncoder(handle_unknown=\"ignore\"), [\"sex\", \"smoker\", \"region\"])\n",
    ")\n",
    "\n",
    "#Create X & y\n",
    "X = insurance.drop(\"charges\", axis=1)\n",
    "y = insurance[\"charges\"]\n",
    "\n",
    "# Build our train and test sets\n",
    "X_train, X_test, y_train, y_test = train_test_split(X, y, test_size=0.2, random_state=42)\n",
    "\n",
    "# Fit the column transformer to our training data\n",
    "ct.fit(X_train)\n",
    "\n",
    "# Transform training and test data with normalization (MinMaxScaler) and (OneHotEncoder)\n",
    "X_train_normal = ct.transform(X_train)\n",
    "X_test_normal = ct.transform(X_test)\n"
   ]
  },
  {
   "cell_type": "code",
   "execution_count": null,
   "metadata": {
    "executionInfo": {
     "elapsed": 2,
     "status": "aborted",
     "timestamp": 1731038675401,
     "user": {
      "displayName": "Mark",
      "userId": "05293542057377705486"
     },
     "user_tz": 300
    },
    "id": "3r2nrEtYFxX3"
   },
   "outputs": [],
   "source": [
    "# What does our data look like now?\n",
    "X_train.loc[0]"
   ]
  },
  {
   "cell_type": "code",
   "execution_count": null,
   "metadata": {
    "executionInfo": {
     "elapsed": 2,
     "status": "aborted",
     "timestamp": 1731038675401,
     "user": {
      "displayName": "Mark",
      "userId": "05293542057377705486"
     },
     "user_tz": 300
    },
    "id": "K6aDQ04BGMVw"
   },
   "outputs": [],
   "source": [
    "X_train_normal[0]"
   ]
  },
  {
   "cell_type": "code",
   "execution_count": null,
   "metadata": {
    "executionInfo": {
     "elapsed": 2,
     "status": "aborted",
     "timestamp": 1731038675401,
     "user": {
      "displayName": "Mark",
      "userId": "05293542057377705486"
     },
     "user_tz": 300
    },
    "id": "YeJutORKHvyG"
   },
   "outputs": [],
   "source": [
    "X_train.shape, X_train_normal.shape,"
   ]
  },
  {
   "cell_type": "markdown",
   "metadata": {
    "id": "bcoxsEfWIA6-"
   },
   "source": [
    "Beautiful! Our data has been normalized and One Hot Encoded.  Now let's build a neural network model on it and see how it goes."
   ]
  },
  {
   "cell_type": "code",
   "execution_count": null,
   "metadata": {
    "executionInfo": {
     "elapsed": 2,
     "status": "aborted",
     "timestamp": 1731038675401,
     "user": {
      "displayName": "Mark",
      "userId": "05293542057377705486"
     },
     "user_tz": 300
    },
    "id": "2ncg430HIOce"
   },
   "outputs": [],
   "source": [
    "\n",
    "#Set random seed\n",
    "tf.random.set_seed(42)\n",
    "\n",
    "#Create the model\n",
    "insurance_model_4 = tf.keras.Sequential([\n",
    "    tf.keras.layers.Dense(100),\n",
    "    tf.keras.layers.Dense(1)\n",
    "])\n",
    "\n",
    "#Compile the model\n",
    "insurance_model_4.compile(loss=tf.keras.losses.mae,\n",
    "                           optimizer=tf.keras.optimizers.SGD(),\n",
    "                           metrics=[\"mae\"])\n",
    "\n",
    "#fit the model\n",
    "insurance_model_4.fit(X_train_normal, y_train, epochs=100, verbose=1)"
   ]
  },
  {
   "cell_type": "code",
   "execution_count": null,
   "metadata": {
    "executionInfo": {
     "elapsed": 1,
     "status": "aborted",
     "timestamp": 1731038675401,
     "user": {
      "displayName": "Mark",
      "userId": "05293542057377705486"
     },
     "user_tz": 300
    },
    "id": "4_n3k_8lHMMi"
   },
   "outputs": [],
   "source": [
    "#Set random seed\n",
    "tf.random.set_seed(42)\n",
    "\n",
    "#Create the model\n",
    "insurance_model_5 = tf.keras.Sequential([\n",
    "    tf.keras.layers.Dense(200),\n",
    "    tf.keras.layers.Dense(200),\n",
    "    #tf.keras.layers.Dense(100),\n",
    "    tf.keras.layers.Dense(1)\n",
    "])\n",
    "\n",
    "#Compile the model\n",
    "insurance_model_5.compile(loss=tf.keras.losses.mae,\n",
    "                           optimizer=tf.keras.optimizers.Adam(learning_rate=0.01),\n",
    "                           metrics=[\"mae\"])\n",
    "\n",
    "#fit the model\n",
    "insurance_model_5.fit(X_train_normal, y_train, epochs=100, verbose=1)"
   ]
  },
  {
   "cell_type": "code",
   "execution_count": null,
   "metadata": {
    "executionInfo": {
     "elapsed": 1,
     "status": "aborted",
     "timestamp": 1731038675401,
     "user": {
      "displayName": "Mark",
      "userId": "05293542057377705486"
     },
     "user_tz": 300
    },
    "id": "pOpyfxoPOqqz"
   },
   "outputs": [],
   "source": [
    "#Evaluate your insurance model trained on normalized data\n",
    "insurance_model_4.evaluate(X_test_normal, y_test)\n",
    "\n",
    "#insurance_model_2 results:\n",
    "#9/9 [==============================] - 0s 2ms/step - loss: 4970.4058 - mae: 4970.4058"
   ]
  },
  {
   "cell_type": "code",
   "execution_count": null,
   "metadata": {
    "executionInfo": {
     "elapsed": 1,
     "status": "aborted",
     "timestamp": 1731038675401,
     "user": {
      "displayName": "Mark",
      "userId": "05293542057377705486"
     },
     "user_tz": 300
    },
    "id": "bExJDViJTaVC"
   },
   "outputs": [],
   "source": [
    "'''(X_train, y_train), (X_test, y_test) = tf.keras.datasets.boston_housing.load_data(\n",
    "    path='boston_housing.npz', test_split=0.2, seed=113\n",
    ")\n",
    "X_train, y_train, X_test, y_test'''"
   ]
  },
  {
   "cell_type": "code",
   "execution_count": null,
   "metadata": {
    "executionInfo": {
     "elapsed": 1,
     "status": "aborted",
     "timestamp": 1731038675401,
     "user": {
      "displayName": "Mark",
      "userId": "05293542057377705486"
     },
     "user_tz": 300
    },
    "id": "o3MAzEt8SoOj"
   },
   "outputs": [],
   "source": [
    "'''\n",
    "# Model based on Boston Housing dataset.\n",
    "\n",
    "#Set random seed\n",
    "tf.random_set_seed(42)\n",
    "\n",
    "#1. Create the model\n",
    "boston_housing_model = tf.keras.Sequential([\n",
    "    tf.keras.layers.Dense(100),\n",
    "    tf.keras.layers.Dense(1)\n",
    "])\n",
    "\n",
    "#2. Compile the model\n",
    "boston_housing_model.compile(loss=tf.keras.losses.mae(),\n",
    "                             optimizer=tf.keras.optimizers.SGD(),\n",
    "                             metrics=[\"mae\"])\n",
    "\n",
    "#3. Fit the model\n",
    "boston_housing.model.fit()\n",
    "'''"
   ]
  }
 ],
 "metadata": {
  "colab": {
   "authorship_tag": "ABX9TyOPHMk4BCNoVSHpu/f4uhE3",
   "mount_file_id": "13bQmmQEUr6YDxQs74EKOWVb0_DSZmNLQ",
   "provenance": [],
   "toc_visible": true
  },
  "kernelspec": {
   "display_name": "Python 3",
   "name": "python3"
  },
  "language_info": {
   "name": "python"
  }
 },
 "nbformat": 4,
 "nbformat_minor": 0
}
